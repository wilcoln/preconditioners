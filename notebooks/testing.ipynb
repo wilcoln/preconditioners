{
 "cells": [
  {
   "cell_type": "code",
   "execution_count": 6,
   "metadata": {},
   "outputs": [],
   "source": [
    "from datetime import datetime as dt\n",
    "import numpy as np\n",
    "import torch\n",
    "\n",
    "from matplotlib import pyplot as plt\n",
    "from torch.utils.data import random_split\n",
    "\n",
    "from preconditioners import settings\n",
    "from preconditioners.datasets import generate_true_parameter, CenteredLinearGaussianDataset, generate_true_parameter, generate_c\n",
    "from preconditioners.utils import MLP, SLP\n",
    "from preconditioners.optimizers import PrecondGD\n",
    "import preconditioners\n"
   ]
  },
  {
   "cell_type": "code",
   "execution_count": 7,
   "metadata": {},
   "outputs": [],
   "source": [
    "# Same as in linear_kernel_variance_30102022.ipynb (and if it is not, it should be)\n",
    "\n",
    "from preconditioners.datasets import generate_c, generate_centered_linear_gaussian_data, generate_true_parameter, generate_W_star\n",
    "\n",
    "def kernel_variance_interpolator(features : np.ndarray, P : np.ndarray, F : np.ndarray, sigma2 : np.float64) -> np.float64:\n",
    "    ''' Given Nxp feature matrix {features}, pxp symmetric preconditioner P and pxp true covariance matrix F, and the signal to noise ratio, this function returns the variance component of the risk \n",
    "    of the interpolator which is the limit of PGD which uses preconditioner P.'''\n",
    "    assert features.shape[1] == P.shape[0] == P.shape[1] == F.shape[0] == F.shape[1]\n",
    "    assert np.linalg.norm(P - P.T) < 1e-9, 'P must be symmetric.'\n",
    "\n",
    "    empirical_NTK = features.dot(P).dot(features.T)\n",
    "    empirical_NTK_inv = np.linalg.inv(empirical_NTK)\n",
    "    auxi_matrix = features.dot(P).dot(F).dot(P).dot(features.T)\n",
    "\n",
    "    return sigma2 * np.trace(empirical_NTK_inv.dot(auxi_matrix).dot(empirical_NTK_inv))"
   ]
  },
  {
   "cell_type": "code",
   "execution_count": 8,
   "metadata": {},
   "outputs": [],
   "source": [
    "# Adapted CheckEigenvalues class from src/preconditioners/eigenvalues/kernel_eigenvalues.py\n",
    "# with the linear gaussian dataset\n",
    "\n",
    "class Initializer:\n",
    "    def __init__(self,\n",
    "                width,\n",
    "                depth,\n",
    "                d,\n",
    "                lam,\n",
    "                train_size,\n",
    "                extra_size,\n",
    "                sigma2,\n",
    "                r2,\n",
    "                regime,\n",
    "                ro,\n",
    "                ):\n",
    "        # Network parameters\n",
    "        self.width = width\n",
    "        self.depth = depth\n",
    "        self.d = d\n",
    "        self.damping = lam * np.sqrt(self.d) if self.depth == 1 else lam * self.width\n",
    "\n",
    "        # Dataset parameters\n",
    "        self.train_size = train_size\n",
    "        self.extra_size = extra_size\n",
    "    \n",
    "        w_star = generate_true_parameter(self.d, r2, m=np.eye(self.d))\n",
    "        c = generate_c(ro, regime=regime, d=self.d) if self.depth > 1 else generate_c(ro, regime=regime, d=self.d) * np.sqrt(self.d) # we don't need to multiply by sqrt(d) if d > 1 because there c is not the Fisher\n",
    "        dataset = CenteredLinearGaussianDataset(w_star, c, n=self.train_size + self.extra_size, d=self.d, sigma2=sigma2)\n",
    "\n",
    "        self.train_dataset, self.extra_dataset = random_split(dataset, [self.train_size, self.extra_size])\n",
    "        self.labeled_data = self.train_dataset[:][0].double().to(settings.DEVICE)\n",
    "        self.unlabeled_data = self.extra_dataset[:][0].double().to(settings.DEVICE)\n",
    "\n",
    "    def create_model(self):\n",
    "        std = 1/ np.sqrt(self.width)\n",
    "\n",
    "        # Create model and optimizer\n",
    "        if self.depth == 1:\n",
    "            self.model = SLP(in_channels=self.d).double().to(settings.DEVICE)\n",
    "        else:\n",
    "            self.model = MLP(in_channels=self.d, num_layers=self.depth, hidden_channels=self.width, std=std).double().to(settings.DEVICE)\n",
    "        self.optimizer = PrecondGD(self.model, lr=1e-2, labeled_data=self.labeled_data, unlabeled_data=self.unlabeled_data, verbose=False, damping=self.damping)\n",
    "\n",
    "    def get_features_and_p_inv(self):\n",
    "        self.create_model()\n",
    "        p_inv = self.optimizer._compute_p_inv()\n",
    "        grad = self.optimizer._compute_grad_of_data(self.labeled_data)\n",
    "        return grad, p_inv"
   ]
  },
  {
   "cell_type": "code",
   "execution_count": 22,
   "metadata": {},
   "outputs": [],
   "source": []
  },
  {
   "cell_type": "code",
   "execution_count": 29,
   "metadata": {},
   "outputs": [
    {
     "name": "stdout",
     "output_type": "stream",
     "text": [
      "0.01968730569679145\n"
     ]
    }
   ],
   "source": [
    "## Test that I get the same results if the MLP is a linear network.\n",
    "\n",
    "import random\n",
    "seed = 0\n",
    "torch.manual_seed(seed)\n",
    "torch.cuda.manual_seed(seed)\n",
    "torch.cuda.manual_seed_all(seed)\n",
    "np.random.seed(seed)\n",
    "random.seed(seed)\n",
    "\n",
    "N = 20\n",
    "sigma2 = 2\n",
    "ro = 0.9\n",
    "n_ds = 10\n",
    "n_lams = 10\n",
    "ds = [int(x) for x in np.linspace(2*N,65*N,n_ds)]\n",
    "ams = np.linspace(0.1,10,n_lams)\n",
    "lams = np.logspace(1, -2, num=n_lams, endpoint=True, base=10.0)\n",
    "\n",
    "d = 50\n",
    "lam = 0.1\n",
    "\n",
    "# linear\n",
    "damping = lam * np.sqrt(d)\n",
    "c = np.sqrt(d) * generate_c(ro=ro, regime='autoregressive', d=d)\n",
    "X = np.random.multivariate_normal(mean=np.zeros(d), cov=c, size=N)\n",
    "P_damped = np.linalg.inv(c + damping*np.eye(d))\n",
    "P_ngd = np.linalg.inv(c)\n",
    "\n",
    "# get it through the initializer\n",
    "i = Initializer(width = 1,\n",
    "                depth = 1,\n",
    "                d = d,\n",
    "                lam = lam,\n",
    "                train_size = N,\n",
    "                extra_size = N+10000,\n",
    "                sigma2 = sigma2,\n",
    "                r2 = 1,\n",
    "                regime = 'autoregressive',\n",
    "                ro = ro)\n",
    "\n",
    "grad, F_inv = i.get_features_and_p_inv()\n",
    "\n",
    "# good enough\n",
    "print(np.linalg.norm(F_inv - P_damped)/np.sqrt(F_inv.shape[0]))\n",
    "\n",
    "i = Initializer(width = 1,\n",
    "                depth = 1,\n",
    "                d = d,\n",
    "                lam = lam,\n",
    "                train_size = N,\n",
    "                extra_size = N+10000,\n",
    "                sigma2 = sigma2,\n",
    "                r2 = 1,\n",
    "                regime = 'autoregressive',\n",
    "                ro = ro)\n",
    "\n",
    "grad_2, F_inv_2 = i.get_features_and_p_inv()"
   ]
  },
  {
   "cell_type": "code",
   "execution_count": 30,
   "metadata": {},
   "outputs": [
    {
     "data": {
      "text/plain": [
       "tensor([[-1.2327, -1.4528, -0.8313],\n",
       "        [ 2.7773,  3.6217,  4.0523],\n",
       "        [-2.6389, -2.3438, -1.6241]], dtype=torch.float64)"
      ]
     },
     "execution_count": 30,
     "metadata": {},
     "output_type": "execute_result"
    }
   ],
   "source": [
    "grad[:3,:3]"
   ]
  },
  {
   "cell_type": "code",
   "execution_count": 31,
   "metadata": {},
   "outputs": [
    {
     "data": {
      "text/plain": [
       "tensor([[-2.4743, -3.1465, -2.9019],\n",
       "        [-4.7405, -5.2675, -6.3885],\n",
       "        [-2.4629, -1.6010,  0.1426]], dtype=torch.float64)"
      ]
     },
     "execution_count": 31,
     "metadata": {},
     "output_type": "execute_result"
    }
   ],
   "source": [
    "grad_2[:3,:3]"
   ]
  },
  {
   "cell_type": "code",
   "execution_count": 7,
   "metadata": {},
   "outputs": [
    {
     "name": "stdout",
     "output_type": "stream",
     "text": [
      "iteration 1 of 25\n"
     ]
    },
    {
     "name": "stderr",
     "output_type": "stream",
     "text": [
      "/opt/anaconda3/envs/preconditioners_new/lib/python3.9/site-packages/torch/nn/functional.py:1956: UserWarning: nn.functional.tanh is deprecated. Use torch.tanh instead.\n",
      "  warnings.warn(\"nn.functional.tanh is deprecated. Use torch.tanh instead.\")\n"
     ]
    },
    {
     "name": "stdout",
     "output_type": "stream",
     "text": [
      "10.645611388572176\n",
      "iteration 2 of 25\n",
      "11.258304248922917\n",
      "iteration 3 of 25\n",
      "12.828472675346518\n",
      "iteration 4 of 25\n",
      "10.208359836407912\n",
      "iteration 5 of 25\n",
      "9.603308043683251\n",
      "iteration 6 of 25\n"
     ]
    }
   ],
   "source": [
    "import matplotlib.pyplot as plt\n",
    "import numpy as np\n",
    "\n",
    "N = 20\n",
    "d = 25\n",
    "sigma2 = 2\n",
    "ro = 0.9\n",
    "n_ns = 5\n",
    "n_lams = 5\n",
    "variances_damped = np.zeros((n_ns,n_lams))\n",
    "variances_ngd = np.zeros((n_ns,n_lams))\n",
    "variances_diff = np.zeros((n_ns,n_lams))    \n",
    "\n",
    "ns = [int(x) for x in np.linspace(1*N,5*N,n_ns)]\n",
    "ams = np.linspace(0.1,10,n_lams)\n",
    "lams = np.logspace(1, -2, num=n_lams, endpoint=True, base=10.0)\n",
    "dampings = []\n",
    "\n",
    "k = 0\n",
    "for i in range(n_ns):\n",
    "    for j in range(n_lams):\n",
    "        k = k+1\n",
    "        print(f'iteration {k} of {n_ns*n_lams}')\n",
    "        n = ns[i]\n",
    "        lam = lams[j]\n",
    "        damping = lam * n # TODO: check if multiplying by n is correct\n",
    "        dampings.append(damping)\n",
    "        \n",
    "\n",
    "        params = {\n",
    "            'width' : n,\n",
    "            'depth' : 2,\n",
    "            'd' : d,\n",
    "            'lam' : lam,\n",
    "            'train_size' : N,\n",
    "            'extra_size' : N+10000,\n",
    "            'sigma2' : sigma2,\n",
    "            'r2' : 1,\n",
    "            'regime' : 'autoregressive',\n",
    "            'ro' : ro\n",
    "        }\n",
    "        i_damped = Initializer(**params)\n",
    "        grad_damped, p_inv_damped = [x.numpy() for x in i_damped.get_features_and_p_inv()]\n",
    "        \n",
    "        params['lam'] = 1e-7 # not zero to avoid division by zero\n",
    "\n",
    "        i_ngd = Initializer(**params)\n",
    "        grad_ngd, p_inv_ngd = [x.numpy() for x in i_ngd.get_features_and_p_inv()]\n",
    "\n",
    "        print(np.linalg.norm(grad_ngd - grad_damped))\n",
    "        \n",
    "        # TODO: fix passing F not np.linalg.inv(p_inv_ngd)\n",
    "        variances_damped[i, j] = kernel_variance_interpolator(features=grad_damped, P=p_inv_damped, F=np.linalg.inv(p_inv_ngd), sigma2=sigma2) \n",
    "        variances_ngd[i, j] = kernel_variance_interpolator(features=grad_ngd, P=p_inv_ngd, F=np.linalg.inv(p_inv_ngd), sigma2=sigma2)\n",
    "        variances_diff = variances_damped - variances_ngd"
   ]
  },
  {
   "cell_type": "code",
   "execution_count": null,
   "metadata": {},
   "outputs": [
    {
     "data": {
      "text/plain": [
       "array([[-0.00358468, -0.00322679, -0.01527546, ...,  0.04347398,\n",
       "        -0.06880903, -0.02245111],\n",
       "       [ 0.02048103,  0.02853543,  0.02552622, ...,  0.1125819 ,\n",
       "        -0.2873963 , -0.13746353],\n",
       "       [-0.00093891,  0.00550843, -0.00034676, ...,  0.05106268,\n",
       "        -0.03735116, -0.02997937],\n",
       "       ...,\n",
       "       [ 0.00709804, -0.00679037, -0.00532483, ...,  0.10206106,\n",
       "        -0.12350283, -0.10796543],\n",
       "       [-0.01073396, -0.0128058 , -0.01009348, ...,  0.14142892,\n",
       "        -0.10394664, -0.09978104],\n",
       "       [ 0.01853412,  0.01837061,  0.01103577, ...,  0.0870007 ,\n",
       "        -0.20863698, -0.04940057]])"
      ]
     },
     "execution_count": 34,
     "metadata": {},
     "output_type": "execute_result"
    }
   ],
   "source": [
    "grad_ngd"
   ]
  },
  {
   "cell_type": "code",
   "execution_count": null,
   "metadata": {},
   "outputs": [
    {
     "data": {
      "text/plain": [
       "array([[-0.00135215, -0.00128608, -0.00149027, ...,  0.01053531,\n",
       "        -0.1625023 , -0.13515837],\n",
       "       [ 0.00116638,  0.00056321,  0.0010735 , ..., -0.04372703,\n",
       "        -0.0445275 , -0.10060484],\n",
       "       [-0.00127206, -0.0019952 , -0.00158687, ...,  0.1901143 ,\n",
       "        -0.15624473, -0.16894681],\n",
       "       ...,\n",
       "       [-0.00088358, -0.00123894, -0.00070368, ...,  0.04092212,\n",
       "        -0.09254868, -0.07356246],\n",
       "       [-0.00232017, -0.00192996, -0.00088767, ..., -0.13793412,\n",
       "        -0.099516  , -0.14595394],\n",
       "       [ 0.00121869,  0.00048345, -0.00045415, ...,  0.1264247 ,\n",
       "        -0.16676855, -0.05046696]])"
      ]
     },
     "execution_count": 35,
     "metadata": {},
     "output_type": "execute_result"
    }
   ],
   "source": [
    "grad_damped"
   ]
  },
  {
   "cell_type": "code",
   "execution_count": null,
   "metadata": {},
   "outputs": [
    {
     "data": {
      "text/plain": [
       "array([10.        ,  0.31622777,  0.01      ])"
      ]
     },
     "execution_count": 29,
     "metadata": {},
     "output_type": "execute_result"
    }
   ],
   "source": [
    "lams"
   ]
  },
  {
   "cell_type": "code",
   "execution_count": null,
   "metadata": {},
   "outputs": [
    {
     "name": "stdout",
     "output_type": "stream",
     "text": [
      "[ 8.15310612 22.76365907  5.22575163]\n",
      "[19.91618543 14.08470831 19.2265321 ]\n"
     ]
    }
   ],
   "source": [
    "print(variances_diff[0,:])\n",
    "print(variances_diff[-1,:])\n"
   ]
  },
  {
   "cell_type": "code",
   "execution_count": null,
   "metadata": {},
   "outputs": [
    {
     "name": "stdout",
     "output_type": "stream",
     "text": [
      "[ 8.15310612 32.90451908 19.91618543]\n",
      "[ 5.22575163 10.27530733 19.2265321 ]\n"
     ]
    }
   ],
   "source": [
    "print(variances_diff[:,0])\n",
    "print(variances_diff[:,-1])"
   ]
  },
  {
   "cell_type": "code",
   "execution_count": null,
   "metadata": {},
   "outputs": [
    {
     "data": {
      "text/plain": [
       "<AxesSubplot: >"
      ]
     },
     "execution_count": 32,
     "metadata": {},
     "output_type": "execute_result"
    },
    {
     "data": {
      "image/png": "[encoded data removed]",
      "text/plain": [
       "<Figure size 640x480 with 2 Axes>"
      ]
     },
     "metadata": {},
     "output_type": "display_data"
    }
   ],
   "source": [
    "import seaborn as sns\n",
    "sns.heatmap(variances_diff, cmap='viridis', xticklabels=[round(x, 1) for x in lams], yticklabels=ds)"
   ]
  },
  {
   "cell_type": "code",
   "execution_count": null,
   "metadata": {},
   "outputs": [],
   "source": [
    "#######################################################################################################\n",
    "#######################################################################################################\n"
   ]
  },
  {
   "cell_type": "code",
   "execution_count": 61,
   "metadata": {},
   "outputs": [],
   "source": [
    "# TODO: Triple check that we are computing the inverse well now and that we were doing it wrong before. Because the tests were passing before."
   ]
  }
 ],
 "metadata": {
  "kernelspec": {
   "display_name": "Python 3.9.15 ('preconditioners_new')",
   "language": "python",
   "name": "python3"
  },
  "language_info": {
   "codemirror_mode": {
    "name": "ipython",
    "version": 3
   },
   "file_extension": ".py",
   "mimetype": "text/x-python",
   "name": "python",
   "nbconvert_exporter": "python",
   "pygments_lexer": "ipython3",
   "version": "3.9.15"
  },
  "orig_nbformat": 4,
  "vscode": {
   "interpreter": {
    "hash": "5754338c7b61426a7939cdf73e45c35457822703652978ce6bf9eb7755ad6b2c"
   }
  }
 },
 "nbformat": 4,
 "nbformat_minor": 2
}
