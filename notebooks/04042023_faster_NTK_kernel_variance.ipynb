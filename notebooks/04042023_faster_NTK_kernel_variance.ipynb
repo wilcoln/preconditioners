{
 "cells": [
  {
   "cell_type": "code",
   "execution_count": 1,
   "metadata": {},
   "outputs": [],
   "source": [
    "from datetime import datetime as dt\n",
    "import numpy as np\n",
    "import torch\n",
    "\n",
    "from matplotlib import pyplot as plt\n",
    "from torch.utils.data import random_split\n",
    "\n",
    "from preconditioners import settings\n",
    "from preconditioners.datasets import generate_true_parameter, CenteredLinearGaussianDataset, generate_true_parameter, generate_c\n",
    "from preconditioners.utils import MLP, SLP\n",
    "from preconditioners.optimizers import PrecondGD\n",
    "import preconditioners\n",
    "import multiprocessing, threading\n"
   ]
  },
  {
   "cell_type": "code",
   "execution_count": 2,
   "metadata": {},
   "outputs": [],
   "source": [
    "# Same as in linear_kernel_variance_30102022.ipynb (and if it is not, it should be)\n",
    "\n",
    "from preconditioners.datasets import generate_c, generate_centered_linear_gaussian_data, generate_true_parameter, generate_W_star\n",
    "\n",
    "def kernel_variance_interpolator(features : np.ndarray, P : np.ndarray, F : np.ndarray, sigma2 : np.float64) -> np.float64:\n",
    "    ''' Given Nxp feature matrix {features}, pxp symmetric preconditioner P and pxp true covariance matrix F, and the signal to noise ratio, this function returns the variance component of the risk \n",
    "    of the interpolator which is the limit of PGD which uses preconditioner P.'''\n",
    "    assert features.shape[1] == P.shape[0] == P.shape[1] == F.shape[0] == F.shape[1]\n",
    "    assert abs(P - P.T).mean() < 1e-4, 'P must be symmetric.'\n",
    "\n",
    "    empirical_NTK = features.dot(P).dot(features.T)\n",
    "    empirical_NTK_inv = np.linalg.inv(empirical_NTK)\n",
    "    auxi_matrix = features.dot(P).dot(F).dot(P).dot(features.T)\n",
    "\n",
    "    return sigma2 * np.trace(empirical_NTK_inv.dot(auxi_matrix).dot(empirical_NTK_inv))"
   ]
  },
  {
   "cell_type": "code",
   "execution_count": 3,
   "metadata": {},
   "outputs": [],
   "source": [
    "# Adapted CheckEigenvalues class from src/preconditioners/eigenvalues/kernel_eigenvalues.py\n",
    "# with the linear gaussian dataset\n",
    "\n",
    "class Initializer:\n",
    "    def __init__(self,\n",
    "                width,\n",
    "                depth,\n",
    "                d,\n",
    "                #lam,\n",
    "                train_size,\n",
    "                extra_size,\n",
    "                sigma2,\n",
    "                r2,\n",
    "                regime,\n",
    "                ro,\n",
    "                ):\n",
    "        # Network parameters\n",
    "        self.width = width\n",
    "        self.depth = depth\n",
    "        self.d = d\n",
    "        #self.damping = lam * np.sqrt(self.d) if self.depth == 1 else lam * self.width\n",
    "        self.damping = 0\n",
    "\n",
    "        # Dataset parameters\n",
    "        self.train_size = train_size\n",
    "        self.extra_size = extra_size\n",
    "\n",
    "        w_star = generate_true_parameter(self.d, r2, m=np.eye(self.d))\n",
    "        c = generate_c(ro, regime=regime, d=self.d) if self.depth > 1 else generate_c(ro, regime=regime, d=self.d) * np.sqrt(self.d) # we don't need to multiply by sqrt(d) if d > 1 because there c is not the Fisher\n",
    "        dataset = CenteredLinearGaussianDataset(w_star, c, n=self.train_size + self.extra_size, d=self.d, sigma2=sigma2)\n",
    "\n",
    "        self.train_dataset, self.extra_dataset = random_split(dataset, [self.train_size, self.extra_size])\n",
    "        self.labeled_data = self.train_dataset[:][0].double().to(settings.DEVICE)\n",
    "        self.unlabeled_data = self.extra_dataset[:][0].double().to(settings.DEVICE)\n",
    "\n",
    "    def create_model(self):\n",
    "        std = 1\n",
    "        #std = 1/ np.sqrt(self.width)\n",
    "\n",
    "        # Create model and optimizer\n",
    "        if self.depth == 1:\n",
    "            self.model = SLP(in_channels=self.d).double().to(settings.DEVICE)\n",
    "        else:\n",
    "            self.model = MLP(in_channels=self.d, num_layers=self.depth, hidden_channels=self.width, std=std).double().to(settings.DEVICE)\n",
    "        self.optimizer = PrecondGD(self.model, lr=1e-2, labeled_data=self.labeled_data, unlabeled_data=self.unlabeled_data, verbose=False, damping=self.damping)\n",
    "\n",
    "    def get_features_and_p_inv(self):\n",
    "         self.create_model()\n",
    "         p_inv = self.optimizer._compute_p_inv()\n",
    "         grad = self.optimizer._compute_grad_of_data(self.labeled_data)\n",
    "         return grad, p_inv\n",
    "\n",
    "    def get_features_and_F(self):\n",
    "        self.create_model()\n",
    "        F = self.optimizer._compute_fisher()\n",
    "        grad = self.optimizer._compute_grad_of_data(self.labeled_data)\n",
    "        return grad, F"
   ]
  },
  {
   "cell_type": "code",
   "execution_count": 16,
   "metadata": {},
   "outputs": [
    {
     "name": "stderr",
     "output_type": "stream",
     "text": [
      "/Users/eduardoravkin/Desktop/ml_research/phd/preconditioners/src/preconditioners/datasets.py:153: UserWarning: Warning, norms of datapoints are not sqrt(d)\n",
      "  warnings.warn('Warning, norms of datapoints are not sqrt(d)')\n",
      "/usr/local/Caskroom/miniforge/base/envs/preconditioners/lib/python3.9/site-packages/torch/nn/functional.py:1795: UserWarning: nn.functional.tanh is deprecated. Use torch.tanh instead.\n",
      "  warnings.warn(\"nn.functional.tanh is deprecated. Use torch.tanh instead.\")\n"
     ]
    },
    {
     "name": "stdout",
     "output_type": "stream",
     "text": [
      " \n",
      "--------------------------------------------------\n",
      "iteration 1 of 65\n",
      "p = 51\n",
      "damping = 3.0\n",
      " \n",
      "--------------------------------------------------\n",
      "iteration 2 of 65\n",
      "p = 51\n",
      "damping = 0.30000000000000004\n",
      " \n",
      "--------------------------------------------------\n",
      "iteration 3 of 65\n",
      "p = 51\n",
      "damping = 0.03\n",
      " \n",
      "--------------------------------------------------\n",
      "iteration 4 of 65\n",
      "p = 51\n",
      "damping = 0.003\n",
      " \n",
      "--------------------------------------------------\n",
      "iteration 5 of 65\n",
      "p = 51\n",
      "damping = 0.00030000000000000003\n",
      " \n",
      "--------------------------------------------------\n",
      "iteration 6 of 65\n",
      "p = 85\n",
      "damping = 5.0\n",
      " \n",
      "--------------------------------------------------\n",
      "iteration 7 of 65\n",
      "p = 85\n",
      "damping = 0.5\n",
      " \n",
      "--------------------------------------------------\n",
      "iteration 8 of 65\n",
      "p = 85\n",
      "damping = 0.05\n",
      " \n",
      "--------------------------------------------------\n",
      "iteration 9 of 65\n",
      "p = 85\n",
      "damping = 0.005\n",
      " \n",
      "--------------------------------------------------\n",
      "iteration 10 of 65\n",
      "p = 85\n",
      "damping = 0.0005\n",
      " \n",
      "--------------------------------------------------\n",
      "iteration 11 of 65\n",
      "p = 119\n",
      "damping = 7.0\n",
      " \n",
      "--------------------------------------------------\n",
      "iteration 12 of 65\n",
      "p = 119\n",
      "damping = 0.7000000000000001\n",
      " \n",
      "--------------------------------------------------\n",
      "iteration 13 of 65\n",
      "p = 119\n",
      "damping = 0.07\n",
      " \n",
      "--------------------------------------------------\n",
      "iteration 14 of 65\n",
      "p = 119\n",
      "damping = 0.007\n",
      " \n",
      "--------------------------------------------------\n",
      "iteration 15 of 65\n",
      "p = 119\n",
      "damping = 0.0007\n",
      " \n",
      "--------------------------------------------------\n",
      "iteration 16 of 65\n",
      "p = 153\n",
      "damping = 9.0\n",
      " \n",
      "--------------------------------------------------\n",
      "iteration 17 of 65\n",
      "p = 153\n",
      "damping = 0.9\n",
      " \n",
      "--------------------------------------------------\n",
      "iteration 18 of 65\n",
      "p = 153\n",
      "damping = 0.09\n",
      " \n",
      "--------------------------------------------------\n",
      "iteration 19 of 65\n",
      "p = 153\n",
      "damping = 0.009000000000000001\n",
      " \n",
      "--------------------------------------------------\n",
      "iteration 20 of 65\n",
      "p = 153\n",
      "damping = 0.0009000000000000001\n",
      " \n",
      "--------------------------------------------------\n",
      "iteration 21 of 65\n",
      "p = 187\n",
      "damping = 11.0\n",
      " \n",
      "--------------------------------------------------\n",
      "iteration 22 of 65\n",
      "p = 187\n",
      "damping = 1.1\n",
      " \n",
      "--------------------------------------------------\n",
      "iteration 23 of 65\n",
      "p = 187\n",
      "damping = 0.11\n",
      " \n",
      "--------------------------------------------------\n",
      "iteration 24 of 65\n",
      "p = 187\n",
      "damping = 0.011\n",
      " \n",
      "--------------------------------------------------\n",
      "iteration 25 of 65\n",
      "p = 187\n",
      "damping = 0.0011\n",
      " \n",
      "--------------------------------------------------\n",
      "iteration 26 of 65\n",
      "p = 221\n",
      "damping = 13.0\n",
      " \n",
      "--------------------------------------------------\n",
      "iteration 27 of 65\n",
      "p = 221\n",
      "damping = 1.3\n",
      " \n",
      "--------------------------------------------------\n",
      "iteration 28 of 65\n",
      "p = 221\n",
      "damping = 0.13\n",
      " \n",
      "--------------------------------------------------\n",
      "iteration 29 of 65\n",
      "p = 221\n",
      "damping = 0.013000000000000001\n",
      " \n",
      "--------------------------------------------------\n",
      "iteration 30 of 65\n",
      "p = 221\n",
      "damping = 0.0013000000000000002\n",
      " \n",
      "--------------------------------------------------\n",
      "iteration 31 of 65\n",
      "p = 255\n",
      "damping = 15.0\n",
      " \n",
      "--------------------------------------------------\n",
      "iteration 32 of 65\n",
      "p = 255\n",
      "damping = 1.5\n",
      " \n",
      "--------------------------------------------------\n",
      "iteration 33 of 65\n",
      "p = 255\n",
      "damping = 0.15\n",
      " \n",
      "--------------------------------------------------\n",
      "iteration 34 of 65\n",
      "p = 255\n",
      "damping = 0.015\n",
      " \n",
      "--------------------------------------------------\n",
      "iteration 35 of 65\n",
      "p = 255\n",
      "damping = 0.0015\n",
      " \n",
      "--------------------------------------------------\n",
      "iteration 36 of 65\n",
      "p = 289\n",
      "damping = 17.0\n",
      " \n",
      "--------------------------------------------------\n",
      "iteration 37 of 65\n",
      "p = 289\n",
      "damping = 1.7000000000000002\n",
      " \n",
      "--------------------------------------------------\n",
      "iteration 38 of 65\n",
      "p = 289\n",
      "damping = 0.17\n",
      " \n",
      "--------------------------------------------------\n",
      "iteration 39 of 65\n",
      "p = 289\n",
      "damping = 0.017\n",
      " \n",
      "--------------------------------------------------\n",
      "iteration 40 of 65\n",
      "p = 289\n",
      "damping = 0.0017000000000000001\n",
      " \n",
      "--------------------------------------------------\n",
      "iteration 41 of 65\n",
      "p = 323\n",
      "damping = 19.0\n",
      " \n",
      "--------------------------------------------------\n",
      "iteration 42 of 65\n",
      "p = 323\n",
      "damping = 1.9000000000000001\n",
      " \n",
      "--------------------------------------------------\n",
      "iteration 43 of 65\n",
      "p = 323\n",
      "damping = 0.19\n",
      " \n",
      "--------------------------------------------------\n",
      "iteration 44 of 65\n",
      "p = 323\n",
      "damping = 0.019\n",
      " \n",
      "--------------------------------------------------\n",
      "iteration 45 of 65\n",
      "p = 323\n",
      "damping = 0.0019\n",
      " \n",
      "--------------------------------------------------\n",
      "iteration 46 of 65\n",
      "p = 357\n",
      "damping = 21.0\n",
      " \n",
      "--------------------------------------------------\n",
      "iteration 47 of 65\n",
      "p = 357\n",
      "damping = 2.1\n",
      " \n",
      "--------------------------------------------------\n",
      "iteration 48 of 65\n",
      "p = 357\n",
      "damping = 0.21\n",
      " \n",
      "--------------------------------------------------\n",
      "iteration 49 of 65\n",
      "p = 357\n",
      "damping = 0.021\n",
      " \n",
      "--------------------------------------------------\n",
      "iteration 50 of 65\n",
      "p = 357\n",
      "damping = 0.0021000000000000003\n",
      " \n",
      "--------------------------------------------------\n",
      "iteration 51 of 65\n",
      "p = 391\n",
      "damping = 23.0\n",
      " \n",
      "--------------------------------------------------\n",
      "iteration 52 of 65\n",
      "p = 391\n",
      "damping = 2.3000000000000003\n",
      " \n",
      "--------------------------------------------------\n",
      "iteration 53 of 65\n",
      "p = 391\n",
      "damping = 0.23\n",
      " \n",
      "--------------------------------------------------\n",
      "iteration 54 of 65\n",
      "p = 391\n",
      "damping = 0.023\n",
      " \n",
      "--------------------------------------------------\n",
      "iteration 55 of 65\n",
      "p = 391\n",
      "damping = 0.0023\n",
      " \n",
      "--------------------------------------------------\n",
      "iteration 56 of 65\n",
      "p = 425\n",
      "damping = 25.0\n",
      " \n",
      "--------------------------------------------------\n",
      "iteration 57 of 65\n",
      "p = 425\n",
      "damping = 2.5\n",
      " \n",
      "--------------------------------------------------\n",
      "iteration 58 of 65\n",
      "p = 425\n",
      "damping = 0.25\n",
      " \n",
      "--------------------------------------------------\n",
      "iteration 59 of 65\n",
      "p = 425\n",
      "damping = 0.025\n",
      " \n",
      "--------------------------------------------------\n",
      "iteration 60 of 65\n",
      "p = 425\n",
      "damping = 0.0025\n",
      " \n",
      "--------------------------------------------------\n",
      "iteration 61 of 65\n",
      "p = 459\n",
      "damping = 27.0\n",
      " \n",
      "--------------------------------------------------\n",
      "iteration 62 of 65\n",
      "p = 459\n",
      "damping = 2.7\n",
      " \n",
      "--------------------------------------------------\n",
      "iteration 63 of 65\n",
      "p = 459\n",
      "damping = 0.27\n",
      " \n",
      "--------------------------------------------------\n",
      "iteration 64 of 65\n",
      "p = 459\n",
      "damping = 0.027\n",
      " \n",
      "--------------------------------------------------\n",
      "iteration 65 of 65\n",
      "p = 459\n",
      "damping = 0.0027\n"
     ]
    }
   ],
   "source": [
    "import matplotlib.pyplot as plt\n",
    "import numpy as np\n",
    "\n",
    "N = 10\n",
    "N_extra = 300000\n",
    "d = 15\n",
    "sigma2 = 2\n",
    "ro = 0.9\n",
    "#n_ns = 5\n",
    "#n_lams = 1\n",
    "#ns = [int(x) for x in np.linspace(int(np.sqrt(1.5*N)),int(np.sqrt(8*N)),n_ns)]\n",
    "ns = [3,5,7,9,11,13,15,17,19,21,23,25,27]\n",
    "n_ns = len(ns)\n",
    "ps = []\n",
    "#lams = np.logspace(0, -5, num=n_lams, endpoint=True, base=10.0)\n",
    "lams = [1.0, 0.1, 0.01, 0.001, 0.0001]\n",
    "n_lams = len(lams)\n",
    "#lams = [1.0]\n",
    "variances_damped = np.zeros((n_ns,n_lams))\n",
    "variances_ngd = np.zeros((n_ns,n_lams))\n",
    "variances_diff = np.zeros((n_ns,n_lams))    \n",
    "largest_eigval_F_div_n = np.zeros((n_ns,n_lams))\n",
    "dampings = []\n",
    "\n",
    "k = 0\n",
    "for i in range(n_ns):\n",
    "    n = ns[i]\n",
    "    params = {\n",
    "            'width' : n,\n",
    "            'depth' : 2,\n",
    "            'd' : d,\n",
    "            #'lam' : -10000000, # damping does not matter here if we are not using .get_features_and_p_inv()\n",
    "            'train_size' : N,\n",
    "            'extra_size' : N_extra,\n",
    "            'sigma2' : sigma2,\n",
    "            'r2' : 1,\n",
    "            'regime' : 'autoregressive',\n",
    "            'ro' : ro\n",
    "        }\n",
    "    ini = Initializer(**params)\n",
    "    features, F_extra = [x.numpy() for x in ini.get_features_and_F()]\n",
    "    p = F_extra.shape[0]\n",
    "    ps.append(p)\n",
    "    P_ngd = np.linalg.inv(F_extra)\n",
    "\n",
    "    ### TODO: There is an error here!! this eigenvalue (divided by n) is decreasing with n, but it should be constant.\n",
    "    ### check if I'm doing the right parametrization!!!\n",
    "\n",
    "    \n",
    "    e_F_div_n = np.linalg.eigvalsh(F_extra)[-1]#/n\n",
    "    v_ngd = kernel_variance_interpolator(features=features, P=P_ngd, F=F_extra, sigma2=sigma2)\n",
    "\n",
    "    for j in range(n_lams):\n",
    "        k = k+1\n",
    "        print(' ')\n",
    "        print('-'*50)\n",
    "        print(f'iteration {k} of {n_ns*n_lams}')\n",
    "        print(f'p = {p}')\n",
    "        lam = lams[j]\n",
    "        damping = lam * n\n",
    "        dampings.append(damping)\n",
    "        print(f'damping = {damping}')\n",
    "        \n",
    "        P_damped = np.linalg.inv(F_extra + damping * np.eye(p))\n",
    "        \n",
    "        largest_eigval_F_div_n[i, j] = e_F_div_n\n",
    "        variances_damped[i, j] = kernel_variance_interpolator(features=features, P=P_damped, F=F_extra, sigma2=sigma2) \n",
    "        variances_ngd[i, j] = v_ngd\n",
    "        variances_diff = variances_damped - variances_ngd\n",
    "        variances_diff[i, j] = variances_damped[i, j] - variances_ngd[i, j]\n",
    "\n",
    "# choose only unique ps\n",
    "ps = np.unique(ps)"
   ]
  },
  {
   "cell_type": "code",
   "execution_count": 17,
   "metadata": {},
   "outputs": [
    {
     "data": {
      "text/plain": [
       "[3, 5, 7, 9, 11, 13, 15, 17, 19, 21, 23, 25, 27]"
      ]
     },
     "execution_count": 17,
     "metadata": {},
     "output_type": "execute_result"
    }
   ],
   "source": [
    "ns"
   ]
  },
  {
   "cell_type": "code",
   "execution_count": 18,
   "metadata": {},
   "outputs": [
    {
     "data": {
      "text/plain": [
       "[1.0, 0.1, 0.01, 0.001, 0.0001]"
      ]
     },
     "execution_count": 18,
     "metadata": {},
     "output_type": "execute_result"
    }
   ],
   "source": [
    "lams"
   ]
  },
  {
   "cell_type": "code",
   "execution_count": 19,
   "metadata": {},
   "outputs": [
    {
     "data": {
      "text/plain": [
       "(459, 459)"
      ]
     },
     "execution_count": 19,
     "metadata": {},
     "output_type": "execute_result"
    }
   ],
   "source": [
    "P_ngd.shape"
   ]
  },
  {
   "cell_type": "code",
   "execution_count": 20,
   "metadata": {},
   "outputs": [
    {
     "data": {
      "text/plain": [
       "0.70227"
      ]
     },
     "execution_count": 20,
     "metadata": {},
     "output_type": "execute_result"
    }
   ],
   "source": [
    "p**2 / N_extra"
   ]
  },
  {
   "cell_type": "code",
   "execution_count": 21,
   "metadata": {},
   "outputs": [
    {
     "data": {
      "text/plain": [
       "2.08015630880418e-07"
      ]
     },
     "execution_count": 21,
     "metadata": {},
     "output_type": "execute_result"
    }
   ],
   "source": [
    "abs(P_ngd - P_ngd.T).mean()"
   ]
  },
  {
   "cell_type": "code",
   "execution_count": 22,
   "metadata": {},
   "outputs": [
    {
     "data": {
      "text/plain": [
       "[3, 5, 7, 9, 11, 13, 15, 17, 19, 21, 23, 25, 27]"
      ]
     },
     "execution_count": 22,
     "metadata": {},
     "output_type": "execute_result"
    }
   ],
   "source": [
    "ns"
   ]
  },
  {
   "cell_type": "code",
   "execution_count": 23,
   "metadata": {},
   "outputs": [
    {
     "data": {
      "text/plain": [
       "[1.0, 0.1, 0.01, 0.001, 0.0001]"
      ]
     },
     "execution_count": 23,
     "metadata": {},
     "output_type": "execute_result"
    }
   ],
   "source": [
    "lams"
   ]
  },
  {
   "cell_type": "code",
   "execution_count": 24,
   "metadata": {},
   "outputs": [
    {
     "data": {
      "text/plain": [
       "<AxesSubplot: >"
      ]
     },
     "execution_count": 24,
     "metadata": {},
     "output_type": "execute_result"
    },
    {
     "data": {
      "image/png": "[encoded data removed]",
      "text/plain": [
       "<Figure size 432x288 with 2 Axes>"
      ]
     },
     "metadata": {
      "needs_background": "light"
     },
     "output_type": "display_data"
    }
   ],
   "source": [
    "import seaborn as sns\n",
    "sns.heatmap(variances_diff, cmap='viridis', xticklabels=[round(x, 5) for x in lams], yticklabels=np.unique(ps), annot=True)"
   ]
  },
  {
   "cell_type": "code",
   "execution_count": 25,
   "metadata": {},
   "outputs": [],
   "source": [
    "# divide each row of largest_eigval_F_div_n by the corresponding"
   ]
  },
  {
   "cell_type": "code",
   "execution_count": 26,
   "metadata": {},
   "outputs": [
    {
     "data": {
      "text/plain": [
       "<AxesSubplot: >"
      ]
     },
     "execution_count": 26,
     "metadata": {},
     "output_type": "execute_result"
    },
    {
     "data": {
      "image/png": "[encoded data removed]",
      "text/plain": [
       "<Figure size 432x288 with 2 Axes>"
      ]
     },
     "metadata": {
      "needs_background": "light"
     },
     "output_type": "display_data"
    }
   ],
   "source": [
    "sns.heatmap(largest_eigval_F_div_n, cmap='viridis', xticklabels=[round(x, 1) for x in lams], yticklabels=ns, annot=True)"
   ]
  },
  {
   "cell_type": "code",
   "execution_count": 27,
   "metadata": {},
   "outputs": [
    {
     "data": {
      "text/plain": [
       "<AxesSubplot: >"
      ]
     },
     "execution_count": 27,
     "metadata": {},
     "output_type": "execute_result"
    },
    {
     "data": {
      "image/png": "[encoded data removed]",
      "text/plain": [
       "<Figure size 432x288 with 2 Axes>"
      ]
     },
     "metadata": {
      "needs_background": "light"
     },
     "output_type": "display_data"
    }
   ],
   "source": [
    "# row of largest_eigval_F_div_n by the corresponding n\n",
    "new_largest_eigval_F_div_n = np.zeros((n_ns,n_lams))\n",
    "for i in range(len(ns)):\n",
    "    new_largest_eigval_F_div_n[i,:] = largest_eigval_F_div_n[i,:] / ns[i]\n",
    "\n",
    "sns.heatmap(new_largest_eigval_F_div_n, cmap='viridis', xticklabels=[round(x, 1) for x in lams], yticklabels=ns, annot=True)"
   ]
  },
  {
   "cell_type": "code",
   "execution_count": 61,
   "metadata": {},
   "outputs": [],
   "source": [
    "# TODO: Triple check that we are computing the inverse well now and that we were doing it wrong before. Because the tests were passing before."
   ]
  },
  {
   "cell_type": "code",
   "execution_count": 62,
   "metadata": {},
   "outputs": [
    {
     "data": {
      "text/plain": [
       "array([[7.07106781, 6.36396103, 5.72756493],\n",
       "       [6.36396103, 7.07106781, 6.36396103],\n",
       "       [5.72756493, 6.36396103, 7.07106781]])"
      ]
     },
     "execution_count": 62,
     "metadata": {},
     "output_type": "execute_result"
    }
   ],
   "source": [
    "c[:3,:3]"
   ]
  },
  {
   "cell_type": "code",
   "execution_count": 63,
   "metadata": {},
   "outputs": [
    {
     "data": {
      "text/plain": [
       "array([[7.77817459, 6.36396103, 5.72756493],\n",
       "       [6.36396103, 7.77817459, 6.36396103],\n",
       "       [5.72756493, 6.36396103, 7.77817459]])"
      ]
     },
     "execution_count": 63,
     "metadata": {},
     "output_type": "execute_result"
    }
   ],
   "source": [
    "(c + damping*np.eye(d))[:3,:3]"
   ]
  },
  {
   "cell_type": "code",
   "execution_count": 64,
   "metadata": {},
   "outputs": [
    {
     "data": {
      "text/plain": [
       "array([[ 0.40672876, -0.26077797, -0.06749992],\n",
       "       [-0.26077797,  0.573929  , -0.21749976],\n",
       "       [-0.06749992, -0.21749976,  0.58513116]])"
      ]
     },
     "execution_count": 64,
     "metadata": {},
     "output_type": "execute_result"
    }
   ],
   "source": [
    "np.linalg.inv(c+ damping*np.eye(d))[:3,:3]"
   ]
  },
  {
   "cell_type": "code",
   "execution_count": 18,
   "metadata": {},
   "outputs": [
    {
     "data": {
      "text/plain": [
       "tensor([[ 0.0352, -0.0173, -0.0002],\n",
       "        [-0.0173,  0.0352, -0.0173],\n",
       "        [-0.0002, -0.0173,  0.0352]], dtype=torch.float64)"
      ]
     },
     "execution_count": 18,
     "metadata": {},
     "output_type": "execute_result"
    }
   ],
   "source": [
    "import torch\n",
    "torch.cholesky_inverse(torch.from_numpy(c+ damping*np.eye(d)))[:3,:3]"
   ]
  },
  {
   "cell_type": "code",
   "execution_count": 39,
   "metadata": {},
   "outputs": [
    {
     "data": {
      "text/plain": [
       "tensor([[ 0.1522, -0.1304, -0.0057],\n",
       "        [-0.1304,  0.2640, -0.1256],\n",
       "        [-0.0057, -0.1256,  0.2642]], dtype=torch.float64)"
      ]
     },
     "execution_count": 39,
     "metadata": {},
     "output_type": "execute_result"
    }
   ],
   "source": [
    "import torch\n",
    "torch.cholesky_inverse(torch.cholesky(torch.from_numpy(c+ damping*np.eye(d))))[:3,:3]"
   ]
  },
  {
   "cell_type": "code",
   "execution_count": 40,
   "metadata": {},
   "outputs": [
    {
     "data": {
      "text/plain": [
       "array([[ 0.15224482, -0.13042363, -0.00565121],\n",
       "       [-0.13042363,  0.26397487, -0.1255824 ],\n",
       "       [-0.00565121, -0.1255824 ,  0.26418464]])"
      ]
     },
     "execution_count": 40,
     "metadata": {},
     "output_type": "execute_result"
    }
   ],
   "source": [
    "np.linalg.inv(c+ damping*np.eye(d))[:3,:3]"
   ]
  },
  {
   "cell_type": "code",
   "execution_count": 41,
   "metadata": {},
   "outputs": [
    {
     "data": {
      "text/plain": [
       "array([[ 0.15224482, -0.13042363, -0.00565121],\n",
       "       [-0.13042363,  0.26397487, -0.1255824 ],\n",
       "       [-0.00565121, -0.1255824 ,  0.26418464]])"
      ]
     },
     "execution_count": 41,
     "metadata": {},
     "output_type": "execute_result"
    }
   ],
   "source": [
    "P_damped[:3,:3]"
   ]
  },
  {
   "cell_type": "code",
   "execution_count": 42,
   "metadata": {},
   "outputs": [
    {
     "data": {
      "text/plain": [
       "array([[ 1.73584905e-03, -8.49996340e-04, -8.67206609e-06],\n",
       "       [-8.49996340e-04,  1.73288370e-03, -8.62042779e-04],\n",
       "       [-8.67206609e-06, -8.62042779e-04,  1.76788253e-03]])"
      ]
     },
     "execution_count": 42,
     "metadata": {},
     "output_type": "execute_result"
    }
   ],
   "source": [
    "F_inv.numpy()[:3,:3]"
   ]
  },
  {
   "attachments": {},
   "cell_type": "markdown",
   "metadata": {},
   "source": [
    "## Doing Lambda parralel"
   ]
  },
  {
   "cell_type": "code",
   "execution_count": 52,
   "metadata": {},
   "outputs": [
    {
     "name": "stdout",
     "output_type": "stream",
     "text": [
      "  \n",
      "--------------------------------------------------\n",
      "p = 51\n",
      "lambda = 1.0\n",
      "\n",
      "--------------------------------------------------\n",
      "p = 51\n",
      "lambda = 0.01\n",
      " \n",
      "--------------------------------------------------\n",
      "p = 51\n",
      "lambda = 0.0001\n",
      " \n",
      "--------------------------------------------------\n",
      "p = 68\n",
      "lambda = 1.0 \n",
      "\n",
      "--------------------------------------------------\n",
      "p = 68\n",
      "lambda = 0.01\n",
      " \n",
      "--------------------------------------------------\n",
      "p = 68\n",
      "lambda = 0.0001\n",
      "  \n",
      "--------------------------------------------------\n",
      "p = 85\n",
      "lambda = 1.0\n",
      "\n",
      "--------------------------------------------------\n",
      "p = 85\n",
      "lambda = 0.01\n",
      " \n",
      "--------------------------------------------------\n",
      "p = 85\n",
      "lambda = 0.0001\n",
      "  \n",
      "--------------------------------------------------\n",
      "p = 102\n",
      "lambda = 1.0\n",
      " \n",
      "--------------------------------------------------\n",
      "p = 102\n",
      "lambda = 0.0001\n",
      "\n",
      "--------------------------------------------------\n",
      "p = 102\n",
      "lambda = 0.01\n",
      "  \n",
      "--------------------------------------------------\n",
      "p = 119\n",
      "lambda = 1.0\n",
      "--------------------------------------------------\n",
      "p = 119\n",
      "lambda = 0.01\n",
      "\n",
      " \n",
      "--------------------------------------------------\n",
      "p = 119\n",
      "lambda = 0.0001\n"
     ]
    }
   ],
   "source": [
    "import matplotlib.pyplot as plt\n",
    "import numpy as np\n",
    "\n",
    "N = 10\n",
    "N_extra = 30000\n",
    "d = 15\n",
    "sigma2 = 2\n",
    "ro = 0.9\n",
    "n_ns = 5\n",
    "n_lams = 3\n",
    "variances_damped = np.zeros((n_ns,n_lams))\n",
    "variances_ngd = np.zeros((n_ns,n_lams))\n",
    "variances_diff = np.zeros((n_ns,n_lams))    \n",
    "largest_eigval_F_div_n = np.zeros((n_ns,n_lams))\n",
    "\n",
    "ns = [int(x) for x in np.linspace(int(np.sqrt(1.5*N)),int(np.sqrt(6*N)),n_ns)]\n",
    "ps = []\n",
    "#lams = np.logspace(0, -5, num=n_lams, endpoint=True, base=10.0)\n",
    "lams = [1.0, 0.01, 0.0001]\n",
    "dampings = []\n",
    "\n",
    "def get_variances(i: int, j: int, n: int, p: int, F_extra: np.ndarray, features: np.ndarray, sigma2: float, e_F_div_n: float, v_ngd: float):\n",
    "        print(' ')\n",
    "        print('-'*50)\n",
    "        lam = lams[j]\n",
    "        damping = lam * n\n",
    "        print(f'p = {p}')\n",
    "        print(f'lambda = {lam}')\n",
    "\n",
    "        P_damped = np.linalg.inv(F_extra + damping * np.eye(p))\n",
    "\n",
    "        largest_eigval_F_div_n[i, j] = e_F_div_n\n",
    "        variances_damped[i, j] = kernel_variance_interpolator(features=features, P=P_damped, F=F_extra, sigma2=sigma2) \n",
    "        variances_ngd[i, j] = v_ngd\n",
    "        variances_diff[i, j] = variances_damped[i, j] - variances_ngd[i, j]\n",
    "\n",
    "for i in range(n_ns):\n",
    "    n = ns[i]\n",
    "    params = {\n",
    "            'width' : n,\n",
    "            'depth' : 2,\n",
    "            'd' : d,\n",
    "            'lam' : -10000000, # damping does not matter here if we are not using .get_features_and_p_inv()\n",
    "            'train_size' : N,\n",
    "            'extra_size' : N_extra,\n",
    "            'sigma2' : sigma2,\n",
    "            'r2' : 1,\n",
    "            'regime' : 'autoregressive',\n",
    "            'ro' : ro\n",
    "        }\n",
    "    ini = Initializer(**params)\n",
    "    features, F_extra = [x.numpy() for x in ini.get_features_and_F()]\n",
    "    p = F_extra.shape[0]\n",
    "    ps.append(p)\n",
    "    P_ngd = np.linalg.inv(F_extra)\n",
    "\n",
    "    ### TODO: There is an error here!! this eigenvalue (divided by n) is decreasing with n, but it should be constant.\n",
    "    ### check if I'm doing the right parametrization!!!\n",
    "    \n",
    "    e_F_div_n = np.linalg.eigvalsh(F_extra)[-1]/n\n",
    "    v_ngd = kernel_variance_interpolator(features=features, P=P_ngd, F=F_extra, sigma2=sigma2)\n",
    "\n",
    "    threads = []\n",
    "    for j in range(n_lams):\n",
    "        t = threading.Thread(target=get_variances, args=(i, j, n, p, F_extra, features, sigma2, e_F_div_n, v_ngd,))\n",
    "        threads.append(t)\n",
    "        t.start()\n",
    "\n",
    "    for t in threads:\n",
    "        t.join()\n",
    "\n",
    "# choose only unique ps\n",
    "ps = np.unique(ps)"
   ]
  },
  {
   "cell_type": "code",
   "execution_count": null,
   "metadata": {},
   "outputs": [],
   "source": []
  },
  {
   "cell_type": "code",
   "execution_count": null,
   "metadata": {},
   "outputs": [],
   "source": []
  }
 ],
 "metadata": {
  "kernelspec": {
   "display_name": "preconditioners",
   "language": "python",
   "name": "python3"
  },
  "language_info": {
   "codemirror_mode": {
    "name": "ipython",
    "version": 3
   },
   "file_extension": ".py",
   "mimetype": "text/x-python",
   "name": "python",
   "nbconvert_exporter": "python",
   "pygments_lexer": "ipython3",
   "version": "3.9.10"
  },
  "orig_nbformat": 4,
  "vscode": {
   "interpreter": {
    "hash": "2c2d541a5db7c05910ac06554e3a79dfe5bead4166f54a2f5ce9b07705345cc2"
   }
  }
 },
 "nbformat": 4,
 "nbformat_minor": 2
}
