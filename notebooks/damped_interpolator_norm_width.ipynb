{
 "cells": [
  {
   "cell_type": "markdown",
   "metadata": {},
   "source": [
    "It is not true that adding damping does not change the implicit bias. But note that it does have a limit as lambda -> infinity and it starts to approach it pretty quickly."
   ]
  },
  {
   "cell_type": "code",
   "execution_count": 96,
   "metadata": {},
   "outputs": [],
   "source": [
    "import numpy as np\n",
    "from preconditioners.utils import *"
   ]
  },
  {
   "cell_type": "code",
   "execution_count": 97,
   "metadata": {},
   "outputs": [],
   "source": [
    "n = 10\n",
    "d = 10000\n",
    "sigma2 = 0.05\n",
    "r2 = 1"
   ]
  },
  {
   "cell_type": "code",
   "execution_count": 98,
   "metadata": {},
   "outputs": [],
   "source": [
    "c = generate_c(ro=0.5, regime='autoregressive', d=d)\n",
    "c_inv = np.linalg.inv(c)"
   ]
  },
  {
   "cell_type": "code",
   "execution_count": 99,
   "metadata": {},
   "outputs": [],
   "source": [
    "w_star = generate_true_parameter(d, r2=r2, m=np.eye(d))\n",
    "X, y, _ = generate_centered_linear_gaussian_data(w_star, c, n, d, sigma2)"
   ]
  },
  {
   "cell_type": "code",
   "execution_count": 100,
   "metadata": {},
   "outputs": [],
   "source": [
    "#c = X.T.dot(X)/n + 0.1 * np.eye(d)\n",
    "#c_inv = np.linalg.inv(c)"
   ]
  },
  {
   "cell_type": "code",
   "execution_count": 101,
   "metadata": {},
   "outputs": [
    {
     "name": "stdout",
     "output_type": "stream",
     "text": [
      "[-5.61708424e-04  4.95294709e-04 -5.45155192e-06 ... -1.87482530e-04\n",
      "  5.68519650e-04 -1.05246500e-04]\n"
     ]
    }
   ],
   "source": [
    "temp = np.linalg.inv(X.dot(c_inv.dot(X.T)))\n",
    "w = c_inv.dot(X.T).dot(temp).dot(y)\n",
    "print(w)"
   ]
  },
  {
   "cell_type": "code",
   "execution_count": 102,
   "metadata": {},
   "outputs": [],
   "source": [
    "lam = 10\n",
    "c_new = c + lam*np.eye(d)\n",
    "c_new_inv = np.linalg.inv(c_new)\n",
    "temp_new = np.linalg.inv(X.dot(c_new_inv.dot(X.T)))\n",
    "w_new = c_new_inv.dot(X.T).dot(temp_new).dot(y)"
   ]
  },
  {
   "cell_type": "code",
   "execution_count": 103,
   "metadata": {},
   "outputs": [
    {
     "name": "stdout",
     "output_type": "stream",
     "text": [
      "[-3.41411707e-04  1.94806587e-04  2.80253077e-05 ... -3.30336993e-05\n",
      "  3.91341070e-04  9.93507406e-05]\n"
     ]
    }
   ],
   "source": [
    "print(w_new)"
   ]
  },
  {
   "cell_type": "code",
   "execution_count": 104,
   "metadata": {},
   "outputs": [
    {
     "data": {
      "text/plain": [
       "0.02515340998503209"
      ]
     },
     "execution_count": 104,
     "metadata": {},
     "output_type": "execute_result"
    }
   ],
   "source": [
    "np.linalg.norm(w_new - w)"
   ]
  }
 ],
 "metadata": {
  "interpreter": {
   "hash": "2c2d541a5db7c05910ac06554e3a79dfe5bead4166f54a2f5ce9b07705345cc2"
  },
  "kernelspec": {
   "display_name": "Python 3.9.10 ('preconditioners')",
   "language": "python",
   "name": "python3"
  },
  "language_info": {
   "codemirror_mode": {
    "name": "ipython",
    "version": 3
   },
   "file_extension": ".py",
   "mimetype": "text/x-python",
   "name": "python",
   "nbconvert_exporter": "python",
   "pygments_lexer": "ipython3",
   "version": "3.9.10"
  },
  "orig_nbformat": 4
 },
 "nbformat": 4,
 "nbformat_minor": 2
}
