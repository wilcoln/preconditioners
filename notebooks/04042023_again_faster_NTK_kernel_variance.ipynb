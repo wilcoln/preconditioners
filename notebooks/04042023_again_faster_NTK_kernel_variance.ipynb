{
 "cells": [
  {
   "cell_type": "code",
   "execution_count": 1,
   "metadata": {},
   "outputs": [],
   "source": [
    "from datetime import datetime as dt\n",
    "import numpy as np\n",
    "import torch\n",
    "\n",
    "from matplotlib import pyplot as plt\n",
    "from torch.utils.data import random_split\n",
    "\n",
    "from preconditioners import settings\n",
    "from preconditioners.datasets import generate_true_parameter, CenteredLinearGaussianDataset, generate_true_parameter, generate_c\n",
    "from preconditioners.utils import MLP, SLP\n",
    "from preconditioners.optimizers import PrecondGD\n",
    "import preconditioners\n",
    "import multiprocessing, threading\n"
   ]
  },
  {
   "cell_type": "code",
   "execution_count": 2,
   "metadata": {},
   "outputs": [],
   "source": [
    "# Same as in linear_kernel_variance_30102022.ipynb (and if it is not, it should be)\n",
    "\n",
    "from preconditioners.datasets import generate_c, generate_centered_linear_gaussian_data, generate_true_parameter, generate_W_star\n",
    "\n",
    "def kernel_variance_interpolator(features : np.ndarray, P : np.ndarray, F : np.ndarray, sigma2 : np.float64) -> np.float64:\n",
    "    ''' Given Nxp feature matrix {features}, pxp symmetric preconditioner P and pxp true covariance matrix F, and the signal to noise ratio, this function returns the variance component of the risk \n",
    "    of the interpolator which is the limit of PGD which uses preconditioner P.'''\n",
    "    assert features.shape[1] == P.shape[0] == P.shape[1] == F.shape[0] == F.shape[1]\n",
    "    assert abs(P - P.T).mean() < 1e-4, 'P must be symmetric.'\n",
    "\n",
    "    empirical_NTK = features.dot(P).dot(features.T)\n",
    "    empirical_NTK_inv = np.linalg.inv(empirical_NTK)\n",
    "    auxi_matrix = features.dot(P).dot(F).dot(P).dot(features.T)\n",
    "\n",
    "    return sigma2 * np.trace(empirical_NTK_inv.dot(auxi_matrix).dot(empirical_NTK_inv))"
   ]
  },
  {
   "cell_type": "code",
   "execution_count": 3,
   "metadata": {},
   "outputs": [],
   "source": [
    "# Adapted CheckEigenvalues class from src/preconditioners/eigenvalues/kernel_eigenvalues.py\n",
    "# with the linear gaussian dataset\n",
    "\n",
    "class Initializer:\n",
    "    def __init__(self,\n",
    "                width,\n",
    "                depth,\n",
    "                d,\n",
    "                #lam,\n",
    "                train_size,\n",
    "                extra_size,\n",
    "                sigma2,\n",
    "                r2,\n",
    "                regime,\n",
    "                ro,\n",
    "                ):\n",
    "        # Network parameters\n",
    "        self.width = width\n",
    "        self.depth = depth\n",
    "        self.d = d\n",
    "        #self.damping = lam * np.sqrt(self.d) if self.depth == 1 else lam * self.width\n",
    "        self.damping = 0\n",
    "\n",
    "        # Dataset parameters\n",
    "        self.train_size = train_size\n",
    "        self.extra_size = extra_size\n",
    "\n",
    "        w_star = generate_true_parameter(self.d, r2, m=np.eye(self.d))\n",
    "        c = generate_c(ro, regime=regime, d=self.d) if self.depth > 1 else generate_c(ro, regime=regime, d=self.d) * np.sqrt(self.d) # we don't need to multiply by sqrt(d) if d > 1 because there c is not the Fisher\n",
    "        dataset = CenteredLinearGaussianDataset(w_star, c, n=self.train_size + self.extra_size, d=self.d, sigma2=sigma2)\n",
    "\n",
    "        self.train_dataset, self.extra_dataset = random_split(dataset, [self.train_size, self.extra_size])\n",
    "        self.labeled_data = self.train_dataset[:][0].double().to(settings.DEVICE)\n",
    "        self.unlabeled_data = self.extra_dataset[:][0].double().to(settings.DEVICE)\n",
    "\n",
    "    def create_model(self):\n",
    "        std = 1\n",
    "        #std = 1/ np.sqrt(self.width)\n",
    "\n",
    "        # Create model and optimizer\n",
    "        if self.depth == 1:\n",
    "            self.model = SLP(in_channels=self.d).double().to(settings.DEVICE)\n",
    "        else:\n",
    "            self.model = MLP(in_channels=self.d, num_layers=self.depth, hidden_channels=self.width, std=std).double().to(settings.DEVICE)\n",
    "        self.optimizer = PrecondGD(self.model, lr=1e-2, labeled_data=self.labeled_data, unlabeled_data=self.unlabeled_data, verbose=False, damping=self.damping)\n",
    "\n",
    "    def get_features_and_p_inv(self):\n",
    "         self.create_model()\n",
    "         p_inv = self.optimizer._compute_p_inv()\n",
    "         grad = self.optimizer._compute_grad_of_data(self.labeled_data)\n",
    "         return grad, p_inv\n",
    "\n",
    "    def get_features_and_F(self):\n",
    "        self.create_model()\n",
    "        F = self.optimizer._compute_fisher()\n",
    "        grad = self.optimizer._compute_grad_of_data(self.labeled_data)\n",
    "        return grad, F"
   ]
  },
  {
   "cell_type": "code",
   "execution_count": 6,
   "metadata": {},
   "outputs": [
    {
     "name": "stdout",
     "output_type": "stream",
     "text": [
      " \n",
      "--------------------------------------------------\n",
      "iteration 1 of 48\n",
      "p = 51\n",
      "damping = 3.0\n",
      " \n",
      "--------------------------------------------------\n",
      "iteration 2 of 48\n",
      "p = 51\n",
      "damping = 0.30000000000000004\n",
      " \n",
      "--------------------------------------------------\n",
      "iteration 3 of 48\n",
      "p = 51\n",
      "damping = 0.03\n",
      " \n",
      "--------------------------------------------------\n",
      "iteration 4 of 48\n",
      "p = 51\n",
      "damping = 0.003\n",
      " \n",
      "--------------------------------------------------\n",
      "iteration 5 of 48\n",
      "p = 51\n",
      "damping = 0.00030000000000000003\n",
      " \n",
      "--------------------------------------------------\n",
      "iteration 6 of 48\n",
      "p = 51\n",
      "damping = 3.0000000000000004e-05\n",
      " \n",
      "--------------------------------------------------\n",
      "iteration 7 of 48\n",
      "p = 153\n",
      "damping = 9.0\n",
      " \n",
      "--------------------------------------------------\n",
      "iteration 8 of 48\n",
      "p = 153\n",
      "damping = 0.9\n",
      " \n",
      "--------------------------------------------------\n",
      "iteration 9 of 48\n",
      "p = 153\n",
      "damping = 0.09\n",
      " \n",
      "--------------------------------------------------\n",
      "iteration 10 of 48\n",
      "p = 153\n",
      "damping = 0.009000000000000001\n",
      " \n",
      "--------------------------------------------------\n",
      "iteration 11 of 48\n",
      "p = 153\n",
      "damping = 0.0009000000000000001\n",
      " \n",
      "--------------------------------------------------\n",
      "iteration 12 of 48\n",
      "p = 153\n",
      "damping = 9e-05\n",
      " \n",
      "--------------------------------------------------\n",
      "iteration 13 of 48\n",
      "p = 255\n",
      "damping = 15.0\n",
      " \n",
      "--------------------------------------------------\n",
      "iteration 14 of 48\n",
      "p = 255\n",
      "damping = 1.5\n",
      " \n",
      "--------------------------------------------------\n",
      "iteration 15 of 48\n",
      "p = 255\n",
      "damping = 0.15\n",
      " \n",
      "--------------------------------------------------\n",
      "iteration 16 of 48\n",
      "p = 255\n",
      "damping = 0.015\n",
      " \n",
      "--------------------------------------------------\n",
      "iteration 17 of 48\n",
      "p = 255\n",
      "damping = 0.0015\n",
      " \n",
      "--------------------------------------------------\n",
      "iteration 18 of 48\n",
      "p = 255\n",
      "damping = 0.00015000000000000001\n",
      " \n",
      "--------------------------------------------------\n",
      "iteration 19 of 48\n",
      "p = 357\n",
      "damping = 21.0\n",
      " \n",
      "--------------------------------------------------\n",
      "iteration 20 of 48\n",
      "p = 357\n",
      "damping = 2.1\n",
      " \n",
      "--------------------------------------------------\n",
      "iteration 21 of 48\n",
      "p = 357\n",
      "damping = 0.21\n",
      " \n",
      "--------------------------------------------------\n",
      "iteration 22 of 48\n",
      "p = 357\n",
      "damping = 0.021\n",
      " \n",
      "--------------------------------------------------\n",
      "iteration 23 of 48\n",
      "p = 357\n",
      "damping = 0.0021000000000000003\n",
      " \n",
      "--------------------------------------------------\n",
      "iteration 24 of 48\n",
      "p = 357\n",
      "damping = 0.00021\n",
      " \n",
      "--------------------------------------------------\n",
      "iteration 25 of 48\n",
      "p = 459\n",
      "damping = 27.0\n",
      " \n",
      "--------------------------------------------------\n",
      "iteration 26 of 48\n",
      "p = 459\n",
      "damping = 2.7\n",
      " \n",
      "--------------------------------------------------\n",
      "iteration 27 of 48\n",
      "p = 459\n",
      "damping = 0.27\n",
      " \n",
      "--------------------------------------------------\n",
      "iteration 28 of 48\n",
      "p = 459\n",
      "damping = 0.027\n",
      " \n",
      "--------------------------------------------------\n",
      "iteration 29 of 48\n",
      "p = 459\n",
      "damping = 0.0027\n",
      " \n",
      "--------------------------------------------------\n",
      "iteration 30 of 48\n",
      "p = 459\n",
      "damping = 0.00027\n",
      " \n",
      "--------------------------------------------------\n",
      "iteration 31 of 48\n",
      "p = 561\n",
      "damping = 33.0\n",
      " \n",
      "--------------------------------------------------\n",
      "iteration 32 of 48\n",
      "p = 561\n",
      "damping = 3.3000000000000003\n",
      " \n",
      "--------------------------------------------------\n",
      "iteration 33 of 48\n",
      "p = 561\n",
      "damping = 0.33\n",
      " \n",
      "--------------------------------------------------\n",
      "iteration 34 of 48\n",
      "p = 561\n",
      "damping = 0.033\n",
      " \n",
      "--------------------------------------------------\n",
      "iteration 35 of 48\n",
      "p = 561\n",
      "damping = 0.0033\n",
      " \n",
      "--------------------------------------------------\n",
      "iteration 36 of 48\n",
      "p = 561\n",
      "damping = 0.00033000000000000005\n",
      " \n",
      "--------------------------------------------------\n",
      "iteration 37 of 48\n",
      "p = 663\n",
      "damping = 39.0\n",
      " \n",
      "--------------------------------------------------\n",
      "iteration 38 of 48\n",
      "p = 663\n",
      "damping = 3.9000000000000004\n",
      " \n",
      "--------------------------------------------------\n",
      "iteration 39 of 48\n",
      "p = 663\n",
      "damping = 0.39\n",
      " \n",
      "--------------------------------------------------\n",
      "iteration 40 of 48\n",
      "p = 663\n",
      "damping = 0.039\n",
      " \n",
      "--------------------------------------------------\n",
      "iteration 41 of 48\n",
      "p = 663\n",
      "damping = 0.0039000000000000003\n",
      " \n",
      "--------------------------------------------------\n",
      "iteration 42 of 48\n",
      "p = 663\n",
      "damping = 0.00039000000000000005\n",
      " \n",
      "--------------------------------------------------\n",
      "iteration 43 of 48\n",
      "p = 765\n",
      "damping = 45.0\n",
      " \n",
      "--------------------------------------------------\n",
      "iteration 44 of 48\n",
      "p = 765\n",
      "damping = 4.5\n",
      " \n",
      "--------------------------------------------------\n",
      "iteration 45 of 48\n",
      "p = 765\n",
      "damping = 0.45\n",
      " \n",
      "--------------------------------------------------\n",
      "iteration 46 of 48\n",
      "p = 765\n",
      "damping = 0.045\n",
      " \n",
      "--------------------------------------------------\n",
      "iteration 47 of 48\n",
      "p = 765\n",
      "damping = 0.0045000000000000005\n",
      " \n",
      "--------------------------------------------------\n",
      "iteration 48 of 48\n",
      "p = 765\n",
      "damping = 0.00045000000000000004\n"
     ]
    }
   ],
   "source": [
    "import matplotlib.pyplot as plt\n",
    "import numpy as np\n",
    "\n",
    "N = 10\n",
    "N_extra = 500000\n",
    "d = 15\n",
    "sigma2 = 2\n",
    "ro = 0.9\n",
    "#n_ns = 5\n",
    "#n_lams = 1\n",
    "#ns = [int(x) for x in np.linspace(int(np.sqrt(1.5*N)),int(np.sqrt(8*N)),n_ns)]\n",
    "ns = [3,9,15,21,27,33,39,45]\n",
    "n_ns = len(ns)\n",
    "ps = []\n",
    "#lams = np.logspace(0, -5, num=n_lams, endpoint=True, base=10.0)\n",
    "lams = [1.0, 0.1, 0.01, 0.001, 0.0001, 0.00001]\n",
    "n_lams = len(lams)\n",
    "#lams = [1.0]\n",
    "variances_damped = np.zeros((n_ns,n_lams))\n",
    "variances_ngd = np.zeros((n_ns,n_lams))\n",
    "variances_diff = np.zeros((n_ns,n_lams))    \n",
    "largest_eigval_F_div_n = np.zeros((n_ns,n_lams))\n",
    "dampings = []\n",
    "\n",
    "k = 0\n",
    "for i in range(n_ns):\n",
    "    n = ns[i]\n",
    "    params = {\n",
    "            'width' : n,\n",
    "            'depth' : 2,\n",
    "            'd' : d,\n",
    "            #'lam' : -10000000, # damping does not matter here if we are not using .get_features_and_p_inv()\n",
    "            'train_size' : N,\n",
    "            'extra_size' : N_extra,\n",
    "            'sigma2' : sigma2,\n",
    "            'r2' : 1,\n",
    "            'regime' : 'autoregressive',\n",
    "            'ro' : ro\n",
    "        }\n",
    "    ini = Initializer(**params)\n",
    "    features, F_extra = [x.numpy() for x in ini.get_features_and_F()]\n",
    "    p = F_extra.shape[0]\n",
    "    ps.append(p)\n",
    "    P_ngd = np.linalg.inv(F_extra)\n",
    "\n",
    "    ### TODO: There is an error here!! this eigenvalue (divided by n) is decreasing with n, but it should be constant.\n",
    "    ### check if I'm doing the right parametrization!!!\n",
    "\n",
    "    \n",
    "    e_F_div_n = np.linalg.eigvalsh(F_extra)[-1]#/n\n",
    "    v_ngd = kernel_variance_interpolator(features=features, P=P_ngd, F=F_extra, sigma2=sigma2)\n",
    "\n",
    "    for j in range(n_lams):\n",
    "        k = k+1\n",
    "        print(' ')\n",
    "        print('-'*50)\n",
    "        print(f'iteration {k} of {n_ns*n_lams}')\n",
    "        print(f'p = {p}')\n",
    "        lam = lams[j]\n",
    "        damping = lam * n\n",
    "        dampings.append(damping)\n",
    "        print(f'damping = {damping}')\n",
    "        \n",
    "        P_damped = np.linalg.inv(F_extra + damping * np.eye(p))\n",
    "        \n",
    "        largest_eigval_F_div_n[i, j] = e_F_div_n\n",
    "        variances_damped[i, j] = kernel_variance_interpolator(features=features, P=P_damped, F=F_extra, sigma2=sigma2) \n",
    "        variances_ngd[i, j] = v_ngd\n",
    "        variances_diff = variances_damped - variances_ngd\n",
    "        variances_diff[i, j] = variances_damped[i, j] - variances_ngd[i, j]\n",
    "\n",
    "# choose only unique ps\n",
    "ps = np.unique(ps)"
   ]
  },
  {
   "cell_type": "code",
   "execution_count": 7,
   "metadata": {},
   "outputs": [
    {
     "data": {
      "text/plain": [
       "[3, 9, 15, 21, 27, 33, 39, 45]"
      ]
     },
     "execution_count": 7,
     "metadata": {},
     "output_type": "execute_result"
    }
   ],
   "source": [
    "ns"
   ]
  },
  {
   "cell_type": "code",
   "execution_count": 8,
   "metadata": {},
   "outputs": [
    {
     "data": {
      "text/plain": [
       "[1.0, 0.1, 0.01, 0.001, 0.0001, 1e-05]"
      ]
     },
     "execution_count": 8,
     "metadata": {},
     "output_type": "execute_result"
    }
   ],
   "source": [
    "lams"
   ]
  },
  {
   "cell_type": "code",
   "execution_count": 9,
   "metadata": {},
   "outputs": [
    {
     "data": {
      "text/plain": [
       "(765, 765)"
      ]
     },
     "execution_count": 9,
     "metadata": {},
     "output_type": "execute_result"
    }
   ],
   "source": [
    "P_ngd.shape"
   ]
  },
  {
   "cell_type": "code",
   "execution_count": 10,
   "metadata": {},
   "outputs": [
    {
     "data": {
      "text/plain": [
       "1.17045"
      ]
     },
     "execution_count": 10,
     "metadata": {},
     "output_type": "execute_result"
    }
   ],
   "source": [
    "p**2 / N_extra"
   ]
  },
  {
   "cell_type": "code",
   "execution_count": 12,
   "metadata": {},
   "outputs": [
    {
     "data": {
      "text/plain": [
       "4.709765316421282e-07"
      ]
     },
     "execution_count": 12,
     "metadata": {},
     "output_type": "execute_result"
    }
   ],
   "source": [
    "abs(P_ngd - P_ngd.T).mean()"
   ]
  },
  {
   "cell_type": "code",
   "execution_count": 13,
   "metadata": {},
   "outputs": [
    {
     "data": {
      "text/plain": [
       "[3, 9, 15, 21, 27, 33, 39, 45]"
      ]
     },
     "execution_count": 13,
     "metadata": {},
     "output_type": "execute_result"
    }
   ],
   "source": [
    "ns"
   ]
  },
  {
   "cell_type": "code",
   "execution_count": 14,
   "metadata": {},
   "outputs": [
    {
     "data": {
      "text/plain": [
       "[1.0, 0.1, 0.01, 0.001, 0.0001, 1e-05]"
      ]
     },
     "execution_count": 14,
     "metadata": {},
     "output_type": "execute_result"
    }
   ],
   "source": [
    "lams"
   ]
  },
  {
   "cell_type": "code",
   "execution_count": 15,
   "metadata": {},
   "outputs": [
    {
     "data": {
      "text/plain": [
       "<AxesSubplot: >"
      ]
     },
     "execution_count": 15,
     "metadata": {},
     "output_type": "execute_result"
    },
    {
     "data": {
      "image/png": "[encoded data removed]",
      "text/plain": [
       "<Figure size 432x288 with 2 Axes>"
      ]
     },
     "metadata": {
      "needs_background": "light"
     },
     "output_type": "display_data"
    }
   ],
   "source": [
    "import seaborn as sns\n",
    "sns.heatmap(variances_diff, cmap='viridis', xticklabels=[round(x, 5) for x in lams], yticklabels=np.unique(ps), annot=True)"
   ]
  },
  {
   "attachments": {},
   "cell_type": "markdown",
   "metadata": {},
   "source": [
    "### Same as above but without the first row which seems strange"
   ]
  },
  {
   "cell_type": "code",
   "execution_count": 20,
   "metadata": {},
   "outputs": [
    {
     "data": {
      "text/plain": [
       "<AxesSubplot: >"
      ]
     },
     "execution_count": 20,
     "metadata": {},
     "output_type": "execute_result"
    },
    {
     "data": {
      "image/png": "[encoded data removed]",
      "text/plain": [
       "<Figure size 432x288 with 2 Axes>"
      ]
     },
     "metadata": {
      "needs_background": "light"
     },
     "output_type": "display_data"
    }
   ],
   "source": [
    "sns.heatmap(variances_diff[1:, :], cmap='viridis', xticklabels=[round(x, 5) for x in lams], yticklabels=np.unique(ps[1:]), annot=True)"
   ]
  },
  {
   "cell_type": "code",
   "execution_count": 16,
   "metadata": {},
   "outputs": [],
   "source": [
    "# divide each row of largest_eigval_F_div_n by the corresponding"
   ]
  },
  {
   "cell_type": "code",
   "execution_count": 17,
   "metadata": {},
   "outputs": [
    {
     "data": {
      "text/plain": [
       "<AxesSubplot: >"
      ]
     },
     "execution_count": 17,
     "metadata": {},
     "output_type": "execute_result"
    },
    {
     "data": {
      "image/png": "[encoded data removed]",
      "text/plain": [
       "<Figure size 432x288 with 2 Axes>"
      ]
     },
     "metadata": {
      "needs_background": "light"
     },
     "output_type": "display_data"
    }
   ],
   "source": [
    "sns.heatmap(largest_eigval_F_div_n, cmap='viridis', xticklabels=[round(x, 1) for x in lams], yticklabels=ns, annot=True)"
   ]
  },
  {
   "attachments": {},
   "cell_type": "markdown",
   "metadata": {},
   "source": [
    "## Same as above but each row divided by n. It should be constant"
   ]
  },
  {
   "cell_type": "code",
   "execution_count": 18,
   "metadata": {},
   "outputs": [
    {
     "data": {
      "text/plain": [
       "<AxesSubplot: >"
      ]
     },
     "execution_count": 18,
     "metadata": {},
     "output_type": "execute_result"
    },
    {
     "data": {
      "image/png": "[encoded data removed]",
      "text/plain": [
       "<Figure size 432x288 with 2 Axes>"
      ]
     },
     "metadata": {
      "needs_background": "light"
     },
     "output_type": "display_data"
    }
   ],
   "source": [
    "# row of largest_eigval_F_div_n by the corresponding n\n",
    "new_largest_eigval_F_div_n = np.zeros((n_ns,n_lams))\n",
    "for i in range(len(ns)):\n",
    "    new_largest_eigval_F_div_n[i,:] = largest_eigval_F_div_n[i,:] / ns[i]\n",
    "\n",
    "sns.heatmap(new_largest_eigval_F_div_n, cmap='viridis', xticklabels=[round(x, 1) for x in lams], yticklabels=ns, annot=True)"
   ]
  }
 ],
 "metadata": {
  "kernelspec": {
   "display_name": "preconditioners",
   "language": "python",
   "name": "python3"
  },
  "language_info": {
   "codemirror_mode": {
    "name": "ipython",
    "version": 3
   },
   "file_extension": ".py",
   "mimetype": "text/x-python",
   "name": "python",
   "nbconvert_exporter": "python",
   "pygments_lexer": "ipython3",
   "version": "3.9.10"
  },
  "orig_nbformat": 4,
  "vscode": {
   "interpreter": {
    "hash": "2c2d541a5db7c05910ac06554e3a79dfe5bead4166f54a2f5ce9b07705345cc2"
   }
  }
 },
 "nbformat": 4,
 "nbformat_minor": 2
}
