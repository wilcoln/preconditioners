{
 "cells": [
  {
   "cell_type": "code",
   "execution_count": 1,
   "metadata": {},
   "outputs": [],
   "source": [
    "from datetime import datetime as dt\n",
    "import numpy as np\n",
    "import torch\n",
    "\n",
    "from matplotlib import pyplot as plt\n",
    "from torch.utils.data import random_split\n",
    "\n",
    "from preconditioners import settings\n",
    "from preconditioners.datasets import generate_true_parameter, CenteredLinearGaussianDataset, generate_true_parameter, generate_c\n",
    "from preconditioners.utils import MLP, SLP\n",
    "from preconditioners.optimizers import PrecondGD\n",
    "import preconditioners\n",
    "import multiprocessing, threading\n"
   ]
  },
  {
   "cell_type": "code",
   "execution_count": 2,
   "metadata": {},
   "outputs": [],
   "source": [
    "# Same as in linear_kernel_variance_30102022.ipynb (and if it is not, it should be)\n",
    "\n",
    "from preconditioners.datasets import generate_c, generate_centered_linear_gaussian_data, generate_true_parameter, generate_W_star\n",
    "\n",
    "def kernel_variance_interpolator(features : np.ndarray, P : np.ndarray, F : np.ndarray, sigma2 : np.float64) -> np.float64:\n",
    "    ''' Given Nxp feature matrix {features}, pxp symmetric preconditioner P and pxp true covariance matrix F, and the signal to noise ratio, this function returns the variance component of the risk \n",
    "    of the interpolator which is the limit of PGD which uses preconditioner P.'''\n",
    "    assert features.shape[1] == P.shape[0] == P.shape[1] == F.shape[0] == F.shape[1]\n",
    "    assert abs(P - P.T).mean() < 1e-4, 'P must be symmetric.'\n",
    "\n",
    "    empirical_NTK = features.dot(P).dot(features.T)\n",
    "    empirical_NTK_inv = np.linalg.inv(empirical_NTK)\n",
    "    auxi_matrix = features.dot(P).dot(F).dot(P).dot(features.T)\n",
    "\n",
    "    return sigma2 * np.trace(empirical_NTK_inv.dot(auxi_matrix).dot(empirical_NTK_inv))"
   ]
  },
  {
   "cell_type": "code",
   "execution_count": 36,
   "metadata": {},
   "outputs": [],
   "source": [
    "# Adapted CheckEigenvalues class from src/preconditioners/eigenvalues/kernel_eigenvalues.py\n",
    "# with the linear gaussian dataset\n",
    "\n",
    "class Initializer:\n",
    "    def __init__(self,\n",
    "                width,\n",
    "                depth,\n",
    "                d,\n",
    "                #lam,\n",
    "                train_size,\n",
    "                extra_size,\n",
    "                sigma2,\n",
    "                r2,\n",
    "                regime,\n",
    "                ro,\n",
    "                ):\n",
    "        # Network parameters\n",
    "        self.width = width\n",
    "        self.depth = depth\n",
    "        self.d = d\n",
    "        #self.damping = lam * np.sqrt(self.d) if self.depth == 1 else lam * self.width\n",
    "        self.damping = 0\n",
    "\n",
    "        # Dataset parameters\n",
    "        self.train_size = train_size\n",
    "        self.extra_size = extra_size\n",
    "\n",
    "        w_star = generate_true_parameter(self.d, r2, m=np.eye(self.d))\n",
    "        c = generate_c(ro, regime=regime, d=self.d) if self.depth > 1 else generate_c(ro, regime=regime, d=self.d) * np.sqrt(self.d) # we don't need to multiply by sqrt(d) if d > 1 because there c is not the Fisher\n",
    "        dataset = CenteredLinearGaussianDataset(w_star, c, n=self.train_size + self.extra_size, d=self.d, sigma2=sigma2)\n",
    "\n",
    "        self.train_dataset, self.extra_dataset = random_split(dataset, [self.train_size, self.extra_size])\n",
    "        self.labeled_data = self.train_dataset[:][0].double().to(settings.DEVICE)\n",
    "        self.unlabeled_data = self.extra_dataset[:][0].double().to(settings.DEVICE)\n",
    "\n",
    "    def create_model(self):\n",
    "        std = 1\n",
    "        #std = 1/ np.sqrt(self.width)\n",
    "\n",
    "        # Create model and optimizer\n",
    "        if self.depth == 1:\n",
    "            self.model = SLP(in_channels=self.d).double().to(settings.DEVICE)\n",
    "        else:\n",
    "            self.model = MLP(in_channels=self.d, num_layers=self.depth, hidden_channels=self.width, std=std).double().to(settings.DEVICE)\n",
    "        self.optimizer = PrecondGD(self.model, lr=1e-2, labeled_data=self.labeled_data, unlabeled_data=self.unlabeled_data, verbose=False, damping=self.damping)\n",
    "\n",
    "    def get_features_and_p_inv(self):\n",
    "         self.create_model()\n",
    "         p_inv = self.optimizer._compute_p_inv()\n",
    "         grad = self.optimizer._compute_grad_of_data(self.labeled_data)\n",
    "         return grad, p_inv\n",
    "\n",
    "    def get_features_and_F(self):\n",
    "        self.create_model()\n",
    "        F = self.optimizer._compute_fisher()\n",
    "        grad = self.optimizer._compute_grad_of_data(self.labeled_data)\n",
    "        return grad, F"
   ]
  },
  {
   "cell_type": "code",
   "execution_count": 4,
   "metadata": {},
   "outputs": [
    {
     "name": "stderr",
     "output_type": "stream",
     "text": [
      "/Users/eduardoravkin/Desktop/ml_research/phd/preconditioners/src/preconditioners/datasets.py:153: UserWarning: Warning, norms of datapoints are not sqrt(d)\n",
      "  warnings.warn('Warning, norms of datapoints are not sqrt(d)')\n"
     ]
    },
    {
     "name": "stdout",
     "output_type": "stream",
     "text": [
      "tensor(0.0441, dtype=torch.float64)\n"
     ]
    }
   ],
   "source": [
    "## Test that I get the same results if the MLP is a linear network.\n",
    "\n",
    "N = 20\n",
    "N_extra = 30000\n",
    "sigma2 = 2\n",
    "ro = 0.9\n",
    "n_ds = 10\n",
    "n_lams = 10\n",
    "ds = [int(x) for x in np.linspace(2*N,4*N,n_ds)]\n",
    "ams = np.linspace(0.1,10,n_lams)\n",
    "lams = np.logspace(0, -3, num=n_lams, endpoint=True, base=10.0)\n",
    "\n",
    "d = 100\n",
    "lam = 0.1\n",
    "\n",
    "# linear\n",
    "np.random.seed(0)\n",
    "damping = lam * np.sqrt(d)\n",
    "c = np.sqrt(d) * generate_c(ro=ro, regime='autoregressive', d=d)\n",
    "X = np.random.multivariate_normal(mean=np.zeros(d), cov=c, size=N)\n",
    "#P_damped = np.linalg.inv(c + damping*np.eye(d))\n",
    "P_ngd = np.linalg.inv(c)\n",
    "\n",
    "# get it through the initializer\n",
    "i = Initializer(width = 1,\n",
    "                depth = 1,\n",
    "                d = d,\n",
    "                lam = lam,\n",
    "                train_size = N,\n",
    "                extra_size = N_extra,\n",
    "                sigma2 = sigma2,\n",
    "                r2 = 1,\n",
    "                regime = 'autoregressive',\n",
    "                ro = ro)\n",
    "\n",
    "grad, F = i.get_features_and_F()\n",
    "#grad, F_inv = i.get_features_and_p_inv()\n",
    "\n",
    "print(abs(F-c).mean())\n",
    "#print(np.linalg.norm(F_inv - P_damped)/np.sqrt(F_inv.shape[0]))"
   ]
  },
  {
   "cell_type": "code",
   "execution_count": 5,
   "metadata": {},
   "outputs": [
    {
     "data": {
      "text/plain": [
       "tensor([[10.0206,  9.0127,  8.1454],\n",
       "        [ 9.0127,  9.9688,  8.9998],\n",
       "        [ 8.1454,  8.9998, 10.0088]], dtype=torch.float64)"
      ]
     },
     "execution_count": 5,
     "metadata": {},
     "output_type": "execute_result"
    }
   ],
   "source": [
    "F[:3,:3]"
   ]
  },
  {
   "cell_type": "code",
   "execution_count": 6,
   "metadata": {},
   "outputs": [
    {
     "data": {
      "text/plain": [
       "array([[10. ,  9. ,  8.1],\n",
       "       [ 9. , 10. ,  9. ],\n",
       "       [ 8.1,  9. , 10. ]])"
      ]
     },
     "execution_count": 6,
     "metadata": {},
     "output_type": "execute_result"
    }
   ],
   "source": [
    "c[:3,:3]"
   ]
  },
  {
   "cell_type": "code",
   "execution_count": 7,
   "metadata": {},
   "outputs": [],
   "source": [
    "############################################################################################################\n",
    "\n",
    "# In the below, am I not changing the dimension of the data, instead of changing the dimension of the model?\n",
    "# Fix it.\n",
    "\n",
    "############################################################################################################"
   ]
  },
  {
   "cell_type": "code",
   "execution_count": 8,
   "metadata": {},
   "outputs": [
    {
     "data": {
      "text/plain": [
       "1.721999263637377e-16"
      ]
     },
     "execution_count": 8,
     "metadata": {},
     "output_type": "execute_result"
    }
   ],
   "source": [
    "abs(P_ngd - P_ngd.T).mean()"
   ]
  },
  {
   "cell_type": "code",
   "execution_count": 9,
   "metadata": {},
   "outputs": [
    {
     "data": {
      "text/plain": [
       "array([1.        , 0.46415888, 0.21544347, 0.1       , 0.04641589,\n",
       "       0.02154435, 0.01      , 0.00464159, 0.00215443, 0.001     ])"
      ]
     },
     "execution_count": 9,
     "metadata": {},
     "output_type": "execute_result"
    }
   ],
   "source": [
    "lams"
   ]
  },
  {
   "cell_type": "code",
   "execution_count": 91,
   "metadata": {},
   "outputs": [
    {
     "name": "stdout",
     "output_type": "stream",
     "text": [
      "MainProcessMainProcess\n",
      "\n",
      "MainProcess\n",
      "MainProcess\n",
      " \n",
      "--------------------------------------------------\n",
      "p = 51\n",
      "lambda = 1.0\n",
      " \n",
      "--------------------------------------------------\n",
      "p = 51\n",
      "lambda = 0.01\n",
      " \n",
      "--------------------------------------------------\n",
      "p = 51\n",
      "lambda = 0.0001\n",
      "MainProcess\n",
      " \n",
      "--------------------------------------------------\n",
      "p = 51\n",
      "lambda = 1.0\n",
      " \n",
      "--------------------------------------------------\n",
      "p = 51\n",
      "lambda = 0.01\n",
      " \n",
      "--------------------------------------------------\n",
      "p = 51\n",
      "lambda = 0.0001\n",
      "MainProcess\n",
      " \n",
      "--------------------------------------------------\n",
      "p = 68\n",
      "lambda = 1.0\n",
      " \n",
      "--------------------------------------------------\n",
      "p = 68\n",
      "lambda = 0.01\n",
      " \n",
      "--------------------------------------------------\n",
      "p = 68\n",
      "lambda = 0.0001\n",
      "MainProcess\n",
      " \n",
      "--------------------------------------------------\n",
      "p = 68\n",
      "lambda = 1.0\n",
      " \n",
      "--------------------------------------------------\n",
      "p = 68\n",
      "lambda = 0.01\n",
      " \n",
      "--------------------------------------------------\n",
      "p = 68\n",
      "lambda = 0.0001\n",
      "MainProcess\n",
      " \n",
      "--------------------------------------------------\n",
      "p = 85\n",
      "lambda = 1.0\n",
      " \n",
      "--------------------------------------------------\n",
      "p = 85\n",
      "lambda = 0.01\n",
      " \n",
      "--------------------------------------------------\n",
      "p = 85\n",
      "lambda = 0.0001\n",
      " \n",
      "--------------------------------------------------\n",
      "p = 85\n",
      "lambda = 1.0\n",
      " \n",
      "--------------------------------------------------\n",
      "p = 85\n",
      "lambda = 0.01\n",
      " \n",
      "--------------------------------------------------\n",
      "p = 85\n",
      "lambda = 0.0001\n",
      " \n",
      "--------------------------------------------------\n",
      "p = 102\n",
      "lambda = 1.0\n",
      " \n",
      "--------------------------------------------------\n",
      "p = 102\n",
      "lambda = 0.01\n",
      " \n",
      "--------------------------------------------------\n",
      "p = 102\n",
      "lambda = 0.0001\n",
      " \n",
      "--------------------------------------------------\n",
      "p = 119\n",
      "lambda = 1.0\n",
      " \n",
      "--------------------------------------------------\n",
      "p = 119\n",
      "lambda = 0.01\n",
      " \n",
      "--------------------------------------------------\n",
      "p = 119\n",
      "lambda = 0.0001\n",
      "[(0, 0, 3.407172621242778, 0.4788112539485314), (0, 1, 1.3974985210405713, 0.4788112539485314), (0, 2, 0.04395809955455232, 0.4788112539485314), (1, 0, 3.6017422656341047, 0.4750489401401466), (1, 1, 1.408812098089194, 0.4750489401401466), (1, 2, 0.10722190395456166, 0.4750489401401466), (2, 0, 2.576375831431649, 0.4145182547938), (2, 1, 1.4442478981879479, 0.4145182547938), (2, 2, 0.15083038403568855, 0.4145182547938), (3, 0, 1.7878651437457993, 0.42641816650253006), (3, 1, 0.7081254824085409, 0.42641816650253006), (3, 2, 0.0768285780437169, 0.42641816650253006), (4, 0, 3.3041346903624382, 0.1499528114236472), (4, 1, 2.709192313284739, 0.1499528114236472), (4, 2, 0.5130035916582859, 0.1499528114236472), (5, 0, 1.6923293766214518, 0.2337295616456972), (5, 1, 0.9933353603965738, 0.2337295616456972), (5, 2, 0.0871108940356573, 0.2337295616456972), (6, 0, 1.7632844247373183, 0.23296560090964466), (6, 1, 1.1942415434782248, 0.23296560090964466), (6, 2, 0.32148079210566716, 0.23296560090964466), (7, 0, 2.2742174275406537, 0.18836569214982543), (7, 1, 1.456387931540271, 0.18836569214982543), (7, 2, 0.46051099701607806, 0.18836569214982543)]\n"
     ]
    }
   ],
   "source": [
    "import matplotlib.pyplot as plt\n",
    "import numpy as np\n",
    "from multiprocessing.pool import ThreadPool\n",
    "\n",
    "N = 10\n",
    "N_extra = 30000\n",
    "d = 15\n",
    "sigma2 = 2\n",
    "ro = 0.9\n",
    "n_ns = 8\n",
    "n_lams = 3\n",
    "variances_damped = np.zeros((n_ns,n_lams))\n",
    "variances_ngd = np.zeros((n_ns,n_lams))\n",
    "variances_diff = np.zeros((n_ns,n_lams))    \n",
    "largest_eigval_F_div_n = np.zeros((n_ns,n_lams))\n",
    "\n",
    "ns = [int(x) for x in np.linspace(int(np.sqrt(1.5*N)),int(np.sqrt(6*N)),n_ns)]\n",
    "ps = np.zeros(n_ns)\n",
    "#lams = np.logspace(0, -5, num=n_lams, endpoint=True, base=10.0)\n",
    "lams = [1.0, 0.01, 0.0001]\n",
    "dampings = []\n",
    "\n",
    "# save results as tuples (i, j, variances_diff, largest_eigval_F_div_n)\n",
    "results = []\n",
    "def get_variances_n(i: int, d, N, N_extra, sigma2, ro, lams, ns):\n",
    "    # print current cpu id\n",
    "    process = multiprocessing.current_process()\n",
    "    print(process.name)\n",
    "    res = []\n",
    "    n = ns[i]\n",
    "    params = {\n",
    "            'width' : n,\n",
    "            'depth' : 2,\n",
    "            'd' : d,\n",
    "            'lam' : -10000000, # damping does not matter here if we are not using .get_features_and_p_inv()\n",
    "            'train_size' : N,\n",
    "            'extra_size' : N_extra,\n",
    "            'sigma2' : sigma2,\n",
    "            'r2' : 1,\n",
    "            'regime' : 'autoregressive',\n",
    "            'ro' : ro\n",
    "        }\n",
    "    ini = Initializer(**params)\n",
    "    features, F_extra = [x.numpy() for x in ini.get_features_and_F()]\n",
    "    p = F_extra.shape[0]\n",
    "    P_ngd = np.linalg.inv(F_extra)\n",
    "\n",
    "    ### TODO: There is an error here!! this eigenvalue (divided by n) is decreasing with n, but it should be constant.\n",
    "    ### check if I'm doing the right parametrization!!!\n",
    "    \n",
    "    e_F_div_n = np.linalg.eigvalsh(F_extra)[-1]/n\n",
    "    v_ngd = kernel_variance_interpolator(features=features, P=P_ngd, F=F_extra, sigma2=sigma2)    \n",
    "    \n",
    "    for j in range(n_lams):\n",
    "        print(' ')\n",
    "        print('-'*50)\n",
    "        lam = lams[j]\n",
    "        damping = lam * n\n",
    "        print(f'p = {p}')\n",
    "        print(f'lambda = {lam}')\n",
    "\n",
    "        P_damped = np.linalg.inv(F_extra + damping * np.eye(p))\n",
    "\n",
    "        #largest_eigval_F_div_n[i, j] = e_F_div_n\n",
    "        v_damped = kernel_variance_interpolator(features=features, P=P_damped, F=F_extra, sigma2=sigma2) \n",
    "        v_diff = v_damped - v_ngd\n",
    "        res.append((i, j, v_diff, e_F_div_n))\n",
    "\n",
    "    return res\n",
    "\n",
    "\n",
    "# for i in range(n_ns):\n",
    "#     results += get_variances_n(i, d, N, N_extra, sigma2, ro, lams, ns)\n",
    "\n",
    "from functools import partial\n",
    "get_variances_n_fixed = partial(get_variances_n, d=d, N=N, N_extra=N_extra, sigma2=sigma2, ro=ro, lams=lams, ns=ns)\n",
    "\n",
    "with ThreadPool(processes=4) as pool:\n",
    "    for res in pool.map(get_variances_n_fixed, [i for i in range(len(ns))]):\n",
    "        results.extend(res)\n",
    "\n",
    "# use multiprocessing to run the above function in parallel for each n in ns and save them intor results\n",
    "# if __name__ == '__main__':\n",
    "#     with multiprocessing.Pool(processes=4) as pool:\n",
    "#         for i, res in enumerate(pool.starmap(get_variances_n, [(i, d, N, N_extra, sigma2, ro, lams, ns) for i in range(len(ns))])):\n",
    "#             results += res\n",
    "\n",
    "print(results)\n",
    "\n",
    "# from concurrent.futures import ProcessPoolExecutor\n",
    "\n",
    "# with ProcessPoolExecutor() as executor:\n",
    "#     results = list(executor.map(get_variances_n, range(n_ns)))\n",
    "\n",
    "# processes = []\n",
    "# for i in range(n_ns):\n",
    "#     p = multiprocessing.Process(target=get_variances_n, args=(i,))\n",
    "#     processes.append(p)\n",
    "#     p.start()\n",
    "\n",
    "# for p in processes:\n",
    "#     p.join()\n",
    "\n",
    "# threads = []\n",
    "# for i in range(n_ns):\n",
    "#     t = threading.Thread(target=get_variances_n, args=(i,))\n",
    "#     threads.append(t)\n",
    "#     t.start()\n",
    "\n",
    "# for t in threads:\n",
    "#     t.join()"
   ]
  },
  {
   "cell_type": "code",
   "execution_count": 58,
   "metadata": {},
   "outputs": [
    {
     "data": {
      "text/plain": [
       "array([[0., 0., 0.],\n",
       "       [0., 0., 0.],\n",
       "       [0., 0., 0.],\n",
       "       [0., 0., 0.],\n",
       "       [0., 0., 0.]])"
      ]
     },
     "execution_count": 58,
     "metadata": {},
     "output_type": "execute_result"
    }
   ],
   "source": [
    "variances_diff"
   ]
  },
  {
   "cell_type": "code",
   "execution_count": 37,
   "metadata": {},
   "outputs": [
    {
     "name": "stdout",
     "output_type": "stream",
     "text": [
      "3\n"
     ]
    },
    {
     "name": "stderr",
     "output_type": "stream",
     "text": [
      "/Users/eduardoravkin/Desktop/ml_research/phd/preconditioners/src/preconditioners/datasets.py:153: UserWarning: Warning, norms of datapoints are not sqrt(d)\n",
      "  warnings.warn('Warning, norms of datapoints are not sqrt(d)')\n",
      "/usr/local/Caskroom/miniforge/base/envs/preconditioners/lib/python3.9/site-packages/torch/nn/functional.py:1795: UserWarning: nn.functional.tanh is deprecated. Use torch.tanh instead.\n",
      "  warnings.warn(\"nn.functional.tanh is deprecated. Use torch.tanh instead.\")\n"
     ]
    },
    {
     "name": "stdout",
     "output_type": "stream",
     "text": [
      "15.739849090576172\n",
      "0.0004298686981201172\n",
      " \n",
      "7\n",
      "19.815614938735962\n",
      "0.004244089126586914\n",
      " \n",
      "11\n",
      "24.4473819732666\n",
      "0.0038690567016601562\n",
      " \n",
      "15\n",
      "33.920655965805054\n",
      "0.020847082138061523\n",
      " \n",
      "19\n",
      "37.280600786209106\n",
      "0.006659030914306641\n",
      " \n",
      "23\n",
      "45.936105251312256\n",
      "0.01545405387878418\n",
      " \n",
      "27\n"
     ]
    },
    {
     "ename": "KeyboardInterrupt",
     "evalue": "",
     "output_type": "error",
     "traceback": [
      "\u001b[0;31m---------------------------------------------------------------------------\u001b[0m",
      "\u001b[0;31mKeyboardInterrupt\u001b[0m                         Traceback (most recent call last)",
      "\u001b[1;32m/Users/eduardoravkin/Desktop/ml_research/phd/preconditioners/notebooks/02042023_faster_NTK_kernel_variance.ipynb Cell 15\u001b[0m in \u001b[0;36m<cell line: 3>\u001b[0;34m()\u001b[0m\n\u001b[1;32m     <a href='vscode-notebook-cell:/Users/eduardoravkin/Desktop/ml_research/phd/preconditioners/notebooks/02042023_faster_NTK_kernel_variance.ipynb#X62sZmlsZQ%3D%3D?line=16'>17</a>\u001b[0m ini \u001b[39m=\u001b[39m Initializer(\u001b[39m*\u001b[39m\u001b[39m*\u001b[39mparams)\n\u001b[1;32m     <a href='vscode-notebook-cell:/Users/eduardoravkin/Desktop/ml_research/phd/preconditioners/notebooks/02042023_faster_NTK_kernel_variance.ipynb#X62sZmlsZQ%3D%3D?line=17'>18</a>\u001b[0m t1 \u001b[39m=\u001b[39m time\u001b[39m.\u001b[39mtime()\n\u001b[0;32m---> <a href='vscode-notebook-cell:/Users/eduardoravkin/Desktop/ml_research/phd/preconditioners/notebooks/02042023_faster_NTK_kernel_variance.ipynb#X62sZmlsZQ%3D%3D?line=18'>19</a>\u001b[0m features, F_extra \u001b[39m=\u001b[39m [x\u001b[39m.\u001b[39mnumpy() \u001b[39mfor\u001b[39;00m x \u001b[39min\u001b[39;00m ini\u001b[39m.\u001b[39;49mget_features_and_F()]\n\u001b[1;32m     <a href='vscode-notebook-cell:/Users/eduardoravkin/Desktop/ml_research/phd/preconditioners/notebooks/02042023_faster_NTK_kernel_variance.ipynb#X62sZmlsZQ%3D%3D?line=19'>20</a>\u001b[0m t2 \u001b[39m=\u001b[39m time\u001b[39m.\u001b[39mtime()\n\u001b[1;32m     <a href='vscode-notebook-cell:/Users/eduardoravkin/Desktop/ml_research/phd/preconditioners/notebooks/02042023_faster_NTK_kernel_variance.ipynb#X62sZmlsZQ%3D%3D?line=20'>21</a>\u001b[0m \u001b[39mprint\u001b[39m(t2\u001b[39m-\u001b[39mt1)\n",
      "\u001b[1;32m/Users/eduardoravkin/Desktop/ml_research/phd/preconditioners/notebooks/02042023_faster_NTK_kernel_variance.ipynb Cell 15\u001b[0m in \u001b[0;36mInitializer.get_features_and_F\u001b[0;34m(self)\u001b[0m\n\u001b[1;32m     <a href='vscode-notebook-cell:/Users/eduardoravkin/Desktop/ml_research/phd/preconditioners/notebooks/02042023_faster_NTK_kernel_variance.ipynb#X62sZmlsZQ%3D%3D?line=52'>53</a>\u001b[0m \u001b[39mdef\u001b[39;00m \u001b[39mget_features_and_F\u001b[39m(\u001b[39mself\u001b[39m):\n\u001b[1;32m     <a href='vscode-notebook-cell:/Users/eduardoravkin/Desktop/ml_research/phd/preconditioners/notebooks/02042023_faster_NTK_kernel_variance.ipynb#X62sZmlsZQ%3D%3D?line=53'>54</a>\u001b[0m     \u001b[39mself\u001b[39m\u001b[39m.\u001b[39mcreate_model()\n\u001b[0;32m---> <a href='vscode-notebook-cell:/Users/eduardoravkin/Desktop/ml_research/phd/preconditioners/notebooks/02042023_faster_NTK_kernel_variance.ipynb#X62sZmlsZQ%3D%3D?line=54'>55</a>\u001b[0m     F \u001b[39m=\u001b[39m \u001b[39mself\u001b[39;49m\u001b[39m.\u001b[39;49moptimizer\u001b[39m.\u001b[39;49m_compute_fisher()\n\u001b[1;32m     <a href='vscode-notebook-cell:/Users/eduardoravkin/Desktop/ml_research/phd/preconditioners/notebooks/02042023_faster_NTK_kernel_variance.ipynb#X62sZmlsZQ%3D%3D?line=55'>56</a>\u001b[0m     grad \u001b[39m=\u001b[39m \u001b[39mself\u001b[39m\u001b[39m.\u001b[39moptimizer\u001b[39m.\u001b[39m_compute_grad_of_data(\u001b[39mself\u001b[39m\u001b[39m.\u001b[39mlabeled_data)\n\u001b[1;32m     <a href='vscode-notebook-cell:/Users/eduardoravkin/Desktop/ml_research/phd/preconditioners/notebooks/02042023_faster_NTK_kernel_variance.ipynb#X62sZmlsZQ%3D%3D?line=56'>57</a>\u001b[0m     \u001b[39mreturn\u001b[39;00m grad, F\n",
      "File \u001b[0;32m~/Desktop/ml_research/phd/preconditioners/src/preconditioners/optimizers/precond.py:28\u001b[0m, in \u001b[0;36mPrecondGD._compute_fisher\u001b[0;34m(self)\u001b[0m\n\u001b[1;32m     26\u001b[0m size \u001b[39m=\u001b[39m \u001b[39m0\u001b[39m\n\u001b[1;32m     27\u001b[0m \u001b[39mfor\u001b[39;00m x \u001b[39min\u001b[39;00m unlabeled_data:\n\u001b[0;32m---> 28\u001b[0m     grad \u001b[39m=\u001b[39m model_gradients_using_backprop(\u001b[39mself\u001b[39;49m\u001b[39m.\u001b[39;49mmodel, x)\u001b[39m.\u001b[39mdetach()\n\u001b[1;32m     29\u001b[0m     p \u001b[39m+\u001b[39m\u001b[39m=\u001b[39m grad \u001b[39m@\u001b[39m grad\u001b[39m.\u001b[39mT\n\u001b[1;32m     30\u001b[0m     size \u001b[39m+\u001b[39m\u001b[39m=\u001b[39m \u001b[39m1\u001b[39m\n",
      "File \u001b[0;32m~/Desktop/ml_research/phd/preconditioners/src/preconditioners/utils.py:319\u001b[0m, in \u001b[0;36mmodel_gradients_using_backprop\u001b[0;34m(model, x)\u001b[0m\n\u001b[1;32m    317\u001b[0m \u001b[39m\"\"\"Computes model gradients -- used in precond.py\"\"\"\u001b[39;00m\n\u001b[1;32m    318\u001b[0m model\u001b[39m.\u001b[39mzero_grad()\n\u001b[0;32m--> 319\u001b[0m get_jacobian(model, x, noutputs\u001b[39m=\u001b[39;49mmodel\u001b[39m.\u001b[39;49mout_dim)\n\u001b[1;32m    320\u001b[0m grads \u001b[39m=\u001b[39m torch\u001b[39m.\u001b[39mcat([param\u001b[39m.\u001b[39mgrad\u001b[39m.\u001b[39mview(\u001b[39m-\u001b[39m\u001b[39m1\u001b[39m) \u001b[39mfor\u001b[39;00m param \u001b[39min\u001b[39;00m model\u001b[39m.\u001b[39mparameters()])\u001b[39m.\u001b[39mview(\u001b[39m-\u001b[39m\u001b[39m1\u001b[39m, \u001b[39m1\u001b[39m)\u001b[39m.\u001b[39mdetach()\n\u001b[1;32m    321\u001b[0m model\u001b[39m.\u001b[39mzero_grad()\n",
      "File \u001b[0;32m~/Desktop/ml_research/phd/preconditioners/src/preconditioners/utils.py:312\u001b[0m, in \u001b[0;36mget_jacobian\u001b[0;34m(net, x, noutputs)\u001b[0m\n\u001b[1;32m    310\u001b[0m x\u001b[39m.\u001b[39mrequires_grad_(\u001b[39mTrue\u001b[39;00m)\n\u001b[1;32m    311\u001b[0m y \u001b[39m=\u001b[39m net(x)\n\u001b[0;32m--> 312\u001b[0m y\u001b[39m.\u001b[39mbackward(torch\u001b[39m.\u001b[39;49meye(noutputs)\u001b[39m.\u001b[39mto(DEVICE))\n\u001b[1;32m    313\u001b[0m \u001b[39mreturn\u001b[39;00m x\u001b[39m.\u001b[39mgrad\u001b[39m.\u001b[39mdata\n",
      "\u001b[0;31mKeyboardInterrupt\u001b[0m: "
     ]
    }
   ],
   "source": [
    "evals = []\n",
    "import time\n",
    "for n in [3,7,11,15,19,23,27]:\n",
    "    print(n)\n",
    "    params = {\n",
    "            'width' : n,\n",
    "            'depth' : 2,\n",
    "            'd' : 15,\n",
    "            #'lam' : -10000000, # damping does not matter here if we are not using .get_features_and_p_inv()\n",
    "            'train_size' : 10,\n",
    "            'extra_size' : 200000,\n",
    "            'sigma2' : 2,\n",
    "            'r2' : 1,\n",
    "            'regime' : 'autoregressive',\n",
    "            'ro' : 0.7\n",
    "        }\n",
    "    ini = Initializer(**params)\n",
    "    t1 = time.time()\n",
    "    features, F_extra = [x.numpy() for x in ini.get_features_and_F()]\n",
    "    t2 = time.time()\n",
    "    print(t2-t1)\n",
    "    evals.append(np.linalg.eigvalsh(F_extra)[-1])\n",
    "    t3 = time.time()\n",
    "    print(t3-t2)\n",
    "    print(' ')\n",
    "\n",
    "print(evals)"
   ]
  },
  {
   "cell_type": "code",
   "execution_count": 38,
   "metadata": {},
   "outputs": [
    {
     "name": "stdout",
     "output_type": "stream",
     "text": [
      "[1.6141933705994282, 2.8062662966382836, 2.5660470814662726, 4.794735439470179, 4.852510064231936, 5.511911164822392]\n"
     ]
    }
   ],
   "source": [
    "print(evals)"
   ]
  },
  {
   "cell_type": "code",
   "execution_count": 39,
   "metadata": {},
   "outputs": [
    {
     "data": {
      "text/plain": [
       "(391, 391)"
      ]
     },
     "execution_count": 39,
     "metadata": {},
     "output_type": "execute_result"
    }
   ],
   "source": [
    "F_extra.shape"
   ]
  },
  {
   "cell_type": "code",
   "execution_count": 40,
   "metadata": {},
   "outputs": [
    {
     "data": {
      "text/plain": [
       "5.511911164822399"
      ]
     },
     "execution_count": 40,
     "metadata": {},
     "output_type": "execute_result"
    }
   ],
   "source": [
    "np.linalg.eig(F_extra)[0][0]"
   ]
  },
  {
   "cell_type": "code",
   "execution_count": 41,
   "metadata": {},
   "outputs": [
    {
     "name": "stdout",
     "output_type": "stream",
     "text": [
      " \n",
      "--------------------------------------------------\n",
      "iteration 1 of 18\n",
      "p = 51\n",
      "damping = 3.0\n",
      " \n",
      "--------------------------------------------------\n",
      "iteration 2 of 18\n",
      "p = 51\n",
      "damping = 0.03\n",
      " \n",
      "--------------------------------------------------\n",
      "iteration 3 of 18\n",
      "p = 51\n",
      "damping = 0.00030000000000000003\n",
      " \n",
      "--------------------------------------------------\n",
      "iteration 4 of 18\n",
      "p = 85\n",
      "damping = 5.0\n",
      " \n",
      "--------------------------------------------------\n",
      "iteration 5 of 18\n",
      "p = 85\n",
      "damping = 0.05\n",
      " \n",
      "--------------------------------------------------\n",
      "iteration 6 of 18\n",
      "p = 85\n",
      "damping = 0.0005\n",
      " \n",
      "--------------------------------------------------\n",
      "iteration 7 of 18\n",
      "p = 119\n",
      "damping = 7.0\n",
      " \n",
      "--------------------------------------------------\n",
      "iteration 8 of 18\n",
      "p = 119\n",
      "damping = 0.07\n",
      " \n",
      "--------------------------------------------------\n",
      "iteration 9 of 18\n",
      "p = 119\n",
      "damping = 0.0007\n",
      " \n",
      "--------------------------------------------------\n",
      "iteration 10 of 18\n",
      "p = 153\n",
      "damping = 9.0\n",
      " \n",
      "--------------------------------------------------\n",
      "iteration 11 of 18\n",
      "p = 153\n",
      "damping = 0.09\n",
      " \n",
      "--------------------------------------------------\n",
      "iteration 12 of 18\n",
      "p = 153\n",
      "damping = 0.0009000000000000001\n",
      " \n",
      "--------------------------------------------------\n",
      "iteration 13 of 18\n",
      "p = 187\n",
      "damping = 11.0\n",
      " \n",
      "--------------------------------------------------\n",
      "iteration 14 of 18\n",
      "p = 187\n",
      "damping = 0.11\n",
      " \n",
      "--------------------------------------------------\n",
      "iteration 15 of 18\n",
      "p = 187\n",
      "damping = 0.0011\n",
      " \n",
      "--------------------------------------------------\n",
      "iteration 16 of 18\n",
      "p = 221\n",
      "damping = 13.0\n",
      " \n",
      "--------------------------------------------------\n",
      "iteration 17 of 18\n",
      "p = 221\n",
      "damping = 0.13\n",
      " \n",
      "--------------------------------------------------\n",
      "iteration 18 of 18\n",
      "p = 221\n",
      "damping = 0.0013000000000000002\n"
     ]
    }
   ],
   "source": [
    "import matplotlib.pyplot as plt\n",
    "import numpy as np\n",
    "\n",
    "N = 10\n",
    "N_extra = 200000\n",
    "d = 15\n",
    "sigma2 = 2\n",
    "ro = 0.9\n",
    "#n_ns = 5\n",
    "#n_lams = 1\n",
    "#ns = [int(x) for x in np.linspace(int(np.sqrt(1.5*N)),int(np.sqrt(8*N)),n_ns)]\n",
    "ns = [3,5,7,9,11,13]\n",
    "n_ns = len(ns)\n",
    "ps = []\n",
    "#lams = np.logspace(0, -5, num=n_lams, endpoint=True, base=10.0)\n",
    "lams = [1.0, 0.01, 0.0001]\n",
    "n_lams = len(lams)\n",
    "#lams = [1.0]\n",
    "variances_damped = np.zeros((n_ns,n_lams))\n",
    "variances_ngd = np.zeros((n_ns,n_lams))\n",
    "variances_diff = np.zeros((n_ns,n_lams))    \n",
    "largest_eigval_F_div_n = np.zeros((n_ns,n_lams))\n",
    "dampings = []\n",
    "\n",
    "k = 0\n",
    "for i in range(n_ns):\n",
    "    n = ns[i]\n",
    "    params = {\n",
    "            'width' : n,\n",
    "            'depth' : 2,\n",
    "            'd' : d,\n",
    "            #'lam' : -10000000, # damping does not matter here if we are not using .get_features_and_p_inv()\n",
    "            'train_size' : N,\n",
    "            'extra_size' : N_extra,\n",
    "            'sigma2' : sigma2,\n",
    "            'r2' : 1,\n",
    "            'regime' : 'autoregressive',\n",
    "            'ro' : ro\n",
    "        }\n",
    "    ini = Initializer(**params)\n",
    "    features, F_extra = [x.numpy() for x in ini.get_features_and_F()]\n",
    "    p = F_extra.shape[0]\n",
    "    ps.append(p)\n",
    "    P_ngd = np.linalg.inv(F_extra)\n",
    "\n",
    "    ### TODO: There is an error here!! this eigenvalue (divided by n) is decreasing with n, but it should be constant.\n",
    "    ### check if I'm doing the right parametrization!!!\n",
    "\n",
    "    \n",
    "    e_F_div_n = np.linalg.eigvalsh(F_extra)[-1]#/n\n",
    "    v_ngd = kernel_variance_interpolator(features=features, P=P_ngd, F=F_extra, sigma2=sigma2)\n",
    "\n",
    "    for j in range(n_lams):\n",
    "        k = k+1\n",
    "        print(' ')\n",
    "        print('-'*50)\n",
    "        print(f'iteration {k} of {n_ns*n_lams}')\n",
    "        print(f'p = {p}')\n",
    "        lam = lams[j]\n",
    "        damping = lam * n\n",
    "        dampings.append(damping)\n",
    "        print(f'damping = {damping}')\n",
    "        \n",
    "        P_damped = np.linalg.inv(F_extra + damping * np.eye(p))\n",
    "        \n",
    "        largest_eigval_F_div_n[i, j] = e_F_div_n\n",
    "        variances_damped[i, j] = kernel_variance_interpolator(features=features, P=P_damped, F=F_extra, sigma2=sigma2) \n",
    "        variances_ngd[i, j] = v_ngd\n",
    "        variances_diff = variances_damped - variances_ngd\n",
    "        variances_diff[i, j] = variances_damped[i, j] - variances_ngd[i, j]\n",
    "\n",
    "# choose only unique ps\n",
    "ps = np.unique(ps)"
   ]
  },
  {
   "cell_type": "code",
   "execution_count": 42,
   "metadata": {},
   "outputs": [
    {
     "data": {
      "text/plain": [
       "[3, 5, 7, 9, 11, 13]"
      ]
     },
     "execution_count": 42,
     "metadata": {},
     "output_type": "execute_result"
    }
   ],
   "source": [
    "ns"
   ]
  },
  {
   "cell_type": "code",
   "execution_count": 43,
   "metadata": {},
   "outputs": [
    {
     "data": {
      "text/plain": [
       "[1.0, 0.01, 0.0001]"
      ]
     },
     "execution_count": 43,
     "metadata": {},
     "output_type": "execute_result"
    }
   ],
   "source": [
    "lams"
   ]
  },
  {
   "cell_type": "code",
   "execution_count": 44,
   "metadata": {},
   "outputs": [
    {
     "data": {
      "text/plain": [
       "(221, 221)"
      ]
     },
     "execution_count": 44,
     "metadata": {},
     "output_type": "execute_result"
    }
   ],
   "source": [
    "P_ngd.shape"
   ]
  },
  {
   "cell_type": "code",
   "execution_count": 45,
   "metadata": {},
   "outputs": [
    {
     "data": {
      "text/plain": [
       "0.244205"
      ]
     },
     "execution_count": 45,
     "metadata": {},
     "output_type": "execute_result"
    }
   ],
   "source": [
    "p**2 / N_extra"
   ]
  },
  {
   "cell_type": "code",
   "execution_count": 46,
   "metadata": {},
   "outputs": [
    {
     "data": {
      "text/plain": [
       "9.233401119390962e-10"
      ]
     },
     "execution_count": 46,
     "metadata": {},
     "output_type": "execute_result"
    }
   ],
   "source": [
    "abs(P_ngd - P_ngd.T).mean()"
   ]
  },
  {
   "cell_type": "code",
   "execution_count": 47,
   "metadata": {},
   "outputs": [
    {
     "data": {
      "text/plain": [
       "[3, 5, 7, 9, 11, 13]"
      ]
     },
     "execution_count": 47,
     "metadata": {},
     "output_type": "execute_result"
    }
   ],
   "source": [
    "ns"
   ]
  },
  {
   "cell_type": "code",
   "execution_count": 48,
   "metadata": {},
   "outputs": [
    {
     "data": {
      "text/plain": [
       "[1.0, 0.01, 0.0001]"
      ]
     },
     "execution_count": 48,
     "metadata": {},
     "output_type": "execute_result"
    }
   ],
   "source": [
    "lams"
   ]
  },
  {
   "cell_type": "code",
   "execution_count": 49,
   "metadata": {},
   "outputs": [
    {
     "data": {
      "text/plain": [
       "<AxesSubplot: >"
      ]
     },
     "execution_count": 49,
     "metadata": {},
     "output_type": "execute_result"
    },
    {
     "data": {
      "image/png": "[encoded data removed]",
      "text/plain": [
       "<Figure size 432x288 with 2 Axes>"
      ]
     },
     "metadata": {
      "needs_background": "light"
     },
     "output_type": "display_data"
    }
   ],
   "source": [
    "import seaborn as sns\n",
    "sns.heatmap(variances_diff, cmap='viridis', xticklabels=[round(x, 5) for x in lams], yticklabels=np.unique(ps), annot=True)"
   ]
  },
  {
   "cell_type": "code",
   "execution_count": 50,
   "metadata": {},
   "outputs": [],
   "source": [
    "# divide each row of largest_eigval_F_div_n by the corresponding"
   ]
  },
  {
   "cell_type": "code",
   "execution_count": 51,
   "metadata": {},
   "outputs": [
    {
     "data": {
      "text/plain": [
       "<AxesSubplot: >"
      ]
     },
     "execution_count": 51,
     "metadata": {},
     "output_type": "execute_result"
    },
    {
     "data": {
      "image/png": "[encoded data removed]",
      "text/plain": [
       "<Figure size 432x288 with 2 Axes>"
      ]
     },
     "metadata": {
      "needs_background": "light"
     },
     "output_type": "display_data"
    }
   ],
   "source": [
    "sns.heatmap(largest_eigval_F_div_n, cmap='viridis', xticklabels=[round(x, 1) for x in lams], yticklabels=ns, annot=True)"
   ]
  },
  {
   "cell_type": "code",
   "execution_count": 61,
   "metadata": {},
   "outputs": [],
   "source": [
    "# TODO: Triple check that we are computing the inverse well now and that we were doing it wrong before. Because the tests were passing before."
   ]
  },
  {
   "cell_type": "code",
   "execution_count": 62,
   "metadata": {},
   "outputs": [
    {
     "data": {
      "text/plain": [
       "array([[7.07106781, 6.36396103, 5.72756493],\n",
       "       [6.36396103, 7.07106781, 6.36396103],\n",
       "       [5.72756493, 6.36396103, 7.07106781]])"
      ]
     },
     "execution_count": 62,
     "metadata": {},
     "output_type": "execute_result"
    }
   ],
   "source": [
    "c[:3,:3]"
   ]
  },
  {
   "cell_type": "code",
   "execution_count": 63,
   "metadata": {},
   "outputs": [
    {
     "data": {
      "text/plain": [
       "array([[7.77817459, 6.36396103, 5.72756493],\n",
       "       [6.36396103, 7.77817459, 6.36396103],\n",
       "       [5.72756493, 6.36396103, 7.77817459]])"
      ]
     },
     "execution_count": 63,
     "metadata": {},
     "output_type": "execute_result"
    }
   ],
   "source": [
    "(c + damping*np.eye(d))[:3,:3]"
   ]
  },
  {
   "cell_type": "code",
   "execution_count": 64,
   "metadata": {},
   "outputs": [
    {
     "data": {
      "text/plain": [
       "array([[ 0.40672876, -0.26077797, -0.06749992],\n",
       "       [-0.26077797,  0.573929  , -0.21749976],\n",
       "       [-0.06749992, -0.21749976,  0.58513116]])"
      ]
     },
     "execution_count": 64,
     "metadata": {},
     "output_type": "execute_result"
    }
   ],
   "source": [
    "np.linalg.inv(c+ damping*np.eye(d))[:3,:3]"
   ]
  },
  {
   "cell_type": "code",
   "execution_count": 18,
   "metadata": {},
   "outputs": [
    {
     "data": {
      "text/plain": [
       "tensor([[ 0.0352, -0.0173, -0.0002],\n",
       "        [-0.0173,  0.0352, -0.0173],\n",
       "        [-0.0002, -0.0173,  0.0352]], dtype=torch.float64)"
      ]
     },
     "execution_count": 18,
     "metadata": {},
     "output_type": "execute_result"
    }
   ],
   "source": [
    "import torch\n",
    "torch.cholesky_inverse(torch.from_numpy(c+ damping*np.eye(d)))[:3,:3]"
   ]
  },
  {
   "cell_type": "code",
   "execution_count": 39,
   "metadata": {},
   "outputs": [
    {
     "data": {
      "text/plain": [
       "tensor([[ 0.1522, -0.1304, -0.0057],\n",
       "        [-0.1304,  0.2640, -0.1256],\n",
       "        [-0.0057, -0.1256,  0.2642]], dtype=torch.float64)"
      ]
     },
     "execution_count": 39,
     "metadata": {},
     "output_type": "execute_result"
    }
   ],
   "source": [
    "import torch\n",
    "torch.cholesky_inverse(torch.cholesky(torch.from_numpy(c+ damping*np.eye(d))))[:3,:3]"
   ]
  },
  {
   "cell_type": "code",
   "execution_count": 40,
   "metadata": {},
   "outputs": [
    {
     "data": {
      "text/plain": [
       "array([[ 0.15224482, -0.13042363, -0.00565121],\n",
       "       [-0.13042363,  0.26397487, -0.1255824 ],\n",
       "       [-0.00565121, -0.1255824 ,  0.26418464]])"
      ]
     },
     "execution_count": 40,
     "metadata": {},
     "output_type": "execute_result"
    }
   ],
   "source": [
    "np.linalg.inv(c+ damping*np.eye(d))[:3,:3]"
   ]
  },
  {
   "cell_type": "code",
   "execution_count": 41,
   "metadata": {},
   "outputs": [
    {
     "data": {
      "text/plain": [
       "array([[ 0.15224482, -0.13042363, -0.00565121],\n",
       "       [-0.13042363,  0.26397487, -0.1255824 ],\n",
       "       [-0.00565121, -0.1255824 ,  0.26418464]])"
      ]
     },
     "execution_count": 41,
     "metadata": {},
     "output_type": "execute_result"
    }
   ],
   "source": [
    "P_damped[:3,:3]"
   ]
  },
  {
   "cell_type": "code",
   "execution_count": 42,
   "metadata": {},
   "outputs": [
    {
     "data": {
      "text/plain": [
       "array([[ 1.73584905e-03, -8.49996340e-04, -8.67206609e-06],\n",
       "       [-8.49996340e-04,  1.73288370e-03, -8.62042779e-04],\n",
       "       [-8.67206609e-06, -8.62042779e-04,  1.76788253e-03]])"
      ]
     },
     "execution_count": 42,
     "metadata": {},
     "output_type": "execute_result"
    }
   ],
   "source": [
    "F_inv.numpy()[:3,:3]"
   ]
  },
  {
   "attachments": {},
   "cell_type": "markdown",
   "metadata": {},
   "source": [
    "## Doing Lambda parralel"
   ]
  },
  {
   "cell_type": "code",
   "execution_count": 52,
   "metadata": {},
   "outputs": [
    {
     "name": "stdout",
     "output_type": "stream",
     "text": [
      "  \n",
      "--------------------------------------------------\n",
      "p = 51\n",
      "lambda = 1.0\n",
      "\n",
      "--------------------------------------------------\n",
      "p = 51\n",
      "lambda = 0.01\n",
      " \n",
      "--------------------------------------------------\n",
      "p = 51\n",
      "lambda = 0.0001\n",
      " \n",
      "--------------------------------------------------\n",
      "p = 68\n",
      "lambda = 1.0 \n",
      "\n",
      "--------------------------------------------------\n",
      "p = 68\n",
      "lambda = 0.01\n",
      " \n",
      "--------------------------------------------------\n",
      "p = 68\n",
      "lambda = 0.0001\n",
      "  \n",
      "--------------------------------------------------\n",
      "p = 85\n",
      "lambda = 1.0\n",
      "\n",
      "--------------------------------------------------\n",
      "p = 85\n",
      "lambda = 0.01\n",
      " \n",
      "--------------------------------------------------\n",
      "p = 85\n",
      "lambda = 0.0001\n",
      "  \n",
      "--------------------------------------------------\n",
      "p = 102\n",
      "lambda = 1.0\n",
      " \n",
      "--------------------------------------------------\n",
      "p = 102\n",
      "lambda = 0.0001\n",
      "\n",
      "--------------------------------------------------\n",
      "p = 102\n",
      "lambda = 0.01\n",
      "  \n",
      "--------------------------------------------------\n",
      "p = 119\n",
      "lambda = 1.0\n",
      "--------------------------------------------------\n",
      "p = 119\n",
      "lambda = 0.01\n",
      "\n",
      " \n",
      "--------------------------------------------------\n",
      "p = 119\n",
      "lambda = 0.0001\n"
     ]
    }
   ],
   "source": [
    "import matplotlib.pyplot as plt\n",
    "import numpy as np\n",
    "\n",
    "N = 10\n",
    "N_extra = 30000\n",
    "d = 15\n",
    "sigma2 = 2\n",
    "ro = 0.9\n",
    "n_ns = 5\n",
    "n_lams = 3\n",
    "variances_damped = np.zeros((n_ns,n_lams))\n",
    "variances_ngd = np.zeros((n_ns,n_lams))\n",
    "variances_diff = np.zeros((n_ns,n_lams))    \n",
    "largest_eigval_F_div_n = np.zeros((n_ns,n_lams))\n",
    "\n",
    "ns = [int(x) for x in np.linspace(int(np.sqrt(1.5*N)),int(np.sqrt(6*N)),n_ns)]\n",
    "ps = []\n",
    "#lams = np.logspace(0, -5, num=n_lams, endpoint=True, base=10.0)\n",
    "lams = [1.0, 0.01, 0.0001]\n",
    "dampings = []\n",
    "\n",
    "def get_variances(i: int, j: int, n: int, p: int, F_extra: np.ndarray, features: np.ndarray, sigma2: float, e_F_div_n: float, v_ngd: float):\n",
    "        print(' ')\n",
    "        print('-'*50)\n",
    "        lam = lams[j]\n",
    "        damping = lam * n\n",
    "        print(f'p = {p}')\n",
    "        print(f'lambda = {lam}')\n",
    "\n",
    "        P_damped = np.linalg.inv(F_extra + damping * np.eye(p))\n",
    "\n",
    "        largest_eigval_F_div_n[i, j] = e_F_div_n\n",
    "        variances_damped[i, j] = kernel_variance_interpolator(features=features, P=P_damped, F=F_extra, sigma2=sigma2) \n",
    "        variances_ngd[i, j] = v_ngd\n",
    "        variances_diff[i, j] = variances_damped[i, j] - variances_ngd[i, j]\n",
    "\n",
    "for i in range(n_ns):\n",
    "    n = ns[i]\n",
    "    params = {\n",
    "            'width' : n,\n",
    "            'depth' : 2,\n",
    "            'd' : d,\n",
    "            'lam' : -10000000, # damping does not matter here if we are not using .get_features_and_p_inv()\n",
    "            'train_size' : N,\n",
    "            'extra_size' : N_extra,\n",
    "            'sigma2' : sigma2,\n",
    "            'r2' : 1,\n",
    "            'regime' : 'autoregressive',\n",
    "            'ro' : ro\n",
    "        }\n",
    "    ini = Initializer(**params)\n",
    "    features, F_extra = [x.numpy() for x in ini.get_features_and_F()]\n",
    "    p = F_extra.shape[0]\n",
    "    ps.append(p)\n",
    "    P_ngd = np.linalg.inv(F_extra)\n",
    "\n",
    "    ### TODO: There is an error here!! this eigenvalue (divided by n) is decreasing with n, but it should be constant.\n",
    "    ### check if I'm doing the right parametrization!!!\n",
    "    \n",
    "    e_F_div_n = np.linalg.eigvalsh(F_extra)[-1]/n\n",
    "    v_ngd = kernel_variance_interpolator(features=features, P=P_ngd, F=F_extra, sigma2=sigma2)\n",
    "\n",
    "    threads = []\n",
    "    for j in range(n_lams):\n",
    "        t = threading.Thread(target=get_variances, args=(i, j, n, p, F_extra, features, sigma2, e_F_div_n, v_ngd,))\n",
    "        threads.append(t)\n",
    "        t.start()\n",
    "\n",
    "    for t in threads:\n",
    "        t.join()\n",
    "\n",
    "# choose only unique ps\n",
    "ps = np.unique(ps)"
   ]
  },
  {
   "cell_type": "code",
   "execution_count": null,
   "metadata": {},
   "outputs": [],
   "source": []
  },
  {
   "cell_type": "code",
   "execution_count": null,
   "metadata": {},
   "outputs": [],
   "source": []
  }
 ],
 "metadata": {
  "kernelspec": {
   "display_name": "preconditioners",
   "language": "python",
   "name": "python3"
  },
  "language_info": {
   "codemirror_mode": {
    "name": "ipython",
    "version": 3
   },
   "file_extension": ".py",
   "mimetype": "text/x-python",
   "name": "python",
   "nbconvert_exporter": "python",
   "pygments_lexer": "ipython3",
   "version": "3.9.10"
  },
  "orig_nbformat": 4,
  "vscode": {
   "interpreter": {
    "hash": "2c2d541a5db7c05910ac06554e3a79dfe5bead4166f54a2f5ce9b07705345cc2"
   }
  }
 },
 "nbformat": 4,
 "nbformat_minor": 2
}
