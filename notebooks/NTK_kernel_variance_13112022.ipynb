{
 "cells": [
  {
   "cell_type": "code",
   "execution_count": 2,
   "metadata": {},
   "outputs": [],
   "source": [
    "from datetime import datetime as dt\n",
    "import numpy as np\n",
    "import torch\n",
    "\n",
    "from matplotlib import pyplot as plt\n",
    "from torch.utils.data import random_split\n",
    "\n",
    "from preconditioners import settings\n",
    "from preconditioners.datasets import generate_true_parameter, CenteredLinearGaussianDataset, generate_true_parameter, generate_c\n",
    "from preconditioners.utils import MLP, SLP\n",
    "from preconditioners.optimizers import PrecondGD\n",
    "import preconditioners\n"
   ]
  },
  {
   "cell_type": "code",
   "execution_count": 3,
   "metadata": {},
   "outputs": [],
   "source": [
    "# Same as in linear_kernel_variance_30102022.ipynb (and if it is not, it should be)\n",
    "\n",
    "from preconditioners.datasets import generate_c, generate_centered_linear_gaussian_data, generate_true_parameter, generate_W_star\n",
    "\n",
    "def kernel_variance_interpolator(features : np.ndarray, P : np.ndarray, F : np.ndarray, sigma2 : np.float64) -> np.float64:\n",
    "    ''' Given Nxp feature matrix {features}, pxp symmetric preconditioner P and pxp true covariance matrix F, and the signal to noise ratio, this function returns the variance component of the risk \n",
    "    of the interpolator which is the limit of PGD which uses preconditioner P.'''\n",
    "    assert features.shape[1] == P.shape[0] == P.shape[1] == F.shape[0] == F.shape[1]\n",
    "    assert np.linalg.norm(P - P.T) < 1e-9, 'P must be symmetric.'\n",
    "\n",
    "    empirical_NTK = features.dot(P).dot(features.T)\n",
    "    empirical_NTK_inv = np.linalg.inv(empirical_NTK)\n",
    "    auxi_matrix = features.dot(P).dot(F).dot(P).dot(features.T)\n",
    "\n",
    "    return sigma2 * np.trace(empirical_NTK_inv.dot(auxi_matrix).dot(empirical_NTK_inv))"
   ]
  },
  {
   "cell_type": "code",
   "execution_count": 4,
   "metadata": {},
   "outputs": [],
   "source": [
    "# Adapted CheckEigenvalues class from src/preconditioners/eigenvalues/kernel_eigenvalues.py\n",
    "# with the linear gaussian dataset\n",
    "\n",
    "class Initializer:\n",
    "    def __init__(self,\n",
    "                width,\n",
    "                depth,\n",
    "                d,\n",
    "                lam,\n",
    "                train_size,\n",
    "                extra_size,\n",
    "                sigma2,\n",
    "                r2,\n",
    "                regime,\n",
    "                ro,\n",
    "                ):\n",
    "        # Network parameters\n",
    "        self.width = width\n",
    "        self.depth = depth\n",
    "        self.d = d\n",
    "        self.damping = lam * np.sqrt(self.d) if self.depth == 1 else lam * self.width\n",
    "\n",
    "        # Dataset parameters\n",
    "        self.train_size = train_size\n",
    "        self.extra_size = extra_size\n",
    "    \n",
    "        w_star = generate_true_parameter(self.d, r2, m=np.eye(self.d))\n",
    "        c = generate_c(ro, regime=regime, d=self.d) if self.depth > 1 else generate_c(ro, regime=regime, d=self.d) * np.sqrt(self.d) # we don't need to multiply by sqrt(d) if d > 1 because there c is not the Fisher\n",
    "        dataset = CenteredLinearGaussianDataset(w_star, c, n=self.train_size + self.extra_size, d=self.d, sigma2=sigma2)\n",
    "\n",
    "        self.train_dataset, self.extra_dataset = random_split(dataset, [self.train_size, self.extra_size])\n",
    "        self.labeled_data = self.train_dataset[:][0].double().to(settings.DEVICE)\n",
    "        self.unlabeled_data = self.extra_dataset[:][0].double().to(settings.DEVICE)\n",
    "\n",
    "    def create_model(self):\n",
    "        std = 1/ np.sqrt(self.width)\n",
    "\n",
    "        # Create model and optimizer\n",
    "        if self.depth == 1:\n",
    "            self.model = SLP(in_channels=self.d).double().to(settings.DEVICE)\n",
    "        else:\n",
    "            self.model = MLP(in_channels=self.d, num_layers=self.depth, hidden_channels=self.width, std=std).double().to(settings.DEVICE)\n",
    "        self.optimizer = PrecondGD(self.model, lr=1e-2, labeled_data=self.labeled_data, unlabeled_data=self.unlabeled_data, verbose=False, damping=self.damping)\n",
    "\n",
    "    def get_features_and_p_inv(self):\n",
    "        self.create_model()\n",
    "        p_inv = self.optimizer._compute_p_inv()\n",
    "        grad = self.optimizer._compute_grad_of_data(self.labeled_data)\n",
    "        return grad, p_inv"
   ]
  },
  {
   "cell_type": "code",
   "execution_count": 6,
   "metadata": {},
   "outputs": [
    {
     "name": "stdout",
     "output_type": "stream",
     "text": [
      "0.019751644785532183\n"
     ]
    }
   ],
   "source": [
    "## Test that I get the same results if the MLP is a linear network.\n",
    "\n",
    "N = 20\n",
    "sigma2 = 2\n",
    "ro = 0.9\n",
    "n_ds = 10\n",
    "n_lams = 10\n",
    "ds = [int(x) for x in np.linspace(2*N,65*N,n_ds)]\n",
    "ams = np.linspace(0.1,10,n_lams)\n",
    "lams = np.logspace(1, -2, num=n_lams, endpoint=True, base=10.0)\n",
    "\n",
    "d = 50\n",
    "lam = 0.1\n",
    "\n",
    "# linear\n",
    "np.random.seed(0)\n",
    "damping = lam * np.sqrt(d)\n",
    "c = np.sqrt(d) * generate_c(ro=ro, regime='autoregressive', d=d)\n",
    "X = np.random.multivariate_normal(mean=np.zeros(d), cov=c, size=N)\n",
    "P_damped = np.linalg.inv(c + damping*np.eye(d))\n",
    "P_ngd = np.linalg.inv(c)\n",
    "\n",
    "# get it through the initializer\n",
    "i = Initializer(width = 1,\n",
    "                depth = 1,\n",
    "                d = d,\n",
    "                lam = lam,\n",
    "                train_size = N,\n",
    "                extra_size = N+10000,\n",
    "                sigma2 = sigma2,\n",
    "                r2 = 1,\n",
    "                regime = 'autoregressive',\n",
    "                ro = ro)\n",
    "\n",
    "grad, F_inv = i.get_features_and_p_inv()\n",
    "\n",
    "# good enough\n",
    "print(np.linalg.norm(F_inv - P_damped)/np.sqrt(F_inv.shape[0]))"
   ]
  },
  {
   "cell_type": "code",
   "execution_count": 18,
   "metadata": {},
   "outputs": [
    {
     "name": "stdout",
     "output_type": "stream",
     "text": [
      "iteration 1 of 12\n"
     ]
    },
    {
     "name": "stderr",
     "output_type": "stream",
     "text": [
      "/Users/eduardoravkin/Dropbox/My Mac (Eduard’s MacBook Pro)/Desktop/ml_research/PhD/preconditioners/src/preconditioners/datasets.py:153: UserWarning: Warning, norms of datapoints are not sqrt(d)\n",
      "  warnings.warn('Warning, norms of datapoints are not sqrt(d)')\n",
      "/opt/anaconda3/envs/preconditioners_new/lib/python3.9/site-packages/torch/nn/functional.py:1956: UserWarning: nn.functional.tanh is deprecated. Use torch.tanh instead.\n",
      "  warnings.warn(\"nn.functional.tanh is deprecated. Use torch.tanh instead.\")\n"
     ]
    },
    {
     "name": "stdout",
     "output_type": "stream",
     "text": [
      "iteration 2 of 12\n",
      "iteration 3 of 12\n"
     ]
    },
    {
     "ename": "KeyboardInterrupt",
     "evalue": "",
     "output_type": "error",
     "traceback": [
      "\u001b[0;31m---------------------------------------------------------------------------\u001b[0m",
      "\u001b[0;31mKeyboardInterrupt\u001b[0m                         Traceback (most recent call last)",
      "Cell \u001b[0;32mIn[18], line 43\u001b[0m\n\u001b[1;32m     30\u001b[0m params \u001b[39m=\u001b[39m {\n\u001b[1;32m     31\u001b[0m     \u001b[39m'\u001b[39m\u001b[39mwidth\u001b[39m\u001b[39m'\u001b[39m : n,\n\u001b[1;32m     32\u001b[0m     \u001b[39m'\u001b[39m\u001b[39mdepth\u001b[39m\u001b[39m'\u001b[39m : \u001b[39m2\u001b[39m,\n\u001b[0;32m   (...)\u001b[0m\n\u001b[1;32m     40\u001b[0m     \u001b[39m'\u001b[39m\u001b[39mro\u001b[39m\u001b[39m'\u001b[39m : ro\n\u001b[1;32m     41\u001b[0m }\n\u001b[1;32m     42\u001b[0m i_damped \u001b[39m=\u001b[39m Initializer(\u001b[39m*\u001b[39m\u001b[39m*\u001b[39mparams)\n\u001b[0;32m---> 43\u001b[0m features, p_inv_damped \u001b[39m=\u001b[39m [x\u001b[39m.\u001b[39mnumpy() \u001b[39mfor\u001b[39;00m x \u001b[39min\u001b[39;00m i_damped\u001b[39m.\u001b[39;49mget_features_and_p_inv()]\n\u001b[1;32m     45\u001b[0m params[\u001b[39m'\u001b[39m\u001b[39mlam\u001b[39m\u001b[39m'\u001b[39m] \u001b[39m=\u001b[39m \u001b[39m1e-7\u001b[39m \u001b[39m# not zero to avoid division by zero\u001b[39;00m\n\u001b[1;32m     47\u001b[0m i_ngd \u001b[39m=\u001b[39m Initializer(\u001b[39m*\u001b[39m\u001b[39m*\u001b[39mparams)\n",
      "Cell \u001b[0;32mIn[4], line 47\u001b[0m, in \u001b[0;36mInitializer.get_features_and_p_inv\u001b[0;34m(self)\u001b[0m\n\u001b[1;32m     45\u001b[0m \u001b[39mdef\u001b[39;00m \u001b[39mget_features_and_p_inv\u001b[39m(\u001b[39mself\u001b[39m):\n\u001b[1;32m     46\u001b[0m     \u001b[39mself\u001b[39m\u001b[39m.\u001b[39mcreate_model()\n\u001b[0;32m---> 47\u001b[0m     p_inv \u001b[39m=\u001b[39m \u001b[39mself\u001b[39;49m\u001b[39m.\u001b[39;49moptimizer\u001b[39m.\u001b[39;49m_compute_p_inv()\n\u001b[1;32m     48\u001b[0m     grad \u001b[39m=\u001b[39m \u001b[39mself\u001b[39m\u001b[39m.\u001b[39moptimizer\u001b[39m.\u001b[39m_compute_grad_of_data(\u001b[39mself\u001b[39m\u001b[39m.\u001b[39mlabeled_data)\n\u001b[1;32m     49\u001b[0m     \u001b[39mreturn\u001b[39;00m grad, p_inv\n",
      "File \u001b[0;32m~/Dropbox/My Mac (Eduard’s MacBook Pro)/Desktop/ml_research/PhD/preconditioners/src/preconditioners/optimizers/precond.py:46\u001b[0m, in \u001b[0;36mPrecondGD._compute_p_inv\u001b[0;34m(self)\u001b[0m\n\u001b[1;32m     43\u001b[0m \u001b[39mif\u001b[39;00m \u001b[39mself\u001b[39m\u001b[39m.\u001b[39mis_linear \u001b[39mand\u001b[39;00m \u001b[39mself\u001b[39m\u001b[39m.\u001b[39mlast_p_inv \u001b[39mis\u001b[39;00m \u001b[39mnot\u001b[39;00m \u001b[39mNone\u001b[39;00m:\n\u001b[1;32m     44\u001b[0m     \u001b[39mreturn\u001b[39;00m \u001b[39mself\u001b[39m\u001b[39m.\u001b[39mlast_p_inv\n\u001b[0;32m---> 46\u001b[0m p \u001b[39m=\u001b[39m \u001b[39mself\u001b[39;49m\u001b[39m.\u001b[39;49m_compute_fisher()\n\u001b[1;32m     47\u001b[0m \u001b[39m# add damping\u001b[39;00m\n\u001b[1;32m     48\u001b[0m p \u001b[39m+\u001b[39m\u001b[39m=\u001b[39m torch\u001b[39m.\u001b[39meye(p\u001b[39m.\u001b[39mshape[\u001b[39m0\u001b[39m], device\u001b[39m=\u001b[39mDEVICE) \u001b[39m*\u001b[39m group[\u001b[39m'\u001b[39m\u001b[39mdamping\u001b[39m\u001b[39m'\u001b[39m]\n",
      "File \u001b[0;32m~/Dropbox/My Mac (Eduard’s MacBook Pro)/Desktop/ml_research/PhD/preconditioners/src/preconditioners/optimizers/precond.py:29\u001b[0m, in \u001b[0;36mPrecondGD._compute_fisher\u001b[0;34m(self)\u001b[0m\n\u001b[1;32m     27\u001b[0m \u001b[39mfor\u001b[39;00m x \u001b[39min\u001b[39;00m unlabeled_data:\n\u001b[1;32m     28\u001b[0m     grad \u001b[39m=\u001b[39m model_gradients_using_backprop(\u001b[39mself\u001b[39m\u001b[39m.\u001b[39mmodel, x)\u001b[39m.\u001b[39mdetach()\n\u001b[0;32m---> 29\u001b[0m     p \u001b[39m+\u001b[39m\u001b[39m=\u001b[39m grad \u001b[39m@\u001b[39m grad\u001b[39m.\u001b[39mT\n\u001b[1;32m     30\u001b[0m     size \u001b[39m+\u001b[39m\u001b[39m=\u001b[39m \u001b[39m1\u001b[39m\n\u001b[1;32m     32\u001b[0m \u001b[39m# Compute the inverse of the fisher information matrix\u001b[39;00m\n",
      "\u001b[0;31mKeyboardInterrupt\u001b[0m: "
     ]
    }
   ],
   "source": [
    "import matplotlib.pyplot as plt\n",
    "import numpy as np\n",
    "\n",
    "N = 20\n",
    "d = 25\n",
    "sigma2 = 2\n",
    "ro = 0.9\n",
    "n_ns = 6\n",
    "n_lams = 2\n",
    "variances_damped = np.zeros((n_ns,n_lams))\n",
    "variances_ngd = np.zeros((n_ns,n_lams))\n",
    "variances_diff = np.zeros((n_ns,n_lams))    \n",
    "\n",
    "ns = [int(x) for x in np.linspace(2*N,6*N,n_ns)]\n",
    "ams = np.linspace(0.1,10,n_lams)\n",
    "lams = np.logspace(1, -2, num=n_lams, endpoint=True, base=10.0)\n",
    "dampings = []\n",
    "\n",
    "k = 0\n",
    "for i in range(n_ns):\n",
    "    for j in range(n_lams):\n",
    "        k = k+1\n",
    "        print(f'iteration {k} of {n_ns*n_lams}')\n",
    "        n = ns[i]\n",
    "        lam = lams[j]\n",
    "        damping = lam * n # TODO: check if multiplying by n is correct\n",
    "        dampings.append(damping)\n",
    "        \n",
    "\n",
    "        params = {\n",
    "            'width' : n,\n",
    "            'depth' : 2,\n",
    "            'd' : d,\n",
    "            'lam' : lam,\n",
    "            'train_size' : N,\n",
    "            'extra_size' : N+10000,\n",
    "            'sigma2' : sigma2,\n",
    "            'r2' : 1,\n",
    "            'regime' : 'autoregressive',\n",
    "            'ro' : ro\n",
    "        }\n",
    "        i_damped = Initializer(**params)\n",
    "        features, p_inv_damped = [x.numpy() for x in i_damped.get_features_and_p_inv()]\n",
    "        \n",
    "        params['lam'] = 1e-7 # not zero to avoid division by zero\n",
    "\n",
    "        i_ngd = Initializer(**params)\n",
    "        _, p_inv_ngd = [x.numpy() for x in i_ngd.get_features_and_p_inv()]\n",
    "        \n",
    "        # TODO: fix passing F not np.linalg.inv(p_inv_ngd)\n",
    "        variances_damped[i, j] = kernel_variance_interpolator(features=features, P=p_inv_damped, F=np.linalg.inv(p_inv_ngd), sigma2=sigma2) \n",
    "        variances_ngd[i, j] = kernel_variance_interpolator(features=features, P=p_inv_ngd, F=np.linalg.inv(p_inv_ngd), sigma2=sigma2)\n",
    "        variances_diff = variances_damped - variances_ngd"
   ]
  },
  {
   "cell_type": "code",
   "execution_count": 10,
   "metadata": {},
   "outputs": [
    {
     "data": {
      "text/plain": [
       "array([10.        ,  0.31622777,  0.01      ])"
      ]
     },
     "execution_count": 10,
     "metadata": {},
     "output_type": "execute_result"
    }
   ],
   "source": [
    "lams"
   ]
  },
  {
   "cell_type": "code",
   "execution_count": 11,
   "metadata": {},
   "outputs": [
    {
     "name": "stdout",
     "output_type": "stream",
     "text": [
      "[ 7.0065592  14.65235072  8.68888996]\n",
      "[26.94521348 17.6170947  11.36904122]\n"
     ]
    }
   ],
   "source": [
    "print(variances_diff[0,:])\n",
    "print(variances_diff[-1,:])\n"
   ]
  },
  {
   "cell_type": "code",
   "execution_count": 16,
   "metadata": {},
   "outputs": [
    {
     "name": "stdout",
     "output_type": "stream",
     "text": [
      "[ 7.0065592  15.16918241 26.94521348]\n",
      "[14.65235072 15.77779654 17.6170947 ]\n",
      "[ 8.68888996 22.82022661 11.36904122]\n"
     ]
    }
   ],
   "source": [
    "print(variances_diff[:,0])\n",
    "print(variances_diff[:,1])\n",
    "print(variances_diff[:,2])"
   ]
  },
  {
   "cell_type": "code",
   "execution_count": 13,
   "metadata": {},
   "outputs": [
    {
     "data": {
      "text/plain": [
       "<AxesSubplot: >"
      ]
     },
     "execution_count": 13,
     "metadata": {},
     "output_type": "execute_result"
    },
    {
     "data": {
      "image/png": "[encoded data removed]",
      "text/plain": [
       "<Figure size 640x480 with 2 Axes>"
      ]
     },
     "metadata": {},
     "output_type": "display_data"
    }
   ],
   "source": [
    "import seaborn as sns\n",
    "sns.heatmap(variances_diff, cmap='viridis', xticklabels=[round(x, 1) for x in lams], yticklabels=ds)"
   ]
  },
  {
   "cell_type": "code",
   "execution_count": null,
   "metadata": {},
   "outputs": [],
   "source": [
    "#######################################################################################################\n",
    "#######################################################################################################\n"
   ]
  },
  {
   "cell_type": "code",
   "execution_count": 61,
   "metadata": {},
   "outputs": [],
   "source": [
    "# TODO: Triple check that we are computing the inverse well now and that we were doing it wrong before. Because the tests were passing before."
   ]
  },
  {
   "cell_type": "code",
   "execution_count": 62,
   "metadata": {},
   "outputs": [
    {
     "data": {
      "text/plain": [
       "array([[7.07106781, 6.36396103, 5.72756493],\n",
       "       [6.36396103, 7.07106781, 6.36396103],\n",
       "       [5.72756493, 6.36396103, 7.07106781]])"
      ]
     },
     "execution_count": 62,
     "metadata": {},
     "output_type": "execute_result"
    }
   ],
   "source": [
    "c[:3,:3]"
   ]
  },
  {
   "cell_type": "code",
   "execution_count": 63,
   "metadata": {},
   "outputs": [
    {
     "data": {
      "text/plain": [
       "array([[7.77817459, 6.36396103, 5.72756493],\n",
       "       [6.36396103, 7.77817459, 6.36396103],\n",
       "       [5.72756493, 6.36396103, 7.77817459]])"
      ]
     },
     "execution_count": 63,
     "metadata": {},
     "output_type": "execute_result"
    }
   ],
   "source": [
    "(c + damping*np.eye(d))[:3,:3]"
   ]
  },
  {
   "cell_type": "code",
   "execution_count": 64,
   "metadata": {},
   "outputs": [
    {
     "data": {
      "text/plain": [
       "array([[ 0.40672876, -0.26077797, -0.06749992],\n",
       "       [-0.26077797,  0.573929  , -0.21749976],\n",
       "       [-0.06749992, -0.21749976,  0.58513116]])"
      ]
     },
     "execution_count": 64,
     "metadata": {},
     "output_type": "execute_result"
    }
   ],
   "source": [
    "np.linalg.inv(c+ damping*np.eye(d))[:3,:3]"
   ]
  },
  {
   "cell_type": "code",
   "execution_count": 18,
   "metadata": {},
   "outputs": [
    {
     "data": {
      "text/plain": [
       "tensor([[ 0.0352, -0.0173, -0.0002],\n",
       "        [-0.0173,  0.0352, -0.0173],\n",
       "        [-0.0002, -0.0173,  0.0352]], dtype=torch.float64)"
      ]
     },
     "execution_count": 18,
     "metadata": {},
     "output_type": "execute_result"
    }
   ],
   "source": [
    "import torch\n",
    "torch.cholesky_inverse(torch.from_numpy(c+ damping*np.eye(d)))[:3,:3]"
   ]
  },
  {
   "cell_type": "code",
   "execution_count": 39,
   "metadata": {},
   "outputs": [
    {
     "data": {
      "text/plain": [
       "tensor([[ 0.1522, -0.1304, -0.0057],\n",
       "        [-0.1304,  0.2640, -0.1256],\n",
       "        [-0.0057, -0.1256,  0.2642]], dtype=torch.float64)"
      ]
     },
     "execution_count": 39,
     "metadata": {},
     "output_type": "execute_result"
    }
   ],
   "source": [
    "import torch\n",
    "torch.cholesky_inverse(torch.cholesky(torch.from_numpy(c+ damping*np.eye(d))))[:3,:3]"
   ]
  },
  {
   "cell_type": "code",
   "execution_count": 40,
   "metadata": {},
   "outputs": [
    {
     "data": {
      "text/plain": [
       "array([[ 0.15224482, -0.13042363, -0.00565121],\n",
       "       [-0.13042363,  0.26397487, -0.1255824 ],\n",
       "       [-0.00565121, -0.1255824 ,  0.26418464]])"
      ]
     },
     "execution_count": 40,
     "metadata": {},
     "output_type": "execute_result"
    }
   ],
   "source": [
    "np.linalg.inv(c+ damping*np.eye(d))[:3,:3]"
   ]
  },
  {
   "cell_type": "code",
   "execution_count": 41,
   "metadata": {},
   "outputs": [
    {
     "data": {
      "text/plain": [
       "array([[ 0.15224482, -0.13042363, -0.00565121],\n",
       "       [-0.13042363,  0.26397487, -0.1255824 ],\n",
       "       [-0.00565121, -0.1255824 ,  0.26418464]])"
      ]
     },
     "execution_count": 41,
     "metadata": {},
     "output_type": "execute_result"
    }
   ],
   "source": [
    "P_damped[:3,:3]"
   ]
  },
  {
   "cell_type": "code",
   "execution_count": 42,
   "metadata": {},
   "outputs": [
    {
     "data": {
      "text/plain": [
       "array([[ 1.73584905e-03, -8.49996340e-04, -8.67206609e-06],\n",
       "       [-8.49996340e-04,  1.73288370e-03, -8.62042779e-04],\n",
       "       [-8.67206609e-06, -8.62042779e-04,  1.76788253e-03]])"
      ]
     },
     "execution_count": 42,
     "metadata": {},
     "output_type": "execute_result"
    }
   ],
   "source": [
    "F_inv.numpy()[:3,:3]"
   ]
  }
 ],
 "metadata": {
  "kernelspec": {
   "display_name": "Python 3.9.15 ('preconditioners_new')",
   "language": "python",
   "name": "python3"
  },
  "language_info": {
   "codemirror_mode": {
    "name": "ipython",
    "version": 3
   },
   "file_extension": ".py",
   "mimetype": "text/x-python",
   "name": "python",
   "nbconvert_exporter": "python",
   "pygments_lexer": "ipython3",
   "version": "3.9.15"
  },
  "orig_nbformat": 4,
  "vscode": {
   "interpreter": {
    "hash": "5754338c7b61426a7939cdf73e45c35457822703652978ce6bf9eb7755ad6b2c"
   }
  }
 },
 "nbformat": 4,
 "nbformat_minor": 2
}
