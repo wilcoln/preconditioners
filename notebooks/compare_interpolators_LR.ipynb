{
 "cells": [
  {
   "cell_type": "code",
   "execution_count": null,
   "metadata": {},
   "outputs": [],
   "source": []
  },
  {
   "cell_type": "code",
   "execution_count": 1,
   "metadata": {},
   "outputs": [
    {
     "name": "stdout",
     "output_type": "stream",
     "text": [
      "1\n"
     ]
    },
    {
     "name": "stderr",
     "output_type": "stream",
     "text": [
      "/Users/eduardoravkin/Dropbox/My Mac (Eduard’s MacBook Pro)/Desktop/ml_research/Project_to_publish/supplementary_material_neurips_2021_submitted/paper_code/neurips_code/utils.py:147: UserWarning: Warning, norms of datapoints are not sqrt(d)\n",
      "  warnings.warn('Warning, norms of datapoints are not sqrt(d)')\n"
     ]
    },
    {
     "name": "stdout",
     "output_type": "stream",
     "text": [
      "2\n"
     ]
    },
    {
     "name": "stderr",
     "output_type": "stream",
     "text": [
      "/Users/eduardoravkin/Dropbox/My Mac (Eduard’s MacBook Pro)/Desktop/ml_research/Project_to_publish/supplementary_material_neurips_2021_submitted/paper_code/neurips_code/utils.py:147: UserWarning: Warning, norms of datapoints are not sqrt(d)\n",
      "  warnings.warn('Warning, norms of datapoints are not sqrt(d)')\n"
     ]
    },
    {
     "ename": "KeyboardInterrupt",
     "evalue": "",
     "output_type": "error",
     "traceback": [
      "\u001b[0;31m---------------------------------------------------------------------------\u001b[0m",
      "\u001b[0;31mKeyboardInterrupt\u001b[0m                         Traceback (most recent call last)",
      "\u001b[1;32m/Users/eduardoravkin/Dropbox/My Mac (Eduard’s MacBook Pro)/Desktop/ml_research/PhD/preconditioners/notebooks/compare_interpolators_LR.ipynb Cell 1'\u001b[0m in \u001b[0;36m<cell line: 8>\u001b[0;34m()\u001b[0m\n\u001b[1;32m     <a href='vscode-notebook-cell:/Users/eduardoravkin/Dropbox/My%20Mac%20%28Eduard%E2%80%99s%20MacBook%20Pro%29/Desktop/ml_research/PhD/preconditioners/notebooks/compare_interpolators_LR.ipynb#ch0000000?line=9'>10</a>\u001b[0m t1 \u001b[39m=\u001b[39m time\u001b[39m.\u001b[39mtime()\n\u001b[1;32m     <a href='vscode-notebook-cell:/Users/eduardoravkin/Dropbox/My%20Mac%20%28Eduard%E2%80%99s%20MacBook%20Pro%29/Desktop/ml_research/PhD/preconditioners/notebooks/compare_interpolators_LR.ipynb#ch0000000?line=11'>12</a>\u001b[0m \u001b[39m# for smaller run time (but noisier plot) decrease n\u001b[39;00m\n\u001b[0;32m---> <a href='vscode-notebook-cell:/Users/eduardoravkin/Dropbox/My%20Mac%20%28Eduard%E2%80%99s%20MacBook%20Pro%29/Desktop/ml_research/PhD/preconditioners/notebooks/compare_interpolators_LR.ipynb#ch0000000?line=12'>13</a>\u001b[0m display_risks_rho_2(n \u001b[39m=\u001b[39;49m \u001b[39m300\u001b[39;49m,\n\u001b[1;32m     <a href='vscode-notebook-cell:/Users/eduardoravkin/Dropbox/My%20Mac%20%28Eduard%E2%80%99s%20MacBook%20Pro%29/Desktop/ml_research/PhD/preconditioners/notebooks/compare_interpolators_LR.ipynb#ch0000000?line=13'>14</a>\u001b[0m                     gamma \u001b[39m=\u001b[39;49m \u001b[39m2\u001b[39;49m,\n\u001b[1;32m     <a href='vscode-notebook-cell:/Users/eduardoravkin/Dropbox/My%20Mac%20%28Eduard%E2%80%99s%20MacBook%20Pro%29/Desktop/ml_research/PhD/preconditioners/notebooks/compare_interpolators_LR.ipynb#ch0000000?line=14'>15</a>\u001b[0m                     r2 \u001b[39m=\u001b[39;49m \u001b[39m1\u001b[39;49m,\n\u001b[1;32m     <a href='vscode-notebook-cell:/Users/eduardoravkin/Dropbox/My%20Mac%20%28Eduard%E2%80%99s%20MacBook%20Pro%29/Desktop/ml_research/PhD/preconditioners/notebooks/compare_interpolators_LR.ipynb#ch0000000?line=15'>16</a>\u001b[0m                     sigma2 \u001b[39m=\u001b[39;49m \u001b[39m1\u001b[39;49m,\n\u001b[1;32m     <a href='vscode-notebook-cell:/Users/eduardoravkin/Dropbox/My%20Mac%20%28Eduard%E2%80%99s%20MacBook%20Pro%29/Desktop/ml_research/PhD/preconditioners/notebooks/compare_interpolators_LR.ipynb#ch0000000?line=16'>17</a>\u001b[0m \n\u001b[1;32m     <a href='vscode-notebook-cell:/Users/eduardoravkin/Dropbox/My%20Mac%20%28Eduard%E2%80%99s%20MacBook%20Pro%29/Desktop/ml_research/PhD/preconditioners/notebooks/compare_interpolators_LR.ipynb#ch0000000?line=17'>18</a>\u001b[0m                     strong_feature_ratio \u001b[39m=\u001b[39;49m \u001b[39m1\u001b[39;49m\u001b[39m/\u001b[39;49m\u001b[39m2\u001b[39;49m,\n\u001b[1;32m     <a href='vscode-notebook-cell:/Users/eduardoravkin/Dropbox/My%20Mac%20%28Eduard%E2%80%99s%20MacBook%20Pro%29/Desktop/ml_research/PhD/preconditioners/notebooks/compare_interpolators_LR.ipynb#ch0000000?line=18'>19</a>\u001b[0m                     start_eval_ratio \u001b[39m=\u001b[39;49m \u001b[39m5\u001b[39;49m,\n\u001b[1;32m     <a href='vscode-notebook-cell:/Users/eduardoravkin/Dropbox/My%20Mac%20%28Eduard%E2%80%99s%20MacBook%20Pro%29/Desktop/ml_research/PhD/preconditioners/notebooks/compare_interpolators_LR.ipynb#ch0000000?line=19'>20</a>\u001b[0m                     end_eval_ratio \u001b[39m=\u001b[39;49m \u001b[39m100\u001b[39;49m,\n\u001b[1;32m     <a href='vscode-notebook-cell:/Users/eduardoravkin/Dropbox/My%20Mac%20%28Eduard%E2%80%99s%20MacBook%20Pro%29/Desktop/ml_research/PhD/preconditioners/notebooks/compare_interpolators_LR.ipynb#ch0000000?line=20'>21</a>\u001b[0m                     change_strong_feature \u001b[39m=\u001b[39;49m \u001b[39mFalse\u001b[39;49;00m,\n\u001b[1;32m     <a href='vscode-notebook-cell:/Users/eduardoravkin/Dropbox/My%20Mac%20%28Eduard%E2%80%99s%20MacBook%20Pro%29/Desktop/ml_research/PhD/preconditioners/notebooks/compare_interpolators_LR.ipynb#ch0000000?line=21'>22</a>\u001b[0m \n\u001b[1;32m     <a href='vscode-notebook-cell:/Users/eduardoravkin/Dropbox/My%20Mac%20%28Eduard%E2%80%99s%20MacBook%20Pro%29/Desktop/ml_research/PhD/preconditioners/notebooks/compare_interpolators_LR.ipynb#ch0000000?line=22'>23</a>\u001b[0m                     source_condition \u001b[39m=\u001b[39;49m \u001b[39m'\u001b[39;49m\u001b[39mid\u001b[39;49m\u001b[39m'\u001b[39;49m,\n\u001b[1;32m     <a href='vscode-notebook-cell:/Users/eduardoravkin/Dropbox/My%20Mac%20%28Eduard%E2%80%99s%20MacBook%20Pro%29/Desktop/ml_research/PhD/preconditioners/notebooks/compare_interpolators_LR.ipynb#ch0000000?line=23'>24</a>\u001b[0m \n\u001b[1;32m     <a href='vscode-notebook-cell:/Users/eduardoravkin/Dropbox/My%20Mac%20%28Eduard%E2%80%99s%20MacBook%20Pro%29/Desktop/ml_research/PhD/preconditioners/notebooks/compare_interpolators_LR.ipynb#ch0000000?line=24'>25</a>\u001b[0m                     empir \u001b[39m=\u001b[39;49m \u001b[39m'\u001b[39;49m\u001b[39mgl\u001b[39;49m\u001b[39m'\u001b[39;49m,\n\u001b[1;32m     <a href='vscode-notebook-cell:/Users/eduardoravkin/Dropbox/My%20Mac%20%28Eduard%E2%80%99s%20MacBook%20Pro%29/Desktop/ml_research/PhD/preconditioners/notebooks/compare_interpolators_LR.ipynb#ch0000000?line=25'>26</a>\u001b[0m                     alpha \u001b[39m=\u001b[39;49m \u001b[39m0.25\u001b[39;49m,\n\u001b[1;32m     <a href='vscode-notebook-cell:/Users/eduardoravkin/Dropbox/My%20Mac%20%28Eduard%E2%80%99s%20MacBook%20Pro%29/Desktop/ml_research/PhD/preconditioners/notebooks/compare_interpolators_LR.ipynb#ch0000000?line=26'>27</a>\u001b[0m \n\u001b[1;32m     <a href='vscode-notebook-cell:/Users/eduardoravkin/Dropbox/My%20Mac%20%28Eduard%E2%80%99s%20MacBook%20Pro%29/Desktop/ml_research/PhD/preconditioners/notebooks/compare_interpolators_LR.ipynb#ch0000000?line=27'>28</a>\u001b[0m                     savefile \u001b[39m=\u001b[39;49m \u001b[39mTrue\u001b[39;49;00m,\n\u001b[1;32m     <a href='vscode-notebook-cell:/Users/eduardoravkin/Dropbox/My%20Mac%20%28Eduard%E2%80%99s%20MacBook%20Pro%29/Desktop/ml_research/PhD/preconditioners/notebooks/compare_interpolators_LR.ipynb#ch0000000?line=28'>29</a>\u001b[0m                     include_predictions \u001b[39m=\u001b[39;49m \u001b[39mTrue\u001b[39;49;00m,\n\u001b[1;32m     <a href='vscode-notebook-cell:/Users/eduardoravkin/Dropbox/My%20Mac%20%28Eduard%E2%80%99s%20MacBook%20Pro%29/Desktop/ml_research/PhD/preconditioners/notebooks/compare_interpolators_LR.ipynb#ch0000000?line=29'>30</a>\u001b[0m \n\u001b[1;32m     <a href='vscode-notebook-cell:/Users/eduardoravkin/Dropbox/My%20Mac%20%28Eduard%E2%80%99s%20MacBook%20Pro%29/Desktop/ml_research/PhD/preconditioners/notebooks/compare_interpolators_LR.ipynb#ch0000000?line=30'>31</a>\u001b[0m                     include_gd \u001b[39m=\u001b[39;49m \u001b[39mTrue\u001b[39;49;00m,\n\u001b[1;32m     <a href='vscode-notebook-cell:/Users/eduardoravkin/Dropbox/My%20Mac%20%28Eduard%E2%80%99s%20MacBook%20Pro%29/Desktop/ml_research/PhD/preconditioners/notebooks/compare_interpolators_LR.ipynb#ch0000000?line=31'>32</a>\u001b[0m                     include_md \u001b[39m=\u001b[39;49m \u001b[39mTrue\u001b[39;49;00m,\n\u001b[1;32m     <a href='vscode-notebook-cell:/Users/eduardoravkin/Dropbox/My%20Mac%20%28Eduard%E2%80%99s%20MacBook%20Pro%29/Desktop/ml_research/PhD/preconditioners/notebooks/compare_interpolators_LR.ipynb#ch0000000?line=32'>33</a>\u001b[0m                     include_md_empirical \u001b[39m=\u001b[39;49m \u001b[39mFalse\u001b[39;49;00m,\n\u001b[1;32m     <a href='vscode-notebook-cell:/Users/eduardoravkin/Dropbox/My%20Mac%20%28Eduard%E2%80%99s%20MacBook%20Pro%29/Desktop/ml_research/PhD/preconditioners/notebooks/compare_interpolators_LR.ipynb#ch0000000?line=33'>34</a>\u001b[0m                     include_best_achievable \u001b[39m=\u001b[39;49m \u001b[39mTrue\u001b[39;49;00m,\n\u001b[1;32m     <a href='vscode-notebook-cell:/Users/eduardoravkin/Dropbox/My%20Mac%20%28Eduard%E2%80%99s%20MacBook%20Pro%29/Desktop/ml_research/PhD/preconditioners/notebooks/compare_interpolators_LR.ipynb#ch0000000?line=34'>35</a>\u001b[0m                     include_best_achievable_empirical \u001b[39m=\u001b[39;49m \u001b[39mTrue\u001b[39;49;00m,\n\u001b[1;32m     <a href='vscode-notebook-cell:/Users/eduardoravkin/Dropbox/My%20Mac%20%28Eduard%E2%80%99s%20MacBook%20Pro%29/Desktop/ml_research/PhD/preconditioners/notebooks/compare_interpolators_LR.ipynb#ch0000000?line=35'>36</a>\u001b[0m \n\u001b[1;32m     <a href='vscode-notebook-cell:/Users/eduardoravkin/Dropbox/My%20Mac%20%28Eduard%E2%80%99s%20MacBook%20Pro%29/Desktop/ml_research/PhD/preconditioners/notebooks/compare_interpolators_LR.ipynb#ch0000000?line=36'>37</a>\u001b[0m                     snr_estimation \u001b[39m=\u001b[39;49m \u001b[39mlist\u001b[39;49m(np\u001b[39m.\u001b[39;49mlinspace(\u001b[39m0.1\u001b[39;49m,\u001b[39m1\u001b[39;49m,\u001b[39m10\u001b[39;49m))\u001b[39m+\u001b[39;49m\u001b[39mlist\u001b[39;49m(np\u001b[39m.\u001b[39;49mlinspace(\u001b[39m1\u001b[39;49m,\u001b[39m10\u001b[39;49m,\u001b[39m10\u001b[39;49m)),\n\u001b[1;32m     <a href='vscode-notebook-cell:/Users/eduardoravkin/Dropbox/My%20Mac%20%28Eduard%E2%80%99s%20MacBook%20Pro%29/Desktop/ml_research/PhD/preconditioners/notebooks/compare_interpolators_LR.ipynb#ch0000000?line=37'>38</a>\u001b[0m                     crossval_param \u001b[39m=\u001b[39;49m \u001b[39m10\u001b[39;49m,\n\u001b[1;32m     <a href='vscode-notebook-cell:/Users/eduardoravkin/Dropbox/My%20Mac%20%28Eduard%E2%80%99s%20MacBook%20Pro%29/Desktop/ml_research/PhD/preconditioners/notebooks/compare_interpolators_LR.ipynb#ch0000000?line=38'>39</a>\u001b[0m                     )\n\u001b[1;32m     <a href='vscode-notebook-cell:/Users/eduardoravkin/Dropbox/My%20Mac%20%28Eduard%E2%80%99s%20MacBook%20Pro%29/Desktop/ml_research/PhD/preconditioners/notebooks/compare_interpolators_LR.ipynb#ch0000000?line=40'>41</a>\u001b[0m t2 \u001b[39m=\u001b[39m time\u001b[39m.\u001b[39mtime()\n\u001b[1;32m     <a href='vscode-notebook-cell:/Users/eduardoravkin/Dropbox/My%20Mac%20%28Eduard%E2%80%99s%20MacBook%20Pro%29/Desktop/ml_research/PhD/preconditioners/notebooks/compare_interpolators_LR.ipynb#ch0000000?line=41'>42</a>\u001b[0m \u001b[39mprint\u001b[39m(t2\u001b[39m-\u001b[39mt1)\n",
      "File \u001b[0;32m~/Dropbox/My Mac (Eduard’s MacBook Pro)/Desktop/ml_research/Project_to_publish/code/optimal_interpolator_code/plot_changing_rho2.py:199\u001b[0m, in \u001b[0;36mdisplay_risks_rho_2\u001b[0;34m(n, gamma, r2, sigma2, strong_feature_ratio, start_eval_ratio, end_eval_ratio, change_strong_feature, source_condition, empir, alpha, include_predictions, include_gd, include_md, include_md_empirical, include_best_achievable, include_best_achievable_empirical, snr_estimation, crossval_param, savefile)\u001b[0m\n\u001b[1;32m    <a href='file:///Users/eduardoravkin/Dropbox/My%20Mac%20%28Eduard%E2%80%99s%20MacBook%20Pro%29/Desktop/ml_research/Project_to_publish/code/optimal_interpolator_code/plot_changing_rho2.py?line=196'>197</a>\u001b[0m \u001b[39m# generate the empirical approximation of the best possible linearly achievable interpolator\u001b[39;00m\n\u001b[1;32m    <a href='file:///Users/eduardoravkin/Dropbox/My%20Mac%20%28Eduard%E2%80%99s%20MacBook%20Pro%29/Desktop/ml_research/Project_to_publish/code/optimal_interpolator_code/plot_changing_rho2.py?line=197'>198</a>\u001b[0m \u001b[39mif\u001b[39;00m include_best_achievable_empirical:\n\u001b[0;32m--> <a href='file:///Users/eduardoravkin/Dropbox/My%20Mac%20%28Eduard%E2%80%99s%20MacBook%20Pro%29/Desktop/ml_research/Project_to_publish/code/optimal_interpolator_code/plot_changing_rho2.py?line=198'>199</a>\u001b[0m     w_ae \u001b[39m=\u001b[39m compute_best_achievable_interpolator(X, y, c \u001b[39m=\u001b[39;49m c_e, m \u001b[39m=\u001b[39;49m np\u001b[39m.\u001b[39;49meye(d), snr \u001b[39m=\u001b[39;49m snr_estimation, crossval_param \u001b[39m=\u001b[39;49m crossval_param)\n\u001b[1;32m    <a href='file:///Users/eduardoravkin/Dropbox/My%20Mac%20%28Eduard%E2%80%99s%20MacBook%20Pro%29/Desktop/ml_research/Project_to_publish/code/optimal_interpolator_code/plot_changing_rho2.py?line=199'>200</a>\u001b[0m     reg_ae \u001b[39m=\u001b[39m LinearRegressor(init \u001b[39m=\u001b[39m w_ae)\n\u001b[1;32m    <a href='file:///Users/eduardoravkin/Dropbox/My%20Mac%20%28Eduard%E2%80%99s%20MacBook%20Pro%29/Desktop/ml_research/Project_to_publish/code/optimal_interpolator_code/plot_changing_rho2.py?line=201'>202</a>\u001b[0m \u001b[39m# best possible linear predictor (theoretical device)\u001b[39;00m\n",
      "File \u001b[0;32m~/Dropbox/My Mac (Eduard’s MacBook Pro)/Desktop/ml_research/Project_to_publish/supplementary_material_neurips_2021_submitted/paper_code/neurips_code/utils.py:201\u001b[0m, in \u001b[0;36mcompute_best_achievable_interpolator\u001b[0;34m(X, y, c, m, snr, crossval_param)\u001b[0m\n\u001b[1;32m    <a href='file:///Users/eduardoravkin/Dropbox/My%20Mac%20%28Eduard%E2%80%99s%20MacBook%20Pro%29/Desktop/ml_research/Project_to_publish/supplementary_material_neurips_2021_submitted/paper_code/neurips_code/utils.py?line=198'>199</a>\u001b[0m \u001b[39m# calculate the best_achievable interpolator according to formula in paper\u001b[39;00m\n\u001b[1;32m    <a href='file:///Users/eduardoravkin/Dropbox/My%20Mac%20%28Eduard%E2%80%99s%20MacBook%20Pro%29/Desktop/ml_research/Project_to_publish/supplementary_material_neurips_2021_submitted/paper_code/neurips_code/utils.py?line=199'>200</a>\u001b[0m auxi_matrix_train \u001b[39m=\u001b[39m np\u001b[39m.\u001b[39mlinalg\u001b[39m.\u001b[39minv(np\u001b[39m.\u001b[39meye(n_train) \u001b[39m+\u001b[39m (mu\u001b[39m/\u001b[39md)\u001b[39m*\u001b[39mX_train\u001b[39m.\u001b[39mdot(m\u001b[39m.\u001b[39mdot(X_train\u001b[39m.\u001b[39mT)))\n\u001b[0;32m--> <a href='file:///Users/eduardoravkin/Dropbox/My%20Mac%20%28Eduard%E2%80%99s%20MacBook%20Pro%29/Desktop/ml_research/Project_to_publish/supplementary_material_neurips_2021_submitted/paper_code/neurips_code/utils.py?line=200'>201</a>\u001b[0m auxi_matrix_train_2 \u001b[39m=\u001b[39m ((mu\u001b[39m/\u001b[39md)\u001b[39m*\u001b[39mm\u001b[39m.\u001b[39;49mdot(X_train\u001b[39m.\u001b[39;49mT) \u001b[39m+\u001b[39m (c_inv\u001b[39m.\u001b[39mdot(X_train\u001b[39m.\u001b[39mT))\u001b[39m.\u001b[39mdot( np\u001b[39m.\u001b[39mlinalg\u001b[39m.\u001b[39minv(X_train\u001b[39m.\u001b[39mdot(c_inv\u001b[39m.\u001b[39mdot(X_train\u001b[39m.\u001b[39mT))) ))\n\u001b[1;32m    <a href='file:///Users/eduardoravkin/Dropbox/My%20Mac%20%28Eduard%E2%80%99s%20MacBook%20Pro%29/Desktop/ml_research/Project_to_publish/supplementary_material_neurips_2021_submitted/paper_code/neurips_code/utils.py?line=201'>202</a>\u001b[0m w_e_train \u001b[39m=\u001b[39m auxi_matrix_train_2\u001b[39m.\u001b[39mdot(auxi_matrix_train\u001b[39m.\u001b[39mdot(y_train))\n\u001b[1;32m    <a href='file:///Users/eduardoravkin/Dropbox/My%20Mac%20%28Eduard%E2%80%99s%20MacBook%20Pro%29/Desktop/ml_research/Project_to_publish/supplementary_material_neurips_2021_submitted/paper_code/neurips_code/utils.py?line=203'>204</a>\u001b[0m y_test_pred \u001b[39m=\u001b[39m X_test\u001b[39m.\u001b[39mdot(w_e_train)\n",
      "\u001b[0;31mKeyboardInterrupt\u001b[0m: "
     ]
    }
   ],
   "source": [
    "import numpy as np\n",
    "from optimal_interpolator_code.plot_changing_rho2 import display_risks_rho_2\n",
    "import time\n",
    "\n",
    "\n",
    "\n",
    "\n",
    "if __name__ == '__main__':\n",
    "\n",
    "    t1 = time.time()\n",
    "\n",
    "    # for smaller run time (but noisier plot) decrease n\n",
    "    display_risks_rho_2(n = 300,\n",
    "                        gamma = 2,\n",
    "                        r2 = 1,\n",
    "                        sigma2 = 1,\n",
    "\n",
    "                        strong_feature_ratio = 1/2,\n",
    "                        start_eval_ratio = 5,\n",
    "                        end_eval_ratio = 100,\n",
    "                        change_strong_feature = False,\n",
    "\n",
    "                        source_condition = 'id',\n",
    "\n",
    "                        empir = 'gl',\n",
    "                        alpha = 0.25,\n",
    "\n",
    "                        savefile = True,\n",
    "                        include_predictions = True,\n",
    "\n",
    "                        include_gd = True,\n",
    "                        include_md = True,\n",
    "                        include_md_empirical = False,\n",
    "                        include_best_achievable = True,\n",
    "                        include_best_achievable_empirical = True,\n",
    "\n",
    "                        snr_estimation = list(np.linspace(0.1,1,10))+list(np.linspace(1,10,10)),\n",
    "                        crossval_param = 10,\n",
    "                        )\n",
    "\n",
    "    t2 = time.time()\n",
    "    print(t2-t1)\n"
   ]
  },
  {
   "cell_type": "code",
   "execution_count": null,
   "metadata": {},
   "outputs": [],
   "source": []
  }
 ],
 "metadata": {
  "interpreter": {
   "hash": "79234d7e74ce33c0e271fcdf0ac0abb354c64ffe35ac4e1284c7c26b0b5641cb"
  },
  "kernelspec": {
   "display_name": "Python 3.9.10 ('base')",
   "language": "python",
   "name": "python3"
  },
  "language_info": {
   "codemirror_mode": {
    "name": "ipython",
    "version": 3
   },
   "file_extension": ".py",
   "mimetype": "text/x-python",
   "name": "python",
   "nbconvert_exporter": "python",
   "pygments_lexer": "ipython3",
   "version": "3.9.10"
  },
  "orig_nbformat": 4
 },
 "nbformat": 4,
 "nbformat_minor": 2
}
