{
 "cells": [
  {
   "cell_type": "markdown",
   "metadata": {},
   "source": [
    "Testing whether it is possible to say that the ith largest eigenvalue of XFX^T is close to the ith largest eigenvalue of F, when X is an nxd matrix with orthonormal rows (i.e. X.dot(X.T) = I_n)."
   ]
  },
  {
   "cell_type": "code",
   "execution_count": 169,
   "metadata": {},
   "outputs": [],
   "source": [
    "import numpy as np\n",
    "from preconditioners.utils import *\n",
    "from scipy.stats import ortho_group"
   ]
  },
  {
   "cell_type": "code",
   "execution_count": 170,
   "metadata": {},
   "outputs": [],
   "source": [
    "n = 12\n",
    "d = 20\n",
    "sigma2 = 0.05\n",
    "r2 = 1"
   ]
  },
  {
   "cell_type": "code",
   "execution_count": 171,
   "metadata": {},
   "outputs": [],
   "source": [
    "c = generate_c(ro=0.5, regime='autoregressive', d=d)\n",
    "c_inv = np.linalg.inv(c)"
   ]
  },
  {
   "cell_type": "code",
   "execution_count": 172,
   "metadata": {},
   "outputs": [],
   "source": [
    "w_star = generate_true_parameter(d, r2=r2, m=np.eye(d))\n",
    "X, y, _ = generate_centered_linear_gaussian_data(w_star, c, n, d, sigma2)"
   ]
  },
  {
   "cell_type": "code",
   "execution_count": 173,
   "metadata": {},
   "outputs": [],
   "source": [
    "m = ortho_group.rvs(dim=d)\n",
    "m = m[:n,:]\n",
    "\n",
    "v = ortho_group.rvs(dim=d)\n",
    "D = np.diag(np.concatenate((np.ones(int(d/2)),10*np.ones(int(d/2)))))"
   ]
  },
  {
   "cell_type": "code",
   "execution_count": 174,
   "metadata": {},
   "outputs": [],
   "source": [
    "f = v.dot(D.dot(v.T))"
   ]
  },
  {
   "cell_type": "code",
   "execution_count": 175,
   "metadata": {},
   "outputs": [
    {
     "data": {
      "text/plain": [
       "(array([ 9.09826616,  9.36737474,  6.86069808,  6.0503583 ,  4.74403274,\n",
       "         3.14544859,  1.82042562,  1.29096958, 10.        , 10.        ,\n",
       "         1.        ,  1.        ]),\n",
       " array([[ 3.90057256e-01, -1.15939060e-02,  1.58185027e-01,\n",
       "          4.20357899e-01, -1.81907523e-01, -3.08224943e-02,\n",
       "          2.94337514e-01,  9.93113344e-03,  2.43282800e-01,\n",
       "          1.59091045e-01, -6.62902341e-01,  1.87072896e-01],\n",
       "        [ 5.29185468e-02,  4.26291275e-01,  1.23987168e-02,\n",
       "          1.53440471e-01, -9.10619295e-02,  6.62081283e-01,\n",
       "         -2.37233366e-02,  5.50906968e-01,  5.33848792e-02,\n",
       "         -1.69453183e-01,  9.39756702e-02, -5.63078548e-02],\n",
       "        [-3.81620588e-01, -1.03424361e-01,  5.92840022e-01,\n",
       "          4.90022672e-01, -7.52281153e-02, -2.50059558e-01,\n",
       "         -1.93015780e-01,  1.30923068e-01, -3.37784531e-02,\n",
       "         -3.47910627e-01,  7.98506921e-02, -5.14750044e-04],\n",
       "        [-2.69370095e-01, -2.82312248e-01,  2.10804159e-01,\n",
       "         -1.11161236e-01,  1.56475353e-01,  1.49746695e-01,\n",
       "          4.30610027e-01,  3.27504333e-01, -4.76353743e-01,\n",
       "          3.70973352e-01, -1.13002076e-01,  3.02775477e-01],\n",
       "        [ 1.79688021e-02, -2.19606179e-01,  2.35233457e-01,\n",
       "         -9.49431257e-02,  3.78934062e-01, -1.47252181e-02,\n",
       "          1.45561452e-01,  2.36160337e-01,  3.78654166e-01,\n",
       "          1.99510921e-01,  1.64789910e-01, -6.92539133e-01],\n",
       "        [-3.98043336e-01, -1.18827249e-01, -4.11375922e-01,\n",
       "         -1.44514376e-01,  1.76268118e-01, -1.96139785e-01,\n",
       "         -1.62401192e-02,  3.96367299e-01,  3.78111421e-01,\n",
       "         -2.93054951e-01, -3.94281909e-01,  2.76514003e-01],\n",
       "        [ 3.08673920e-01, -7.43197734e-01, -6.32799649e-02,\n",
       "          2.85821661e-02,  3.02062199e-02,  3.88042477e-01,\n",
       "         -1.09995718e-01, -4.59107670e-02, -7.27877408e-02,\n",
       "         -4.18291097e-01, -8.13844446e-03,  2.34156507e-02],\n",
       "        [-4.56442061e-01,  9.26412058e-02, -1.91764976e-01,\n",
       "          1.67461944e-01,  7.12337777e-03,  2.74252744e-01,\n",
       "          3.91419296e-01, -4.33922452e-01, -1.72610495e-01,\n",
       "         -2.46286370e-01, -1.81817468e-01, -3.51819142e-01],\n",
       "        [ 6.62130898e-02,  1.41485498e-01,  2.31847130e-01,\n",
       "         -3.90032087e-01,  5.67872521e-02, -1.60619909e-02,\n",
       "         -4.32971519e-01,  7.69059465e-02, -4.04064333e-01,\n",
       "         -9.95100960e-02, -5.35845184e-01, -1.68690980e-01],\n",
       "        [-3.95602575e-01, -1.86423527e-01,  9.53611769e-02,\n",
       "         -2.91633703e-02, -2.35930613e-01,  4.05321975e-01,\n",
       "         -4.28600566e-01, -2.17548120e-01,  3.25686593e-01,\n",
       "          4.61308930e-01, -1.38577179e-01,  1.05203860e-01],\n",
       "        [ 5.96212089e-02,  2.04999804e-01,  1.68544191e-01,\n",
       "          1.25638480e-01,  8.06467001e-01,  1.93103353e-01,\n",
       "         -1.06979916e-01, -2.92686746e-01,  1.02873851e-01,\n",
       "         -4.01043653e-02, -1.02482352e-01,  3.36629532e-01],\n",
       "        [ 6.31381461e-03, -8.76109327e-02, -4.71517768e-01,\n",
       "          5.65470261e-01,  2.08738764e-01, -9.71211506e-02,\n",
       "         -3.47498288e-01,  1.72686055e-01, -3.29465063e-01,\n",
       "          3.18882184e-01,  3.06008021e-03, -1.92147121e-01]]))"
      ]
     },
     "execution_count": 175,
     "metadata": {},
     "output_type": "execute_result"
    }
   ],
   "source": [
    "np.linalg.eig(m.dot(f.dot(m.T)))"
   ]
  }
 ],
 "metadata": {
  "interpreter": {
   "hash": "2c2d541a5db7c05910ac06554e3a79dfe5bead4166f54a2f5ce9b07705345cc2"
  },
  "kernelspec": {
   "display_name": "Python 3.9.10 ('preconditioners')",
   "language": "python",
   "name": "python3"
  },
  "language_info": {
   "codemirror_mode": {
    "name": "ipython",
    "version": 3
   },
   "file_extension": ".py",
   "mimetype": "text/x-python",
   "name": "python",
   "nbconvert_exporter": "python",
   "pygments_lexer": "ipython3",
   "version": "3.9.10"
  },
  "orig_nbformat": 4
 },
 "nbformat": 4,
 "nbformat_minor": 2
}
