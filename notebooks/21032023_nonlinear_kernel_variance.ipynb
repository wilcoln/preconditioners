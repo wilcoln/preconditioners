{
 "cells": [
  {
   "cell_type": "code",
   "execution_count": 2,
   "metadata": {},
   "outputs": [],
   "source": [
    "import preconditioners\n",
    "import numpy as np\n",
    "import pandas as pd"
   ]
  },
  {
   "cell_type": "code",
   "execution_count": 3,
   "metadata": {},
   "outputs": [],
   "source": [
    "from preconditioners.datasets import generate_c, generate_centered_linear_gaussian_data, generate_true_parameter, generate_W_star\n",
    "\n",
    "def kernel_variance_interpolator(features : np.ndarray, P : np.ndarray, F : np.ndarray, sigma2 : np.float64) -> np.float64:\n",
    "    ''' Given Nxp feature matrix {features}, pxp symmetric preconditioner P and pxp true covariance matrix F, and the signal to noise ratio, this function returns the variance component of the risk \n",
    "    of the interpolator which is the limit of PGD which uses preconditioner P.'''\n",
    "    assert features.shape[1] == P.shape[0] == P.shape[1] == F.shape[0] == F.shape[1]\n",
    "    assert np.linalg.norm(P - P.T) < 1e-7, 'P must be symmetric.'\n",
    "\n",
    "    empirical_NTK = features.dot(P).dot(features.T)\n",
    "    empirical_NTK_inv = np.linalg.inv(empirical_NTK)\n",
    "    auxi_matrix = features.dot(P).dot(F).dot(P).dot(features.T)\n",
    "\n",
    "    return sigma2 * np.trace(empirical_NTK_inv.dot(auxi_matrix).dot(empirical_NTK_inv))"
   ]
  },
  {
   "cell_type": "code",
   "execution_count": 4,
   "metadata": {},
   "outputs": [],
   "source": [
    "# write some tests for the above function\n",
    "\n",
    "def kernel_variance_test(N, d, sigma2):\n",
    "\n",
    "    N = 50\n",
    "    d = 100\n",
    "    r2 = 1\n",
    "    sigma2 = 2\n",
    "\n",
    "    c = generate_c(ro=0.9, regime='autoregressive', d=d)\n",
    "    inv_c = np.linalg.inv(c)\n",
    "    X = np.random.multivariate_normal(mean=np.zeros(d), cov=c, size=N)\n",
    "\n",
    "    ngd_interpol_var = sigma2 * np.trace(np.linalg.inv(X.dot(inv_c).dot(X.T)))\n",
    "    pgd_interpol_var = kernel_variance_interpolator(X, P = inv_c, F = c, sigma2 = sigma2)\n",
    "    assert abs(ngd_interpol_var - pgd_interpol_var) < 1e-15, \\\n",
    "        f'variance of ngd interpolator is {ngd_interpol_var} but variance of pgd interpolator is {pgd_interpol_var}, their difference is {ngd_interpol_var - pgd_interpol_var}'\n",
    "\n",
    "def large_limit_test_min_norm(N, d, sigma2):\n",
    "    assert d > N, 'd must be larger than N.'\n",
    "    assert N >= 200, 'd and N must be large for this to hold.'\n",
    "\n",
    "    gamma = d/N\n",
    "    r2 = 1\n",
    "\n",
    "    c = np.eye(d)\n",
    "    X = np.random.multivariate_normal(mean=np.zeros(d), cov=c, size=N)\n",
    "    P = np.eye(d)\n",
    "    \n",
    "    analytic_var_limit = sigma2 / (gamma - 1)\n",
    "    experimental_var = kernel_variance_interpolator(features=X, P=P, F=c, sigma2=sigma2)\n",
    "    assert abs(analytic_var_limit - experimental_var) < 0.05, \\\n",
    "        f'observed variance was {experimental_var} but variance of limit is {analytic_var_limit}, their difference is {experimental_var - analytic_var_limit}'\n",
    "\n",
    "def large_limit_test_orlai(N, d, sigma2):\n",
    "    '''Same as function large_limit_test_min_norm but with autoregressive covariance c and preconditionre P=c^{-1}.'''\n",
    "    assert d > N, 'd must be larger than N.'\n",
    "    assert N >= 200, 'd and N must be large for this to hold.'\n",
    "\n",
    "    gamma = d/N\n",
    "    r2 = 1\n",
    "\n",
    "    c = generate_c(ro=0.9, regime='autoregressive', d=d)\n",
    "    X = np.random.multivariate_normal(mean=np.zeros(d), cov=c, size=N)\n",
    "    P = np.linalg.inv(c)\n",
    "    \n",
    "    analytic_var_limit = sigma2 / (gamma - 1)\n",
    "    experimental_var = kernel_variance_interpolator(features=X, P=P, F=c, sigma2=sigma2)\n",
    "    assert abs(analytic_var_limit - experimental_var) < 0.05, \\\n",
    "        f'observed variance was {experimental_var} but variance of limit is {analytic_var_limit}, their difference is {experimental_var - analytic_var_limit}'"
   ]
  },
  {
   "cell_type": "code",
   "execution_count": 5,
   "metadata": {},
   "outputs": [],
   "source": [
    "# and test it\n",
    "\n",
    "kernel_variance_test(N=50, d=100, sigma2=2)\n",
    "large_limit_test_min_norm(N=200, d=400, sigma2=2)\n",
    "large_limit_test_orlai(N=200, d=400, sigma2=2)"
   ]
  },
  {
   "cell_type": "markdown",
   "metadata": {},
   "source": [
    "### Now compute the variance for different values of d, lambda for damped NGD, in the case of a linear feature map"
   ]
  },
  {
   "cell_type": "code",
   "execution_count": 6,
   "metadata": {},
   "outputs": [],
   "source": [
    "# Are there some properties that I want the feature map to have?\n",
    "# 1. The eigenvalues of the Fisher should grow with d like in the NTK case\n",
    "# 2. (probably relax this) The NTK kernel is assumed to have a lower bounded smallest eigenvalue in the infinite-width limit\n",
    "# perhaps nothing else is needed?\n",
    "from sklearn.kernel_approximation import RBFSampler\n",
    "\n",
    "def feature_map(X, dimension):#, n):\n",
    "    # approximates the infinite-dimensional RBF feature map\n",
    "    rbf_sampler = RBFSampler(gamma=1, random_state=1, n_components=dimension)\n",
    "    X_features = rbf_sampler.fit_transform(X)\n",
    "    return X_features\n",
    "    #return n*n**(0.425)*X_features"
   ]
  },
  {
   "cell_type": "code",
   "execution_count": 7,
   "metadata": {},
   "outputs": [
    {
     "data": {
      "text/plain": [
       "0.4280625"
      ]
     },
     "execution_count": 7,
     "metadata": {},
     "output_type": "execute_result"
    }
   ],
   "source": [
    "(0.425 + 0.006125 - 0.425)/2 + 0.425"
   ]
  },
  {
   "cell_type": "code",
   "execution_count": 31,
   "metadata": {},
   "outputs": [
    {
     "name": "stdout",
     "output_type": "stream",
     "text": [
      "iteration 1 of 60\n"
     ]
    },
    {
     "name": "stderr",
     "output_type": "stream",
     "text": [
      "/Users/eduardoravkin/Desktop/ml_research/phd/preconditioners/src/preconditioners/datasets.py:153: UserWarning: Warning, norms of datapoints are not sqrt(d)\n",
      "  warnings.warn('Warning, norms of datapoints are not sqrt(d)')\n"
     ]
    },
    {
     "name": "stdout",
     "output_type": "stream",
     "text": [
      "iteration 2 of 60\n",
      "iteration 3 of 60\n",
      "iteration 4 of 60\n"
     ]
    },
    {
     "name": "stderr",
     "output_type": "stream",
     "text": [
      "/Users/eduardoravkin/Desktop/ml_research/phd/preconditioners/src/preconditioners/datasets.py:153: UserWarning: Warning, norms of datapoints are not sqrt(d)\n",
      "  warnings.warn('Warning, norms of datapoints are not sqrt(d)')\n",
      "/Users/eduardoravkin/Desktop/ml_research/phd/preconditioners/src/preconditioners/datasets.py:153: UserWarning: Warning, norms of datapoints are not sqrt(d)\n",
      "  warnings.warn('Warning, norms of datapoints are not sqrt(d)')\n",
      "/Users/eduardoravkin/Desktop/ml_research/phd/preconditioners/src/preconditioners/datasets.py:153: UserWarning: Warning, norms of datapoints are not sqrt(d)\n",
      "  warnings.warn('Warning, norms of datapoints are not sqrt(d)')\n"
     ]
    },
    {
     "name": "stdout",
     "output_type": "stream",
     "text": [
      "iteration 5 of 60\n",
      "iteration 6 of 60\n",
      "iteration 7 of 60\n"
     ]
    },
    {
     "name": "stderr",
     "output_type": "stream",
     "text": [
      "/Users/eduardoravkin/Desktop/ml_research/phd/preconditioners/src/preconditioners/datasets.py:153: UserWarning: Warning, norms of datapoints are not sqrt(d)\n",
      "  warnings.warn('Warning, norms of datapoints are not sqrt(d)')\n",
      "/Users/eduardoravkin/Desktop/ml_research/phd/preconditioners/src/preconditioners/datasets.py:153: UserWarning: Warning, norms of datapoints are not sqrt(d)\n",
      "  warnings.warn('Warning, norms of datapoints are not sqrt(d)')\n",
      "/Users/eduardoravkin/Desktop/ml_research/phd/preconditioners/src/preconditioners/datasets.py:153: UserWarning: Warning, norms of datapoints are not sqrt(d)\n",
      "  warnings.warn('Warning, norms of datapoints are not sqrt(d)')\n"
     ]
    },
    {
     "name": "stdout",
     "output_type": "stream",
     "text": [
      "iteration 8 of 60\n",
      "iteration 9 of 60\n"
     ]
    },
    {
     "name": "stderr",
     "output_type": "stream",
     "text": [
      "/Users/eduardoravkin/Desktop/ml_research/phd/preconditioners/src/preconditioners/datasets.py:153: UserWarning: Warning, norms of datapoints are not sqrt(d)\n",
      "  warnings.warn('Warning, norms of datapoints are not sqrt(d)')\n",
      "/Users/eduardoravkin/Desktop/ml_research/phd/preconditioners/src/preconditioners/datasets.py:153: UserWarning: Warning, norms of datapoints are not sqrt(d)\n",
      "  warnings.warn('Warning, norms of datapoints are not sqrt(d)')\n"
     ]
    },
    {
     "name": "stdout",
     "output_type": "stream",
     "text": [
      "iteration 10 of 60\n",
      "iteration 11 of 60\n"
     ]
    },
    {
     "name": "stderr",
     "output_type": "stream",
     "text": [
      "/Users/eduardoravkin/Desktop/ml_research/phd/preconditioners/src/preconditioners/datasets.py:153: UserWarning: Warning, norms of datapoints are not sqrt(d)\n",
      "  warnings.warn('Warning, norms of datapoints are not sqrt(d)')\n",
      "/Users/eduardoravkin/Desktop/ml_research/phd/preconditioners/src/preconditioners/datasets.py:153: UserWarning: Warning, norms of datapoints are not sqrt(d)\n",
      "  warnings.warn('Warning, norms of datapoints are not sqrt(d)')\n"
     ]
    },
    {
     "name": "stdout",
     "output_type": "stream",
     "text": [
      "iteration 12 of 60\n",
      "iteration 13 of 60\n"
     ]
    },
    {
     "name": "stderr",
     "output_type": "stream",
     "text": [
      "/Users/eduardoravkin/Desktop/ml_research/phd/preconditioners/src/preconditioners/datasets.py:153: UserWarning: Warning, norms of datapoints are not sqrt(d)\n",
      "  warnings.warn('Warning, norms of datapoints are not sqrt(d)')\n",
      "/Users/eduardoravkin/Desktop/ml_research/phd/preconditioners/src/preconditioners/datasets.py:153: UserWarning: Warning, norms of datapoints are not sqrt(d)\n",
      "  warnings.warn('Warning, norms of datapoints are not sqrt(d)')\n"
     ]
    },
    {
     "name": "stdout",
     "output_type": "stream",
     "text": [
      "iteration 14 of 60\n",
      "iteration 15 of 60\n"
     ]
    },
    {
     "name": "stderr",
     "output_type": "stream",
     "text": [
      "/Users/eduardoravkin/Desktop/ml_research/phd/preconditioners/src/preconditioners/datasets.py:153: UserWarning: Warning, norms of datapoints are not sqrt(d)\n",
      "  warnings.warn('Warning, norms of datapoints are not sqrt(d)')\n",
      "/Users/eduardoravkin/Desktop/ml_research/phd/preconditioners/src/preconditioners/datasets.py:153: UserWarning: Warning, norms of datapoints are not sqrt(d)\n",
      "  warnings.warn('Warning, norms of datapoints are not sqrt(d)')\n"
     ]
    },
    {
     "name": "stdout",
     "output_type": "stream",
     "text": [
      "iteration 16 of 60\n",
      "iteration 17 of 60\n"
     ]
    },
    {
     "name": "stderr",
     "output_type": "stream",
     "text": [
      "/Users/eduardoravkin/Desktop/ml_research/phd/preconditioners/src/preconditioners/datasets.py:153: UserWarning: Warning, norms of datapoints are not sqrt(d)\n",
      "  warnings.warn('Warning, norms of datapoints are not sqrt(d)')\n",
      "/Users/eduardoravkin/Desktop/ml_research/phd/preconditioners/src/preconditioners/datasets.py:153: UserWarning: Warning, norms of datapoints are not sqrt(d)\n",
      "  warnings.warn('Warning, norms of datapoints are not sqrt(d)')\n"
     ]
    },
    {
     "name": "stdout",
     "output_type": "stream",
     "text": [
      "iteration 18 of 60\n",
      "iteration 19 of 60\n"
     ]
    },
    {
     "name": "stderr",
     "output_type": "stream",
     "text": [
      "/Users/eduardoravkin/Desktop/ml_research/phd/preconditioners/src/preconditioners/datasets.py:153: UserWarning: Warning, norms of datapoints are not sqrt(d)\n",
      "  warnings.warn('Warning, norms of datapoints are not sqrt(d)')\n",
      "/Users/eduardoravkin/Desktop/ml_research/phd/preconditioners/src/preconditioners/datasets.py:153: UserWarning: Warning, norms of datapoints are not sqrt(d)\n",
      "  warnings.warn('Warning, norms of datapoints are not sqrt(d)')\n"
     ]
    },
    {
     "name": "stdout",
     "output_type": "stream",
     "text": [
      "iteration 20 of 60\n"
     ]
    },
    {
     "name": "stderr",
     "output_type": "stream",
     "text": [
      "/Users/eduardoravkin/Desktop/ml_research/phd/preconditioners/src/preconditioners/datasets.py:153: UserWarning: Warning, norms of datapoints are not sqrt(d)\n",
      "  warnings.warn('Warning, norms of datapoints are not sqrt(d)')\n"
     ]
    },
    {
     "name": "stdout",
     "output_type": "stream",
     "text": [
      "iteration 21 of 60\n"
     ]
    },
    {
     "name": "stderr",
     "output_type": "stream",
     "text": [
      "/Users/eduardoravkin/Desktop/ml_research/phd/preconditioners/src/preconditioners/datasets.py:153: UserWarning: Warning, norms of datapoints are not sqrt(d)\n",
      "  warnings.warn('Warning, norms of datapoints are not sqrt(d)')\n"
     ]
    },
    {
     "name": "stdout",
     "output_type": "stream",
     "text": [
      "iteration 22 of 60\n"
     ]
    },
    {
     "name": "stderr",
     "output_type": "stream",
     "text": [
      "/Users/eduardoravkin/Desktop/ml_research/phd/preconditioners/src/preconditioners/datasets.py:153: UserWarning: Warning, norms of datapoints are not sqrt(d)\n",
      "  warnings.warn('Warning, norms of datapoints are not sqrt(d)')\n"
     ]
    },
    {
     "name": "stdout",
     "output_type": "stream",
     "text": [
      "iteration 23 of 60\n"
     ]
    },
    {
     "name": "stderr",
     "output_type": "stream",
     "text": [
      "/Users/eduardoravkin/Desktop/ml_research/phd/preconditioners/src/preconditioners/datasets.py:153: UserWarning: Warning, norms of datapoints are not sqrt(d)\n",
      "  warnings.warn('Warning, norms of datapoints are not sqrt(d)')\n"
     ]
    },
    {
     "name": "stdout",
     "output_type": "stream",
     "text": [
      "iteration 24 of 60\n"
     ]
    },
    {
     "name": "stderr",
     "output_type": "stream",
     "text": [
      "/Users/eduardoravkin/Desktop/ml_research/phd/preconditioners/src/preconditioners/datasets.py:153: UserWarning: Warning, norms of datapoints are not sqrt(d)\n",
      "  warnings.warn('Warning, norms of datapoints are not sqrt(d)')\n"
     ]
    },
    {
     "name": "stdout",
     "output_type": "stream",
     "text": [
      "iteration 25 of 60\n"
     ]
    },
    {
     "name": "stderr",
     "output_type": "stream",
     "text": [
      "/Users/eduardoravkin/Desktop/ml_research/phd/preconditioners/src/preconditioners/datasets.py:153: UserWarning: Warning, norms of datapoints are not sqrt(d)\n",
      "  warnings.warn('Warning, norms of datapoints are not sqrt(d)')\n"
     ]
    },
    {
     "name": "stdout",
     "output_type": "stream",
     "text": [
      "iteration 26 of 60\n"
     ]
    },
    {
     "name": "stderr",
     "output_type": "stream",
     "text": [
      "/Users/eduardoravkin/Desktop/ml_research/phd/preconditioners/src/preconditioners/datasets.py:153: UserWarning: Warning, norms of datapoints are not sqrt(d)\n",
      "  warnings.warn('Warning, norms of datapoints are not sqrt(d)')\n"
     ]
    },
    {
     "name": "stdout",
     "output_type": "stream",
     "text": [
      "iteration 27 of 60\n"
     ]
    },
    {
     "name": "stderr",
     "output_type": "stream",
     "text": [
      "/Users/eduardoravkin/Desktop/ml_research/phd/preconditioners/src/preconditioners/datasets.py:153: UserWarning: Warning, norms of datapoints are not sqrt(d)\n",
      "  warnings.warn('Warning, norms of datapoints are not sqrt(d)')\n"
     ]
    },
    {
     "name": "stdout",
     "output_type": "stream",
     "text": [
      "iteration 28 of 60\n"
     ]
    },
    {
     "name": "stderr",
     "output_type": "stream",
     "text": [
      "/Users/eduardoravkin/Desktop/ml_research/phd/preconditioners/src/preconditioners/datasets.py:153: UserWarning: Warning, norms of datapoints are not sqrt(d)\n",
      "  warnings.warn('Warning, norms of datapoints are not sqrt(d)')\n"
     ]
    },
    {
     "name": "stdout",
     "output_type": "stream",
     "text": [
      "iteration 29 of 60\n"
     ]
    },
    {
     "name": "stderr",
     "output_type": "stream",
     "text": [
      "/Users/eduardoravkin/Desktop/ml_research/phd/preconditioners/src/preconditioners/datasets.py:153: UserWarning: Warning, norms of datapoints are not sqrt(d)\n",
      "  warnings.warn('Warning, norms of datapoints are not sqrt(d)')\n"
     ]
    },
    {
     "name": "stdout",
     "output_type": "stream",
     "text": [
      "iteration 30 of 60\n"
     ]
    },
    {
     "name": "stderr",
     "output_type": "stream",
     "text": [
      "/Users/eduardoravkin/Desktop/ml_research/phd/preconditioners/src/preconditioners/datasets.py:153: UserWarning: Warning, norms of datapoints are not sqrt(d)\n",
      "  warnings.warn('Warning, norms of datapoints are not sqrt(d)')\n"
     ]
    },
    {
     "name": "stdout",
     "output_type": "stream",
     "text": [
      "iteration 31 of 60\n"
     ]
    },
    {
     "name": "stderr",
     "output_type": "stream",
     "text": [
      "/Users/eduardoravkin/Desktop/ml_research/phd/preconditioners/src/preconditioners/datasets.py:153: UserWarning: Warning, norms of datapoints are not sqrt(d)\n",
      "  warnings.warn('Warning, norms of datapoints are not sqrt(d)')\n"
     ]
    },
    {
     "name": "stdout",
     "output_type": "stream",
     "text": [
      "iteration 32 of 60\n"
     ]
    },
    {
     "name": "stderr",
     "output_type": "stream",
     "text": [
      "/Users/eduardoravkin/Desktop/ml_research/phd/preconditioners/src/preconditioners/datasets.py:153: UserWarning: Warning, norms of datapoints are not sqrt(d)\n",
      "  warnings.warn('Warning, norms of datapoints are not sqrt(d)')\n"
     ]
    },
    {
     "name": "stdout",
     "output_type": "stream",
     "text": [
      "iteration 33 of 60\n"
     ]
    },
    {
     "name": "stderr",
     "output_type": "stream",
     "text": [
      "/Users/eduardoravkin/Desktop/ml_research/phd/preconditioners/src/preconditioners/datasets.py:153: UserWarning: Warning, norms of datapoints are not sqrt(d)\n",
      "  warnings.warn('Warning, norms of datapoints are not sqrt(d)')\n"
     ]
    },
    {
     "name": "stdout",
     "output_type": "stream",
     "text": [
      "iteration 34 of 60\n"
     ]
    },
    {
     "name": "stderr",
     "output_type": "stream",
     "text": [
      "/Users/eduardoravkin/Desktop/ml_research/phd/preconditioners/src/preconditioners/datasets.py:153: UserWarning: Warning, norms of datapoints are not sqrt(d)\n",
      "  warnings.warn('Warning, norms of datapoints are not sqrt(d)')\n"
     ]
    },
    {
     "name": "stdout",
     "output_type": "stream",
     "text": [
      "iteration 35 of 60\n"
     ]
    },
    {
     "name": "stderr",
     "output_type": "stream",
     "text": [
      "/Users/eduardoravkin/Desktop/ml_research/phd/preconditioners/src/preconditioners/datasets.py:153: UserWarning: Warning, norms of datapoints are not sqrt(d)\n",
      "  warnings.warn('Warning, norms of datapoints are not sqrt(d)')\n"
     ]
    },
    {
     "name": "stdout",
     "output_type": "stream",
     "text": [
      "iteration 36 of 60\n"
     ]
    },
    {
     "name": "stderr",
     "output_type": "stream",
     "text": [
      "/Users/eduardoravkin/Desktop/ml_research/phd/preconditioners/src/preconditioners/datasets.py:153: UserWarning: Warning, norms of datapoints are not sqrt(d)\n",
      "  warnings.warn('Warning, norms of datapoints are not sqrt(d)')\n"
     ]
    },
    {
     "name": "stdout",
     "output_type": "stream",
     "text": [
      "iteration 37 of 60\n"
     ]
    },
    {
     "name": "stderr",
     "output_type": "stream",
     "text": [
      "/Users/eduardoravkin/Desktop/ml_research/phd/preconditioners/src/preconditioners/datasets.py:153: UserWarning: Warning, norms of datapoints are not sqrt(d)\n",
      "  warnings.warn('Warning, norms of datapoints are not sqrt(d)')\n"
     ]
    },
    {
     "name": "stdout",
     "output_type": "stream",
     "text": [
      "iteration 38 of 60\n"
     ]
    },
    {
     "name": "stderr",
     "output_type": "stream",
     "text": [
      "/Users/eduardoravkin/Desktop/ml_research/phd/preconditioners/src/preconditioners/datasets.py:153: UserWarning: Warning, norms of datapoints are not sqrt(d)\n",
      "  warnings.warn('Warning, norms of datapoints are not sqrt(d)')\n"
     ]
    },
    {
     "name": "stdout",
     "output_type": "stream",
     "text": [
      "iteration 39 of 60\n"
     ]
    },
    {
     "name": "stderr",
     "output_type": "stream",
     "text": [
      "/Users/eduardoravkin/Desktop/ml_research/phd/preconditioners/src/preconditioners/datasets.py:153: UserWarning: Warning, norms of datapoints are not sqrt(d)\n",
      "  warnings.warn('Warning, norms of datapoints are not sqrt(d)')\n"
     ]
    },
    {
     "name": "stdout",
     "output_type": "stream",
     "text": [
      "iteration 40 of 60\n"
     ]
    },
    {
     "name": "stderr",
     "output_type": "stream",
     "text": [
      "/Users/eduardoravkin/Desktop/ml_research/phd/preconditioners/src/preconditioners/datasets.py:153: UserWarning: Warning, norms of datapoints are not sqrt(d)\n",
      "  warnings.warn('Warning, norms of datapoints are not sqrt(d)')\n"
     ]
    },
    {
     "name": "stdout",
     "output_type": "stream",
     "text": [
      "iteration 41 of 60\n"
     ]
    },
    {
     "name": "stderr",
     "output_type": "stream",
     "text": [
      "/Users/eduardoravkin/Desktop/ml_research/phd/preconditioners/src/preconditioners/datasets.py:153: UserWarning: Warning, norms of datapoints are not sqrt(d)\n",
      "  warnings.warn('Warning, norms of datapoints are not sqrt(d)')\n"
     ]
    },
    {
     "name": "stdout",
     "output_type": "stream",
     "text": [
      "iteration 42 of 60\n"
     ]
    },
    {
     "name": "stderr",
     "output_type": "stream",
     "text": [
      "/Users/eduardoravkin/Desktop/ml_research/phd/preconditioners/src/preconditioners/datasets.py:153: UserWarning: Warning, norms of datapoints are not sqrt(d)\n",
      "  warnings.warn('Warning, norms of datapoints are not sqrt(d)')\n"
     ]
    },
    {
     "name": "stdout",
     "output_type": "stream",
     "text": [
      "iteration 43 of 60\n"
     ]
    },
    {
     "name": "stderr",
     "output_type": "stream",
     "text": [
      "/Users/eduardoravkin/Desktop/ml_research/phd/preconditioners/src/preconditioners/datasets.py:153: UserWarning: Warning, norms of datapoints are not sqrt(d)\n",
      "  warnings.warn('Warning, norms of datapoints are not sqrt(d)')\n"
     ]
    },
    {
     "name": "stdout",
     "output_type": "stream",
     "text": [
      "iteration 44 of 60\n"
     ]
    },
    {
     "name": "stderr",
     "output_type": "stream",
     "text": [
      "/Users/eduardoravkin/Desktop/ml_research/phd/preconditioners/src/preconditioners/datasets.py:153: UserWarning: Warning, norms of datapoints are not sqrt(d)\n",
      "  warnings.warn('Warning, norms of datapoints are not sqrt(d)')\n"
     ]
    },
    {
     "name": "stdout",
     "output_type": "stream",
     "text": [
      "iteration 45 of 60\n"
     ]
    },
    {
     "name": "stderr",
     "output_type": "stream",
     "text": [
      "/Users/eduardoravkin/Desktop/ml_research/phd/preconditioners/src/preconditioners/datasets.py:153: UserWarning: Warning, norms of datapoints are not sqrt(d)\n",
      "  warnings.warn('Warning, norms of datapoints are not sqrt(d)')\n"
     ]
    },
    {
     "name": "stdout",
     "output_type": "stream",
     "text": [
      "iteration 46 of 60\n"
     ]
    },
    {
     "name": "stderr",
     "output_type": "stream",
     "text": [
      "/Users/eduardoravkin/Desktop/ml_research/phd/preconditioners/src/preconditioners/datasets.py:153: UserWarning: Warning, norms of datapoints are not sqrt(d)\n",
      "  warnings.warn('Warning, norms of datapoints are not sqrt(d)')\n"
     ]
    },
    {
     "name": "stdout",
     "output_type": "stream",
     "text": [
      "iteration 47 of 60\n"
     ]
    },
    {
     "name": "stderr",
     "output_type": "stream",
     "text": [
      "/Users/eduardoravkin/Desktop/ml_research/phd/preconditioners/src/preconditioners/datasets.py:153: UserWarning: Warning, norms of datapoints are not sqrt(d)\n",
      "  warnings.warn('Warning, norms of datapoints are not sqrt(d)')\n"
     ]
    },
    {
     "name": "stdout",
     "output_type": "stream",
     "text": [
      "iteration 48 of 60\n"
     ]
    },
    {
     "name": "stderr",
     "output_type": "stream",
     "text": [
      "/Users/eduardoravkin/Desktop/ml_research/phd/preconditioners/src/preconditioners/datasets.py:153: UserWarning: Warning, norms of datapoints are not sqrt(d)\n",
      "  warnings.warn('Warning, norms of datapoints are not sqrt(d)')\n"
     ]
    },
    {
     "name": "stdout",
     "output_type": "stream",
     "text": [
      "iteration 49 of 60\n"
     ]
    },
    {
     "name": "stderr",
     "output_type": "stream",
     "text": [
      "/Users/eduardoravkin/Desktop/ml_research/phd/preconditioners/src/preconditioners/datasets.py:153: UserWarning: Warning, norms of datapoints are not sqrt(d)\n",
      "  warnings.warn('Warning, norms of datapoints are not sqrt(d)')\n"
     ]
    },
    {
     "name": "stdout",
     "output_type": "stream",
     "text": [
      "iteration 50 of 60\n"
     ]
    },
    {
     "name": "stderr",
     "output_type": "stream",
     "text": [
      "/Users/eduardoravkin/Desktop/ml_research/phd/preconditioners/src/preconditioners/datasets.py:153: UserWarning: Warning, norms of datapoints are not sqrt(d)\n",
      "  warnings.warn('Warning, norms of datapoints are not sqrt(d)')\n"
     ]
    },
    {
     "name": "stdout",
     "output_type": "stream",
     "text": [
      "iteration 51 of 60\n"
     ]
    },
    {
     "name": "stderr",
     "output_type": "stream",
     "text": [
      "/Users/eduardoravkin/Desktop/ml_research/phd/preconditioners/src/preconditioners/datasets.py:153: UserWarning: Warning, norms of datapoints are not sqrt(d)\n",
      "  warnings.warn('Warning, norms of datapoints are not sqrt(d)')\n"
     ]
    },
    {
     "name": "stdout",
     "output_type": "stream",
     "text": [
      "iteration 52 of 60\n"
     ]
    },
    {
     "name": "stderr",
     "output_type": "stream",
     "text": [
      "/Users/eduardoravkin/Desktop/ml_research/phd/preconditioners/src/preconditioners/datasets.py:153: UserWarning: Warning, norms of datapoints are not sqrt(d)\n",
      "  warnings.warn('Warning, norms of datapoints are not sqrt(d)')\n"
     ]
    },
    {
     "name": "stdout",
     "output_type": "stream",
     "text": [
      "iteration 53 of 60\n"
     ]
    },
    {
     "name": "stderr",
     "output_type": "stream",
     "text": [
      "/Users/eduardoravkin/Desktop/ml_research/phd/preconditioners/src/preconditioners/datasets.py:153: UserWarning: Warning, norms of datapoints are not sqrt(d)\n",
      "  warnings.warn('Warning, norms of datapoints are not sqrt(d)')\n"
     ]
    },
    {
     "name": "stdout",
     "output_type": "stream",
     "text": [
      "iteration 54 of 60\n"
     ]
    },
    {
     "name": "stderr",
     "output_type": "stream",
     "text": [
      "/Users/eduardoravkin/Desktop/ml_research/phd/preconditioners/src/preconditioners/datasets.py:153: UserWarning: Warning, norms of datapoints are not sqrt(d)\n",
      "  warnings.warn('Warning, norms of datapoints are not sqrt(d)')\n"
     ]
    },
    {
     "name": "stdout",
     "output_type": "stream",
     "text": [
      "iteration 55 of 60\n"
     ]
    },
    {
     "name": "stderr",
     "output_type": "stream",
     "text": [
      "/Users/eduardoravkin/Desktop/ml_research/phd/preconditioners/src/preconditioners/datasets.py:153: UserWarning: Warning, norms of datapoints are not sqrt(d)\n",
      "  warnings.warn('Warning, norms of datapoints are not sqrt(d)')\n"
     ]
    },
    {
     "name": "stdout",
     "output_type": "stream",
     "text": [
      "iteration 56 of 60\n"
     ]
    },
    {
     "name": "stderr",
     "output_type": "stream",
     "text": [
      "/Users/eduardoravkin/Desktop/ml_research/phd/preconditioners/src/preconditioners/datasets.py:153: UserWarning: Warning, norms of datapoints are not sqrt(d)\n",
      "  warnings.warn('Warning, norms of datapoints are not sqrt(d)')\n"
     ]
    },
    {
     "name": "stdout",
     "output_type": "stream",
     "text": [
      "iteration 57 of 60\n"
     ]
    },
    {
     "name": "stderr",
     "output_type": "stream",
     "text": [
      "/Users/eduardoravkin/Desktop/ml_research/phd/preconditioners/src/preconditioners/datasets.py:153: UserWarning: Warning, norms of datapoints are not sqrt(d)\n",
      "  warnings.warn('Warning, norms of datapoints are not sqrt(d)')\n"
     ]
    },
    {
     "name": "stdout",
     "output_type": "stream",
     "text": [
      "iteration 58 of 60\n"
     ]
    },
    {
     "name": "stderr",
     "output_type": "stream",
     "text": [
      "/Users/eduardoravkin/Desktop/ml_research/phd/preconditioners/src/preconditioners/datasets.py:153: UserWarning: Warning, norms of datapoints are not sqrt(d)\n",
      "  warnings.warn('Warning, norms of datapoints are not sqrt(d)')\n"
     ]
    },
    {
     "name": "stdout",
     "output_type": "stream",
     "text": [
      "iteration 59 of 60\n"
     ]
    },
    {
     "name": "stderr",
     "output_type": "stream",
     "text": [
      "/Users/eduardoravkin/Desktop/ml_research/phd/preconditioners/src/preconditioners/datasets.py:153: UserWarning: Warning, norms of datapoints are not sqrt(d)\n",
      "  warnings.warn('Warning, norms of datapoints are not sqrt(d)')\n"
     ]
    },
    {
     "name": "stdout",
     "output_type": "stream",
     "text": [
      "iteration 60 of 60\n"
     ]
    },
    {
     "name": "stderr",
     "output_type": "stream",
     "text": [
      "/Users/eduardoravkin/Desktop/ml_research/phd/preconditioners/src/preconditioners/datasets.py:153: UserWarning: Warning, norms of datapoints are not sqrt(d)\n",
      "  warnings.warn('Warning, norms of datapoints are not sqrt(d)')\n"
     ]
    }
   ],
   "source": [
    "import matplotlib.pyplot as plt\n",
    "import numpy as np\n",
    "from preconditioners.datasets import generate_true_parameter, CenteredLinearGaussianDataset, generate_true_parameter, generate_c\n",
    "from torch.utils.data import random_split\n",
    "\n",
    "N = 20\n",
    "N_extra = 30000\n",
    "d = 30\n",
    "sigma2 = 2\n",
    "n_ns = 10\n",
    "n_lams = 6\n",
    "variances_damped = np.zeros((n_ns,n_lams))\n",
    "variances_ngd = np.zeros((n_ns,n_lams))\n",
    "variances_diff = np.zeros((n_ns,n_lams))\n",
    "\n",
    "largest_eigval_F_prelim = np.zeros((n_ns,n_lams))\n",
    "smallest_eigval_F_div_n = np.zeros((n_ns,n_lams))\n",
    "largest_eigval_F_div_n = np.zeros((n_ns,n_lams))\n",
    "\n",
    "\n",
    "ns = [int(x) for x in np.linspace(int(np.sqrt(2*N)),int(2*N),n_ns)]\n",
    "lams = np.logspace(1, -2, num=n_lams, endpoint=True, base=10.0)\n",
    "dampings = []\n",
    "\n",
    "k = 0\n",
    "for i in range(n_ns):\n",
    "    for j in range(n_lams):\n",
    "        k = k+1\n",
    "        print(f'iteration {k} of {n_ns*n_lams}')\n",
    "        n = ns[i]\n",
    "        p = n ** 2\n",
    "        lam = lams[j]\n",
    "        damping = lam * n # TODO: check if multiplying by n is correct\n",
    "        dampings.append(damping)\n",
    "\n",
    "        w_star = generate_true_parameter(d, r2=1, m=np.eye(d))\n",
    "        c = generate_c(ro=0.9, regime='autoregressive', d=d)\n",
    "        dataset = CenteredLinearGaussianDataset(w_star, c, n=N + N_extra, d=d, sigma2=sigma2)\n",
    "        train_dataset, extra_dataset = random_split(dataset, [N, N_extra])\n",
    "\n",
    "        X, X_extra, X_all = train_dataset[:][0].numpy(), extra_dataset[:][0].numpy(), dataset[:][0].numpy()\n",
    "        features_prelim, features_extra_prelim, features_all_prelim = feature_map(X, dimension=p), feature_map(X_extra, dimension=p), feature_map(X_all, dimension=p)\n",
    "\n",
    "        assert features_prelim.shape == (N, p)\n",
    "        assert features_extra_prelim.shape == (N_extra, p)\n",
    "        assert features_all_prelim.shape == (N + N_extra, p)\n",
    "\n",
    "        # TODO: Need to check how are the smallest and largest eigenvalues of the Fisher distributed        \n",
    "        # TODO: make sure the eigenvalues of the Fisher grow with n as they should\n",
    "\n",
    "        # TODO: check this again\n",
    "        F_extra_prelim = features_extra_prelim.T @ features_extra_prelim / N_extra\n",
    "        largest_eigval_F_prelim[i, j] = np.linalg.eigvalsh(F_extra_prelim)[-1]\n",
    "\n",
    "        mu = np.sqrt(n / largest_eigval_F_prelim[i, j])\n",
    "        features, features_extra, features_all = [mu * x for x in [features_prelim, features_extra_prelim, features_all_prelim]]\n",
    "        F_extra = mu**2 * F_extra_prelim\n",
    "\n",
    "        smallest_eigval_F_div_n[i, j] = np.linalg.eigvalsh(F_extra)[0]/n\n",
    "        largest_eigval_F_div_n[i, j] = np.linalg.eigvalsh(F_extra)[-1]/n\n",
    "        P_ngd = np.linalg.inv(F_extra)\n",
    "        P_damped = np.linalg.inv(F_extra + damping * np.eye(p))\n",
    "\n",
    "        variances_damped[i, j] = kernel_variance_interpolator(features=features, P=P_damped, F=F_extra, sigma2=sigma2) \n",
    "        variances_ngd[i, j] = kernel_variance_interpolator(features=features, P=P_ngd, F=F_extra, sigma2=sigma2)\n",
    "        variances_diff = variances_damped - variances_ngd\n",
    "\n"
   ]
  },
  {
   "cell_type": "code",
   "execution_count": 32,
   "metadata": {},
   "outputs": [
    {
     "data": {
      "text/plain": [
       "(30020, 1600)"
      ]
     },
     "execution_count": 32,
     "metadata": {},
     "output_type": "execute_result"
    }
   ],
   "source": [
    "features_all.shape"
   ]
  },
  {
   "cell_type": "code",
   "execution_count": 33,
   "metadata": {},
   "outputs": [
    {
     "data": {
      "text/plain": [
       "array([10.        ,  2.51188643,  0.63095734,  0.15848932,  0.03981072,\n",
       "        0.01      ])"
      ]
     },
     "execution_count": 33,
     "metadata": {},
     "output_type": "execute_result"
    }
   ],
   "source": [
    "lams"
   ]
  },
  {
   "cell_type": "code",
   "execution_count": 34,
   "metadata": {},
   "outputs": [
    {
     "name": "stdout",
     "output_type": "stream",
     "text": [
      "[1.05725498e-03 5.63683307e-04 2.06027571e-04 2.90256840e-05\n",
      " 2.84977406e-06 2.30411832e-07]\n",
      "[1.17147535e-03 8.25408297e-04 3.28742178e-04 5.66349710e-05\n",
      " 4.98933628e-06 3.49955808e-07]\n"
     ]
    }
   ],
   "source": [
    "print(variances_diff[0,:])\n",
    "print(variances_diff[-1,:])\n"
   ]
  },
  {
   "cell_type": "code",
   "execution_count": 35,
   "metadata": {},
   "outputs": [
    {
     "name": "stdout",
     "output_type": "stream",
     "text": [
      "[0.00105725 0.00102039 0.00114625 0.00110371 0.00115129 0.00115439\n",
      " 0.0011256  0.00117712 0.0011634  0.00117148]\n",
      "[2.30411832e-07 1.48471179e-07 1.74556392e-07 1.96022400e-07\n",
      " 2.13098910e-07 2.27673735e-07 2.51441727e-07 2.76069387e-07\n",
      " 3.10230515e-07 3.49955808e-07]\n"
     ]
    }
   ],
   "source": [
    "print(variances_diff[:,0])\n",
    "print(variances_diff[:,-1])"
   ]
  },
  {
   "cell_type": "code",
   "execution_count": 36,
   "metadata": {},
   "outputs": [
    {
     "data": {
      "text/plain": [
       "<AxesSubplot: >"
      ]
     },
     "execution_count": 36,
     "metadata": {},
     "output_type": "execute_result"
    },
    {
     "data": {
      "image/png": "[encoded data removed]",
      "text/plain": [
       "<Figure size 432x288 with 2 Axes>"
      ]
     },
     "metadata": {
      "needs_background": "light"
     },
     "output_type": "display_data"
    }
   ],
   "source": [
    "import seaborn as sns\n",
    "sns.heatmap(variances_diff, cmap='viridis', xticklabels=[round(x, 1) for x in lams], yticklabels=ns)"
   ]
  },
  {
   "cell_type": "code",
   "execution_count": 37,
   "metadata": {},
   "outputs": [
    {
     "data": {
      "text/plain": [
       "<AxesSubplot: >"
      ]
     },
     "execution_count": 37,
     "metadata": {},
     "output_type": "execute_result"
    },
    {
     "data": {
      "image/png": "[encoded data removed]",
      "text/plain": [
       "<Figure size 432x288 with 2 Axes>"
      ]
     },
     "metadata": {
      "needs_background": "light"
     },
     "output_type": "display_data"
    }
   ],
   "source": [
    "sns.heatmap(largest_eigval_F_div_n, cmap='viridis', xticklabels=[round(x, 1) for x in lams], yticklabels=ns)"
   ]
  },
  {
   "cell_type": "code",
   "execution_count": 38,
   "metadata": {},
   "outputs": [
    {
     "data": {
      "text/plain": [
       "<AxesSubplot: >"
      ]
     },
     "execution_count": 38,
     "metadata": {},
     "output_type": "execute_result"
    },
    {
     "data": {
      "image/png": "[encoded data removed]",
      "text/plain": [
       "<Figure size 432x288 with 2 Axes>"
      ]
     },
     "metadata": {
      "needs_background": "light"
     },
     "output_type": "display_data"
    }
   ],
   "source": [
    "sns.heatmap(smallest_eigval_F_div_n, cmap='viridis', xticklabels=[round(x, 1) for x in lams], yticklabels=ns)"
   ]
  },
  {
   "attachments": {},
   "cell_type": "markdown",
   "metadata": {},
   "source": [
    "## Same thing as above but for larger n (n goes up to 5N)"
   ]
  },
  {
   "cell_type": "code",
   "execution_count": 24,
   "metadata": {},
   "outputs": [
    {
     "name": "stdout",
     "output_type": "stream",
     "text": [
      "iteration 1 of 15\n"
     ]
    },
    {
     "name": "stderr",
     "output_type": "stream",
     "text": [
      "/Users/eduardoravkin/Desktop/ml_research/phd/preconditioners/src/preconditioners/datasets.py:153: UserWarning: Warning, norms of datapoints are not sqrt(d)\n",
      "  warnings.warn('Warning, norms of datapoints are not sqrt(d)')\n"
     ]
    },
    {
     "name": "stdout",
     "output_type": "stream",
     "text": [
      "iteration 2 of 15\n",
      "iteration 3 of 15\n",
      "iteration 4 of 15\n"
     ]
    },
    {
     "name": "stderr",
     "output_type": "stream",
     "text": [
      "/Users/eduardoravkin/Desktop/ml_research/phd/preconditioners/src/preconditioners/datasets.py:153: UserWarning: Warning, norms of datapoints are not sqrt(d)\n",
      "  warnings.warn('Warning, norms of datapoints are not sqrt(d)')\n",
      "/Users/eduardoravkin/Desktop/ml_research/phd/preconditioners/src/preconditioners/datasets.py:153: UserWarning: Warning, norms of datapoints are not sqrt(d)\n",
      "  warnings.warn('Warning, norms of datapoints are not sqrt(d)')\n",
      "/Users/eduardoravkin/Desktop/ml_research/phd/preconditioners/src/preconditioners/datasets.py:153: UserWarning: Warning, norms of datapoints are not sqrt(d)\n",
      "  warnings.warn('Warning, norms of datapoints are not sqrt(d)')\n"
     ]
    },
    {
     "name": "stdout",
     "output_type": "stream",
     "text": [
      "iteration 5 of 15\n"
     ]
    },
    {
     "name": "stderr",
     "output_type": "stream",
     "text": [
      "/Users/eduardoravkin/Desktop/ml_research/phd/preconditioners/src/preconditioners/datasets.py:153: UserWarning: Warning, norms of datapoints are not sqrt(d)\n",
      "  warnings.warn('Warning, norms of datapoints are not sqrt(d)')\n"
     ]
    },
    {
     "name": "stdout",
     "output_type": "stream",
     "text": [
      "iteration 6 of 15\n"
     ]
    },
    {
     "name": "stderr",
     "output_type": "stream",
     "text": [
      "/Users/eduardoravkin/Desktop/ml_research/phd/preconditioners/src/preconditioners/datasets.py:153: UserWarning: Warning, norms of datapoints are not sqrt(d)\n",
      "  warnings.warn('Warning, norms of datapoints are not sqrt(d)')\n"
     ]
    },
    {
     "name": "stdout",
     "output_type": "stream",
     "text": [
      "iteration 7 of 15\n"
     ]
    },
    {
     "name": "stderr",
     "output_type": "stream",
     "text": [
      "/Users/eduardoravkin/Desktop/ml_research/phd/preconditioners/src/preconditioners/datasets.py:153: UserWarning: Warning, norms of datapoints are not sqrt(d)\n",
      "  warnings.warn('Warning, norms of datapoints are not sqrt(d)')\n"
     ]
    },
    {
     "name": "stdout",
     "output_type": "stream",
     "text": [
      "iteration 8 of 15\n"
     ]
    },
    {
     "name": "stderr",
     "output_type": "stream",
     "text": [
      "/Users/eduardoravkin/Desktop/ml_research/phd/preconditioners/src/preconditioners/datasets.py:153: UserWarning: Warning, norms of datapoints are not sqrt(d)\n",
      "  warnings.warn('Warning, norms of datapoints are not sqrt(d)')\n"
     ]
    },
    {
     "name": "stdout",
     "output_type": "stream",
     "text": [
      "iteration 9 of 15\n"
     ]
    },
    {
     "name": "stderr",
     "output_type": "stream",
     "text": [
      "/Users/eduardoravkin/Desktop/ml_research/phd/preconditioners/src/preconditioners/datasets.py:153: UserWarning: Warning, norms of datapoints are not sqrt(d)\n",
      "  warnings.warn('Warning, norms of datapoints are not sqrt(d)')\n"
     ]
    },
    {
     "name": "stdout",
     "output_type": "stream",
     "text": [
      "iteration 10 of 15\n"
     ]
    },
    {
     "name": "stderr",
     "output_type": "stream",
     "text": [
      "/Users/eduardoravkin/Desktop/ml_research/phd/preconditioners/src/preconditioners/datasets.py:153: UserWarning: Warning, norms of datapoints are not sqrt(d)\n",
      "  warnings.warn('Warning, norms of datapoints are not sqrt(d)')\n"
     ]
    },
    {
     "name": "stdout",
     "output_type": "stream",
     "text": [
      "iteration 11 of 15\n"
     ]
    },
    {
     "name": "stderr",
     "output_type": "stream",
     "text": [
      "/Users/eduardoravkin/Desktop/ml_research/phd/preconditioners/src/preconditioners/datasets.py:153: UserWarning: Warning, norms of datapoints are not sqrt(d)\n",
      "  warnings.warn('Warning, norms of datapoints are not sqrt(d)')\n"
     ]
    },
    {
     "name": "stdout",
     "output_type": "stream",
     "text": [
      "iteration 12 of 15\n"
     ]
    },
    {
     "name": "stderr",
     "output_type": "stream",
     "text": [
      "/Users/eduardoravkin/Desktop/ml_research/phd/preconditioners/src/preconditioners/datasets.py:153: UserWarning: Warning, norms of datapoints are not sqrt(d)\n",
      "  warnings.warn('Warning, norms of datapoints are not sqrt(d)')\n"
     ]
    },
    {
     "name": "stdout",
     "output_type": "stream",
     "text": [
      "iteration 13 of 15\n"
     ]
    },
    {
     "name": "stderr",
     "output_type": "stream",
     "text": [
      "/Users/eduardoravkin/Desktop/ml_research/phd/preconditioners/src/preconditioners/datasets.py:153: UserWarning: Warning, norms of datapoints are not sqrt(d)\n",
      "  warnings.warn('Warning, norms of datapoints are not sqrt(d)')\n"
     ]
    },
    {
     "name": "stdout",
     "output_type": "stream",
     "text": [
      "iteration 14 of 15\n"
     ]
    },
    {
     "name": "stderr",
     "output_type": "stream",
     "text": [
      "/Users/eduardoravkin/Desktop/ml_research/phd/preconditioners/src/preconditioners/datasets.py:153: UserWarning: Warning, norms of datapoints are not sqrt(d)\n",
      "  warnings.warn('Warning, norms of datapoints are not sqrt(d)')\n"
     ]
    },
    {
     "ename": "KeyboardInterrupt",
     "evalue": "",
     "output_type": "error",
     "traceback": [
      "\u001b[0;31m---------------------------------------------------------------------------\u001b[0m",
      "\u001b[0;31mKeyboardInterrupt\u001b[0m                         Traceback (most recent call last)",
      "\u001b[1;32m/Users/eduardoravkin/Desktop/ml_research/phd/preconditioners/notebooks/21032023_nonlinear_kernel_variance.ipynb Cell 8\u001b[0m in \u001b[0;36m<cell line: 26>\u001b[0;34m()\u001b[0m\n\u001b[1;32m     <a href='vscode-notebook-cell:/Users/eduardoravkin/Desktop/ml_research/phd/preconditioners/notebooks/21032023_nonlinear_kernel_variance.ipynb#X10sZmlsZQ%3D%3D?line=47'>48</a>\u001b[0m \u001b[39m# TODO: Need to check how are the smallest and largest eigenvalues of the Fisher distributed        \u001b[39;00m\n\u001b[1;32m     <a href='vscode-notebook-cell:/Users/eduardoravkin/Desktop/ml_research/phd/preconditioners/notebooks/21032023_nonlinear_kernel_variance.ipynb#X10sZmlsZQ%3D%3D?line=48'>49</a>\u001b[0m \u001b[39m# TODO: make sure the eigenvalues of the Fisher grow with n as they should\u001b[39;00m\n\u001b[1;32m     <a href='vscode-notebook-cell:/Users/eduardoravkin/Desktop/ml_research/phd/preconditioners/notebooks/21032023_nonlinear_kernel_variance.ipynb#X10sZmlsZQ%3D%3D?line=49'>50</a>\u001b[0m \n\u001b[1;32m     <a href='vscode-notebook-cell:/Users/eduardoravkin/Desktop/ml_research/phd/preconditioners/notebooks/21032023_nonlinear_kernel_variance.ipynb#X10sZmlsZQ%3D%3D?line=50'>51</a>\u001b[0m \u001b[39m# TODO: check this again\u001b[39;00m\n\u001b[1;32m     <a href='vscode-notebook-cell:/Users/eduardoravkin/Desktop/ml_research/phd/preconditioners/notebooks/21032023_nonlinear_kernel_variance.ipynb#X10sZmlsZQ%3D%3D?line=51'>52</a>\u001b[0m F_extra_prelim \u001b[39m=\u001b[39m features_extra_prelim\u001b[39m.\u001b[39mT \u001b[39m@\u001b[39m features_extra_prelim \u001b[39m/\u001b[39m N_extra\n\u001b[0;32m---> <a href='vscode-notebook-cell:/Users/eduardoravkin/Desktop/ml_research/phd/preconditioners/notebooks/21032023_nonlinear_kernel_variance.ipynb#X10sZmlsZQ%3D%3D?line=52'>53</a>\u001b[0m largest_eigval_F_prelim[i, j] \u001b[39m=\u001b[39m np\u001b[39m.\u001b[39;49mlinalg\u001b[39m.\u001b[39;49meigvalsh(F_extra_prelim)[\u001b[39m-\u001b[39m\u001b[39m1\u001b[39m]\n\u001b[1;32m     <a href='vscode-notebook-cell:/Users/eduardoravkin/Desktop/ml_research/phd/preconditioners/notebooks/21032023_nonlinear_kernel_variance.ipynb#X10sZmlsZQ%3D%3D?line=54'>55</a>\u001b[0m mu \u001b[39m=\u001b[39m np\u001b[39m.\u001b[39msqrt(n \u001b[39m/\u001b[39m largest_eigval_F_prelim[i, j])\n\u001b[1;32m     <a href='vscode-notebook-cell:/Users/eduardoravkin/Desktop/ml_research/phd/preconditioners/notebooks/21032023_nonlinear_kernel_variance.ipynb#X10sZmlsZQ%3D%3D?line=55'>56</a>\u001b[0m features, features_extra, features_all \u001b[39m=\u001b[39m [mu \u001b[39m*\u001b[39m x \u001b[39mfor\u001b[39;00m x \u001b[39min\u001b[39;00m [features_prelim, features_extra_prelim, features_all_prelim]]\n",
      "File \u001b[0;32m<__array_function__ internals>:180\u001b[0m, in \u001b[0;36meigvalsh\u001b[0;34m(*args, **kwargs)\u001b[0m\n",
      "File \u001b[0;32m/usr/local/Caskroom/miniforge/base/envs/preconditioners/lib/python3.9/site-packages/numpy/linalg/linalg.py:1163\u001b[0m, in \u001b[0;36meigvalsh\u001b[0;34m(a, UPLO)\u001b[0m\n\u001b[1;32m   1161\u001b[0m t, result_t \u001b[39m=\u001b[39m _commonType(a)\n\u001b[1;32m   1162\u001b[0m signature \u001b[39m=\u001b[39m \u001b[39m'\u001b[39m\u001b[39mD->d\u001b[39m\u001b[39m'\u001b[39m \u001b[39mif\u001b[39;00m isComplexType(t) \u001b[39melse\u001b[39;00m \u001b[39m'\u001b[39m\u001b[39md->d\u001b[39m\u001b[39m'\u001b[39m\n\u001b[0;32m-> 1163\u001b[0m w \u001b[39m=\u001b[39m gufunc(a, signature\u001b[39m=\u001b[39;49msignature, extobj\u001b[39m=\u001b[39;49mextobj)\n\u001b[1;32m   1164\u001b[0m \u001b[39mreturn\u001b[39;00m w\u001b[39m.\u001b[39mastype(_realType(result_t), copy\u001b[39m=\u001b[39m\u001b[39mFalse\u001b[39;00m)\n",
      "\u001b[0;31mKeyboardInterrupt\u001b[0m: "
     ]
    }
   ],
   "source": [
    "import matplotlib.pyplot as plt\n",
    "import numpy as np\n",
    "from preconditioners.datasets import generate_true_parameter, CenteredLinearGaussianDataset, generate_true_parameter, generate_c\n",
    "from torch.utils.data import random_split\n",
    "\n",
    "N = 20\n",
    "N_extra = 30000\n",
    "d = 30\n",
    "sigma2 = 2\n",
    "n_ns = 5\n",
    "n_lams = 3\n",
    "variances_damped = np.zeros((n_ns,n_lams))\n",
    "variances_ngd = np.zeros((n_ns,n_lams))\n",
    "variances_diff = np.zeros((n_ns,n_lams))\n",
    "\n",
    "largest_eigval_F_prelim = np.zeros((n_ns,n_lams))\n",
    "smallest_eigval_F_div_n = np.zeros((n_ns,n_lams))\n",
    "largest_eigval_F_div_n = np.zeros((n_ns,n_lams))\n",
    "\n",
    "\n",
    "ns = [int(x) for x in np.linspace(int(np.sqrt(2*N)),int(5*N),n_ns)]\n",
    "lams = np.logspace(1, -2, num=n_lams, endpoint=True, base=10.0)\n",
    "dampings = []\n",
    "\n",
    "k = 0\n",
    "for i in range(n_ns):\n",
    "    for j in range(n_lams):\n",
    "        k = k+1\n",
    "        print(f'iteration {k} of {n_ns*n_lams}')\n",
    "        n = ns[i]\n",
    "        p = n ** 2\n",
    "        lam = lams[j]\n",
    "        damping = lam * n # TODO: check if multiplying by n is correct\n",
    "        dampings.append(damping)\n",
    "\n",
    "        w_star = generate_true_parameter(d, r2=1, m=np.eye(d))\n",
    "        c = generate_c(ro=0.9, regime='autoregressive', d=d)\n",
    "        dataset = CenteredLinearGaussianDataset(w_star, c, n=N + N_extra, d=d, sigma2=sigma2)\n",
    "        train_dataset, extra_dataset = random_split(dataset, [N, N_extra])\n",
    "\n",
    "        X, X_extra, X_all = train_dataset[:][0].numpy(), extra_dataset[:][0].numpy(), dataset[:][0].numpy()\n",
    "        features_prelim, features_extra_prelim, features_all_prelim = feature_map(X, dimension=p), feature_map(X_extra, dimension=p), feature_map(X_all, dimension=p)\n",
    "\n",
    "        assert features_prelim.shape == (N, p)\n",
    "        assert features_extra_prelim.shape == (N_extra, p)\n",
    "        assert features_all_prelim.shape == (N + N_extra, p)\n",
    "\n",
    "        # TODO: Need to check how are the smallest and largest eigenvalues of the Fisher distributed        \n",
    "        # TODO: make sure the eigenvalues of the Fisher grow with n as they should\n",
    "\n",
    "        # TODO: check this again\n",
    "        F_extra_prelim = features_extra_prelim.T @ features_extra_prelim / N_extra\n",
    "        largest_eigval_F_prelim[i, j] = np.linalg.eigvalsh(F_extra_prelim)[-1]\n",
    "\n",
    "        mu = np.sqrt(n / largest_eigval_F_prelim[i, j])\n",
    "        features, features_extra, features_all = [mu * x for x in [features_prelim, features_extra_prelim, features_all_prelim]]\n",
    "        F_extra = mu**2 * F_extra_prelim\n",
    "\n",
    "        smallest_eigval_F_div_n[i, j] = np.linalg.eigvalsh(F_extra)[0]/n\n",
    "        largest_eigval_F_div_n[i, j] = np.linalg.eigvalsh(F_extra)[-1]/n\n",
    "        P_ngd = np.linalg.inv(F_extra)\n",
    "        P_damped = np.linalg.inv(F_extra + damping * np.eye(p))\n",
    "\n",
    "        variances_damped[i, j] = kernel_variance_interpolator(features=features, P=P_damped, F=F_extra, sigma2=sigma2) \n",
    "        variances_ngd[i, j] = kernel_variance_interpolator(features=features, P=P_ngd, F=F_extra, sigma2=sigma2)\n",
    "        variances_diff = variances_damped - variances_ngd\n",
    "\n"
   ]
  },
  {
   "cell_type": "code",
   "execution_count": 25,
   "metadata": {},
   "outputs": [],
   "source": [
    "features_all.shape"
   ]
  },
  {
   "cell_type": "code",
   "execution_count": 26,
   "metadata": {},
   "outputs": [
    {
     "data": {
      "text/plain": [
       "array([10.        ,  0.31622777,  0.01      ])"
      ]
     },
     "execution_count": 26,
     "metadata": {},
     "output_type": "execute_result"
    }
   ],
   "source": [
    "lams"
   ]
  },
  {
   "cell_type": "code",
   "execution_count": 27,
   "metadata": {},
   "outputs": [
    {
     "name": "stdout",
     "output_type": "stream",
     "text": [
      "[1.36010542e-03 7.25446147e-05 1.71546454e-07]\n",
      "[0.00123872 0.         0.        ]\n"
     ]
    }
   ],
   "source": [
    "print(variances_diff[0,:])\n",
    "print(variances_diff[-1,:])\n"
   ]
  },
  {
   "cell_type": "code",
   "execution_count": 28,
   "metadata": {},
   "outputs": [
    {
     "name": "stdout",
     "output_type": "stream",
     "text": [
      "[0.00136011 0.00117694 0.00118154 0.00122509 0.00123872]\n",
      "[1.71546454e-07 2.64309787e-07 4.93064044e-07 9.98466127e-07\n",
      " 0.00000000e+00]\n"
     ]
    }
   ],
   "source": [
    "print(variances_diff[:,0])\n",
    "print(variances_diff[:,-1])"
   ]
  },
  {
   "cell_type": "code",
   "execution_count": 29,
   "metadata": {},
   "outputs": [
    {
     "data": {
      "text/plain": [
       "<AxesSubplot: >"
      ]
     },
     "execution_count": 29,
     "metadata": {},
     "output_type": "execute_result"
    },
    {
     "data": {
      "image/png": "[encoded data removed]",
      "text/plain": [
       "<Figure size 432x288 with 2 Axes>"
      ]
     },
     "metadata": {
      "needs_background": "light"
     },
     "output_type": "display_data"
    }
   ],
   "source": [
    "import seaborn as sns\n",
    "sns.heatmap(variances_diff, cmap='viridis', xticklabels=[round(x, 1) for x in lams], yticklabels=ns)"
   ]
  },
  {
   "cell_type": "code",
   "execution_count": 30,
   "metadata": {},
   "outputs": [
    {
     "data": {
      "text/plain": [
       "<AxesSubplot: >"
      ]
     },
     "execution_count": 30,
     "metadata": {},
     "output_type": "execute_result"
    },
    {
     "data": {
      "image/png": "[encoded data removed]",
      "text/plain": [
       "<Figure size 432x288 with 2 Axes>"
      ]
     },
     "metadata": {
      "needs_background": "light"
     },
     "output_type": "display_data"
    }
   ],
   "source": [
    "sns.heatmap(largest_eigval_F_div_n, cmap='viridis', xticklabels=[round(x, 1) for x in lams], yticklabels=ns)"
   ]
  },
  {
   "cell_type": "code",
   "execution_count": null,
   "metadata": {},
   "outputs": [
    {
     "data": {
      "text/plain": [
       "<AxesSubplot: >"
      ]
     },
     "execution_count": 23,
     "metadata": {},
     "output_type": "execute_result"
    },
    {
     "data": {
      "image/png": "[encoded data removed]",
      "text/plain": [
       "<Figure size 432x288 with 2 Axes>"
      ]
     },
     "metadata": {
      "needs_background": "light"
     },
     "output_type": "display_data"
    }
   ],
   "source": [
    "sns.heatmap(smallest_eigval_F_div_n, cmap='viridis', xticklabels=[round(x, 1) for x in lams], yticklabels=ns)"
   ]
  }
 ],
 "metadata": {
  "kernelspec": {
   "display_name": "Python 3.10.4 ('preconditioners')",
   "language": "python",
   "name": "python3"
  },
  "language_info": {
   "codemirror_mode": {
    "name": "ipython",
    "version": 3
   },
   "file_extension": ".py",
   "mimetype": "text/x-python",
   "name": "python",
   "nbconvert_exporter": "python",
   "pygments_lexer": "ipython3",
   "version": "3.9.10"
  },
  "orig_nbformat": 4,
  "vscode": {
   "interpreter": {
    "hash": "4d8cd6e4c5e5d135b57c7f4afa48b47bbab254644d54890f770c6527a3ab3f54"
   }
  }
 },
 "nbformat": 4,
 "nbformat_minor": 2
}
