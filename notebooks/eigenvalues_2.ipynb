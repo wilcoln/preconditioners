{
 "cells": [
  {
   "cell_type": "markdown",
   "metadata": {},
   "source": [
    "Testing whether it is possible to say that the ith largest eigenvalue of XAX^T is close to the ith largest eigenvalue of XBX^T, when the ith largest eigenvalue of A and the ith largest eigenvalue of B are close, where X is a nxd matrix whose rows are orthonormal. The answer is no. It seems that a certain number of eigenvalues are unchanged and the other are anywhere between the lambda_max(A) - lambda_min(B)."
   ]
  },
  {
   "cell_type": "code",
   "execution_count": 32,
   "metadata": {},
   "outputs": [],
   "source": [
    "import numpy as np\n",
    "from preconditioners.utils import *\n",
    "from scipy.stats import ortho_group"
   ]
  },
  {
   "cell_type": "code",
   "execution_count": 33,
   "metadata": {},
   "outputs": [],
   "source": [
    "n = 12\n",
    "d = 20\n",
    "sigma2 = 0.05\n",
    "r2 = 1"
   ]
  },
  {
   "cell_type": "code",
   "execution_count": 34,
   "metadata": {},
   "outputs": [],
   "source": [
    "c = generate_c(ro=0.5, regime='autoregressive', d=d)\n",
    "c_inv = np.linalg.inv(c)"
   ]
  },
  {
   "cell_type": "code",
   "execution_count": 35,
   "metadata": {},
   "outputs": [
    {
     "name": "stderr",
     "output_type": "stream",
     "text": [
      "/Users/eduardoravkin/Desktop/ml_research/phd/preconditioners/src/preconditioners/utils.py:329: UserWarning: Warning, norms of datapoints are not sqrt(d)\n",
      "  warnings.warn('Warning, norms of datapoints are not sqrt(d)')\n"
     ]
    }
   ],
   "source": [
    "w_star = generate_true_parameter(d, r2=r2, m=np.eye(d))\n",
    "X, y, _ = generate_centered_linear_gaussian_data(w_star, c, n, d, sigma2)"
   ]
  },
  {
   "cell_type": "code",
   "execution_count": 36,
   "metadata": {},
   "outputs": [],
   "source": [
    "m = ortho_group.rvs(dim=d)\n",
    "m = m[:n,:]\n",
    "\n",
    "v = ortho_group.rvs(dim=d)\n",
    "D = np.diag(np.concatenate((np.ones(int(d/2)),10*np.ones(int(d/2)))))"
   ]
  },
  {
   "cell_type": "code",
   "execution_count": 37,
   "metadata": {},
   "outputs": [
    {
     "data": {
      "text/plain": [
       "(12, 20)"
      ]
     },
     "execution_count": 37,
     "metadata": {},
     "output_type": "execute_result"
    }
   ],
   "source": [
    "m_1.shape"
   ]
  },
  {
   "cell_type": "code",
   "execution_count": 62,
   "metadata": {},
   "outputs": [],
   "source": [
    "from scipy.stats import ortho_group\n",
    "n = 2\n",
    "d = 20\n",
    "\n",
    "m_1 = ortho_group.rvs(dim=d)\n",
    "m_1= m_1[:n,:]\n",
    "\n",
    "d1 = np.diag(np.arange(d))\n",
    "d2 = np.diag(np.random.uniform(0,1,d)+1)\n"
   ]
  },
  {
   "cell_type": "code",
   "execution_count": 63,
   "metadata": {},
   "outputs": [
    {
     "data": {
      "text/plain": [
       "8.317708426610503e-16"
      ]
     },
     "execution_count": 63,
     "metadata": {},
     "output_type": "execute_result"
    }
   ],
   "source": [
    "np.linalg.norm(m_1.dot(m_1.T) - np.eye(n))"
   ]
  },
  {
   "cell_type": "code",
   "execution_count": 64,
   "metadata": {},
   "outputs": [],
   "source": [
    "a = m_1.dot(d1).dot(m_1.T)\n",
    "b = m_1.dot(d2).dot(m_1.T)"
   ]
  },
  {
   "cell_type": "code",
   "execution_count": 65,
   "metadata": {},
   "outputs": [
    {
     "data": {
      "text/plain": [
       "array([ 4.47564658, 10.6706513 ])"
      ]
     },
     "execution_count": 65,
     "metadata": {},
     "output_type": "execute_result"
    }
   ],
   "source": [
    "np.linalg.eigh(a)[0]"
   ]
  },
  {
   "cell_type": "code",
   "execution_count": 66,
   "metadata": {},
   "outputs": [
    {
     "data": {
      "text/plain": [
       "array([1.43438595, 1.65404587])"
      ]
     },
     "execution_count": 66,
     "metadata": {},
     "output_type": "execute_result"
    }
   ],
   "source": [
    "np.linalg.eigh(b)[0]"
   ]
  },
  {
   "cell_type": "code",
   "execution_count": 67,
   "metadata": {},
   "outputs": [
    {
     "data": {
      "text/plain": [
       "array([ 5.91517188, 12.31955783])"
      ]
     },
     "execution_count": 67,
     "metadata": {},
     "output_type": "execute_result"
    }
   ],
   "source": [
    "np.linalg.eigh(a+b)[0]"
   ]
  },
  {
   "cell_type": "code",
   "execution_count": 43,
   "metadata": {},
   "outputs": [
    {
     "data": {
      "text/plain": [
       "array([[ 0.00000000e+00,  2.13603308e-01,  1.62731828e-01,\n",
       "         2.14600598e-01,  6.05159532e-02,  1.31525067e-01,\n",
       "         2.97249004e-01,  4.76670100e-01,  4.66157290e-01,\n",
       "         3.37116840e-01,  2.97637528e-01, -1.65957787e-02],\n",
       "       [-2.13603308e-01,  1.77635684e-15, -1.81115489e-02,\n",
       "        -1.14559449e-01, -1.84583336e-02, -5.55855675e-01,\n",
       "        -1.07527020e-01,  4.23107875e-01, -8.11095164e-01,\n",
       "        -6.47273296e-01, -2.21563809e-02, -2.28672465e-01],\n",
       "       [-1.62731828e-01,  1.81115489e-02,  0.00000000e+00,\n",
       "        -1.69940172e-01,  4.25712467e-02, -4.68813669e-02,\n",
       "         1.04732993e-01,  1.03272612e-01, -2.09188965e-01,\n",
       "        -2.24492534e-01, -1.67650849e-02,  4.52479114e-02],\n",
       "       [-2.14600598e-01,  1.14559449e-01,  1.69940172e-01,\n",
       "         0.00000000e+00,  2.27147258e-01,  2.28090702e-01,\n",
       "         4.71809535e-01, -5.68162643e-02, -1.22563322e-01,\n",
       "         4.25033525e-01,  2.24739513e-01, -2.86875339e-01],\n",
       "       [-6.05159532e-02,  1.84583336e-02, -4.25712467e-02,\n",
       "        -2.27147258e-01,  0.00000000e+00, -5.01081285e-03,\n",
       "         2.02964330e-01, -6.42153146e-02,  4.55164066e-01,\n",
       "        -2.79522273e-01, -5.73586490e-02, -9.47449492e-02],\n",
       "       [-1.31525067e-01,  5.55855675e-01,  4.68813669e-02,\n",
       "        -2.28090702e-01,  5.01081285e-03,  0.00000000e+00,\n",
       "         8.23982940e-01,  3.02115805e-01,  3.48678570e-01,\n",
       "         3.69280667e-02,  8.77886733e-02, -1.03278691e-02],\n",
       "       [-2.97249004e-01,  1.07527020e-01, -1.04732993e-01,\n",
       "        -4.71809535e-01, -2.02964330e-01, -8.23982940e-01,\n",
       "         0.00000000e+00,  5.02831149e-01, -7.50409872e-01,\n",
       "        -3.64852651e-01, -3.31807255e-01, -2.55632051e-01],\n",
       "       [-4.76670100e-01, -4.23107875e-01, -1.03272612e-01,\n",
       "         5.68162643e-02,  6.42153146e-02, -3.02115805e-01,\n",
       "        -5.02831149e-01,  0.00000000e+00,  1.28926285e-01,\n",
       "        -3.67709300e-01,  2.73821984e-01, -5.11026908e-01],\n",
       "       [-4.66157290e-01,  8.11095164e-01,  2.09188965e-01,\n",
       "         1.22563322e-01, -4.55164066e-01, -3.48678570e-01,\n",
       "         7.50409872e-01, -1.28926285e-01,  0.00000000e+00,\n",
       "         1.20278157e-02, -2.30728315e-01,  6.28119506e-02],\n",
       "       [-3.37116840e-01,  6.47273296e-01,  2.24492534e-01,\n",
       "        -4.25033525e-01,  2.79522273e-01, -3.69280667e-02,\n",
       "         3.64852651e-01,  3.67709300e-01, -1.20278157e-02,\n",
       "         0.00000000e+00,  3.87730298e-02, -1.87253093e-01],\n",
       "       [-2.97637528e-01,  2.21563809e-02,  1.67650849e-02,\n",
       "        -2.24739513e-01,  5.73586490e-02, -8.77886733e-02,\n",
       "         3.31807255e-01, -2.73821984e-01,  2.30728315e-01,\n",
       "        -3.87730298e-02,  0.00000000e+00, -8.05169160e-02],\n",
       "       [ 1.65957787e-02,  2.28672465e-01, -4.52479114e-02,\n",
       "         2.86875339e-01,  9.47449492e-02,  1.03278691e-02,\n",
       "         2.55632051e-01,  5.11026908e-01, -6.28119506e-02,\n",
       "         1.87253093e-01,  8.05169160e-02,  0.00000000e+00]])"
      ]
     },
     "execution_count": 43,
     "metadata": {},
     "output_type": "execute_result"
    }
   ],
   "source": [
    "b.dot(a) - a.dot(b)"
   ]
  },
  {
   "cell_type": "code",
   "execution_count": 62,
   "metadata": {},
   "outputs": [],
   "source": [
    "#A = np.diag(np.arange(d)+1)\n",
    "A = np.eye(d)\n",
    "B = A + D"
   ]
  },
  {
   "cell_type": "code",
   "execution_count": 63,
   "metadata": {},
   "outputs": [
    {
     "data": {
      "text/plain": [
       "array([1., 1., 1., 1., 1., 1., 1., 1., 1., 1., 1., 1.])"
      ]
     },
     "execution_count": 63,
     "metadata": {},
     "output_type": "execute_result"
    }
   ],
   "source": [
    "np.linalg.eig(m.dot(A.dot(m.T)))[0]"
   ]
  },
  {
   "cell_type": "code",
   "execution_count": 64,
   "metadata": {},
   "outputs": [
    {
     "data": {
      "text/plain": [
       "array([ 4.57344151,  5.60455737,  7.55892336,  8.28110331, 10.63472612,\n",
       "       10.11501633,  2.71866207,  2.11116061, 11.        , 11.        ,\n",
       "        2.        ,  2.        ])"
      ]
     },
     "execution_count": 64,
     "metadata": {},
     "output_type": "execute_result"
    }
   ],
   "source": [
    "np.linalg.eig(m.dot(B.dot(m.T)))[0]"
   ]
  },
  {
   "cell_type": "code",
   "execution_count": null,
   "metadata": {},
   "outputs": [],
   "source": []
  }
 ],
 "metadata": {
  "interpreter": {
   "hash": "2c2d541a5db7c05910ac06554e3a79dfe5bead4166f54a2f5ce9b07705345cc2"
  },
  "kernelspec": {
   "display_name": "Python 3.9.10 ('preconditioners')",
   "language": "python",
   "name": "python3"
  },
  "language_info": {
   "codemirror_mode": {
    "name": "ipython",
    "version": 3
   },
   "file_extension": ".py",
   "mimetype": "text/x-python",
   "name": "python",
   "nbconvert_exporter": "python",
   "pygments_lexer": "ipython3",
   "version": "3.9.10"
  },
  "orig_nbformat": 4
 },
 "nbformat": 4,
 "nbformat_minor": 2
}
