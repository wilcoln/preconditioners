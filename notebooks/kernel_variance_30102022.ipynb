{
 "cells": [
  {
   "cell_type": "code",
   "execution_count": 1,
   "metadata": {},
   "outputs": [],
   "source": [
    "import preconditioners\n",
    "import numpy as np\n",
    "import pandas as pd"
   ]
  },
  {
   "cell_type": "code",
   "execution_count": 45,
   "metadata": {},
   "outputs": [],
   "source": [
    "from preconditioners.datasets import generate_c, generate_centered_linear_gaussian_data, generate_true_parameter, generate_W_star\n",
    "\n",
    "def kernel_variance_interpolator(features : np.ndarray, P : np.ndarray, F : np.ndarray, sigma2 : np.float64) -> np.float64:\n",
    "    ''' Given Nxp feature matrix {features}, pxp symmetric preconditioner P and pxp true covariance matrix F, and the signal to noise ratio, this function returns the variance component of the risk \n",
    "    of the interpolator which is the limit of PGD which uses preconditioner P.'''\n",
    "    assert features.shape[1] == P.shape[0] == P.shape[1] == F.shape[0] == F.shape[1]\n",
    "    assert np.linalg.norm(P - P.T) < 1e-9, 'P must be symmetric.'\n",
    "\n",
    "    empirical_NTK = features.dot(P).dot(features.T)\n",
    "    empirical_NTK_inv = np.linalg.inv(empirical_NTK)\n",
    "    auxi_matrix = features.dot(P).dot(F).dot(P).dot(features.T)\n",
    "\n",
    "    return sigma2 * np.trace(empirical_NTK_inv.dot(auxi_matrix).dot(empirical_NTK_inv))"
   ]
  },
  {
   "cell_type": "code",
   "execution_count": 46,
   "metadata": {},
   "outputs": [],
   "source": [
    "# write some tests for the above function\n",
    "\n",
    "def kernel_variance_test(N, d, sigma2):\n",
    "\n",
    "    N = 50\n",
    "    d = 100\n",
    "    r2 = 1\n",
    "    sigma2 = 2\n",
    "\n",
    "    c = generate_c(ro=0.9, regime='autoregressive', d=d)\n",
    "    inv_c = np.linalg.inv(c)\n",
    "    X = np.random.multivariate_normal(mean=np.zeros(d), cov=c, size=N)\n",
    "\n",
    "    ngd_interpol_var = sigma2 * np.trace(np.linalg.inv(X.dot(inv_c).dot(X.T)))\n",
    "    pgd_interpol_var = kernel_variance_interpolator(X, P = inv_c, F = c, sigma2 = sigma2)\n",
    "    assert abs(ngd_interpol_var - pgd_interpol_var) < 1e-15, \\\n",
    "        f'variance of ngd interpolator is {ngd_interpol_var} but variance of pgd interpolator is {pgd_interpol_var}, their difference is {ngd_interpol_var - pgd_interpol_var}'\n",
    "\n",
    "def large_limit_test_min_norm(N, d, sigma2):\n",
    "    assert d > N, 'd must be larger than N.'\n",
    "    assert N >= 200, 'd and N must be large for this to hold.'\n",
    "\n",
    "    gamma = d/N\n",
    "    r2 = 1\n",
    "\n",
    "    c = np.eye(d)\n",
    "    X = np.random.multivariate_normal(mean=np.zeros(d), cov=c, size=N)\n",
    "    P = np.eye(d)\n",
    "    \n",
    "    analytic_var_limit = sigma2 / (gamma - 1)\n",
    "    experimental_var = kernel_variance_interpolator(features=X, P=P, F=c, sigma2=sigma2)\n",
    "    assert abs(analytic_var_limit - experimental_var) < 0.05, \\\n",
    "        f'observed variance was {experimental_var} but variance of limit is {analytic_var_limit}, their difference is {experimental_var - analytic_var_limit}'\n",
    "\n",
    "def large_limit_test_orlai(N, d, sigma2):\n",
    "    '''Same as function large_limit_test_min_norm but with autoregressive covariance c and preconditionre P=c^{-1}.'''\n",
    "    assert d > N, 'd must be larger than N.'\n",
    "    assert N >= 200, 'd and N must be large for this to hold.'\n",
    "\n",
    "    gamma = d/N\n",
    "    r2 = 1\n",
    "\n",
    "    c = generate_c(ro=0.9, regime='autoregressive', d=d)\n",
    "    X = np.random.multivariate_normal(mean=np.zeros(d), cov=c, size=N)\n",
    "    P = np.linalg.inv(c)\n",
    "    \n",
    "    analytic_var_limit = sigma2 / (gamma - 1)\n",
    "    experimental_var = kernel_variance_interpolator(features=X, P=P, F=c, sigma2=sigma2)\n",
    "    assert abs(analytic_var_limit - experimental_var) < 0.05, \\\n",
    "        f'observed variance was {experimental_var} but variance of limit is {analytic_var_limit}, their difference is {experimental_var - analytic_var_limit}'"
   ]
  },
  {
   "cell_type": "code",
   "execution_count": 43,
   "metadata": {},
   "outputs": [
    {
     "name": "stderr",
     "output_type": "stream",
     "text": [
      "/Users/eduardoravkin/Dropbox/My Mac (Eduard’s MacBook Pro)/Desktop/ml_research/PhD/preconditioners/src/preconditioners/datasets.py:153: UserWarning: Warning, norms of datapoints are not sqrt(d)\n",
      "  warnings.warn('Warning, norms of datapoints are not sqrt(d)')\n"
     ]
    }
   ],
   "source": [
    "# and test it\n",
    "\n",
    "kernel_variance_test(N=50, d=100, sigma2=2)\n",
    "large_limit_test_min_norm(N=200, d=400, sigma2=2)\n",
    "large_limit_test_orlai(N=200, d=400, sigma2=2)"
   ]
  },
  {
   "cell_type": "markdown",
   "metadata": {},
   "source": [
    "### Now compute the variance for different values of d, lambda for damped NGD, in the case of a linear feature map"
   ]
  },
  {
   "cell_type": "code",
   "execution_count": 141,
   "metadata": {},
   "outputs": [
    {
     "name": "stdout",
     "output_type": "stream",
     "text": [
      "iteration 1 of 100\n",
      "iteration 2 of 100\n",
      "iteration 3 of 100\n",
      "iteration 4 of 100\n",
      "iteration 5 of 100\n",
      "iteration 6 of 100\n",
      "iteration 7 of 100\n",
      "iteration 8 of 100\n",
      "iteration 9 of 100\n",
      "iteration 10 of 100\n",
      "iteration 11 of 100\n",
      "iteration 12 of 100\n",
      "iteration 13 of 100\n",
      "iteration 14 of 100\n",
      "iteration 15 of 100\n",
      "iteration 16 of 100\n",
      "iteration 17 of 100\n",
      "iteration 18 of 100\n",
      "iteration 19 of 100\n",
      "iteration 20 of 100\n",
      "iteration 21 of 100\n",
      "iteration 22 of 100\n",
      "iteration 23 of 100\n",
      "iteration 24 of 100\n",
      "iteration 25 of 100\n",
      "iteration 26 of 100\n",
      "iteration 27 of 100\n",
      "iteration 28 of 100\n",
      "iteration 29 of 100\n",
      "iteration 30 of 100\n",
      "iteration 31 of 100\n",
      "iteration 32 of 100\n",
      "iteration 33 of 100\n",
      "iteration 34 of 100\n",
      "iteration 35 of 100\n",
      "iteration 36 of 100\n",
      "iteration 37 of 100\n",
      "iteration 38 of 100\n",
      "iteration 39 of 100\n",
      "iteration 40 of 100\n",
      "iteration 41 of 100\n",
      "iteration 42 of 100\n",
      "iteration 43 of 100\n",
      "iteration 44 of 100\n",
      "iteration 45 of 100\n",
      "iteration 46 of 100\n",
      "iteration 47 of 100\n",
      "iteration 48 of 100\n",
      "iteration 49 of 100\n",
      "iteration 50 of 100\n",
      "iteration 51 of 100\n",
      "iteration 52 of 100\n",
      "iteration 53 of 100\n",
      "iteration 54 of 100\n",
      "iteration 55 of 100\n",
      "iteration 56 of 100\n",
      "iteration 57 of 100\n",
      "iteration 58 of 100\n",
      "iteration 59 of 100\n",
      "iteration 60 of 100\n",
      "iteration 61 of 100\n",
      "iteration 62 of 100\n",
      "iteration 63 of 100\n",
      "iteration 64 of 100\n",
      "iteration 65 of 100\n",
      "iteration 66 of 100\n",
      "iteration 67 of 100\n",
      "iteration 68 of 100\n",
      "iteration 69 of 100\n",
      "iteration 70 of 100\n",
      "iteration 71 of 100\n",
      "iteration 72 of 100\n",
      "iteration 73 of 100\n",
      "iteration 74 of 100\n",
      "iteration 75 of 100\n",
      "iteration 76 of 100\n",
      "iteration 77 of 100\n",
      "iteration 78 of 100\n",
      "iteration 79 of 100\n",
      "iteration 80 of 100\n",
      "iteration 81 of 100\n",
      "iteration 82 of 100\n",
      "iteration 83 of 100\n",
      "iteration 84 of 100\n",
      "iteration 85 of 100\n",
      "iteration 86 of 100\n",
      "iteration 87 of 100\n",
      "iteration 88 of 100\n",
      "iteration 89 of 100\n",
      "iteration 90 of 100\n",
      "iteration 91 of 100\n",
      "iteration 92 of 100\n",
      "iteration 93 of 100\n",
      "iteration 94 of 100\n",
      "iteration 95 of 100\n",
      "iteration 96 of 100\n",
      "iteration 97 of 100\n",
      "iteration 98 of 100\n",
      "iteration 99 of 100\n",
      "iteration 100 of 100\n"
     ]
    }
   ],
   "source": [
    "import matplotlib.pyplot as plt\n",
    "import numpy as np\n",
    "\n",
    "N = 20\n",
    "sigma2 = 2\n",
    "n_ds = 10\n",
    "n_lams = 10\n",
    "variances_damped = np.zeros((n_ds,n_lams))\n",
    "variances_ngd = np.zeros((n_ds,n_lams))\n",
    "variances_diff = np.zeros((n_ds,n_lams))    \n",
    "\n",
    "ds = [int(x) for x in np.linspace(2*N,65*N,n_ds)]\n",
    "ams = np.linspace(0.1,10,n_lams)\n",
    "lams = np.logspace(1, -2, num=n_lams, endpoint=True, base=10.0)\n",
    "dampings = []\n",
    "\n",
    "k = 0\n",
    "for i in range(n_ds):\n",
    "    for j in range(n_lams):\n",
    "        k = k+1\n",
    "        print(f'iteration {k} of {n_ds*n_lams}')\n",
    "        d = ds[i]\n",
    "        lam = lams[j]\n",
    "        damping = lam * np.sqrt(d)\n",
    "        dampings.append(damping)\n",
    "\n",
    "        c = generate_c(ro=0.9, regime='autoregressive', d=d) * np.sqrt(d)\n",
    "        X = np.random.multivariate_normal(mean=np.zeros(d), cov=c, size=N)\n",
    "        P_damped = np.linalg.inv(c + damping*np.eye(d))\n",
    "        P_ngd = np.linalg.inv(c)\n",
    "\n",
    "        variances_damped[i, j] = kernel_variance_interpolator(features=X, P=P_damped, F=c, sigma2=sigma2) \n",
    "        variances_ngd[i, j] = kernel_variance_interpolator(features=X, P=P_ngd, F=c, sigma2=sigma2)\n",
    "        variances_diff = variances_damped - variances_ngd\n",
    "\n"
   ]
  },
  {
   "cell_type": "code",
   "execution_count": 142,
   "metadata": {},
   "outputs": [
    {
     "data": {
      "text/plain": [
       "array([10.        ,  4.64158883,  2.15443469,  1.        ,  0.46415888,\n",
       "        0.21544347,  0.1       ,  0.04641589,  0.02154435,  0.01      ])"
      ]
     },
     "execution_count": 142,
     "metadata": {},
     "output_type": "execute_result"
    }
   ],
   "source": [
    "lams"
   ]
  },
  {
   "cell_type": "code",
   "execution_count": 143,
   "metadata": {},
   "outputs": [
    {
     "name": "stdout",
     "output_type": "stream",
     "text": [
      "[1.11926084 0.93645525 1.05980063 0.68017685 0.55880041 0.39021213\n",
      " 0.15861798 0.05448644 0.01464155 0.00293317]\n",
      "[1.35110172e-01 9.27543923e-02 6.19151494e-02 3.69573173e-02\n",
      " 2.01902050e-02 1.00124511e-02 4.13021916e-03 1.41554686e-03\n",
      " 4.25756892e-04 1.08286883e-04]\n"
     ]
    }
   ],
   "source": [
    "print(variances_diff[0,:])\n",
    "print(variances_diff[-1,:])\n"
   ]
  },
  {
   "cell_type": "code",
   "execution_count": 144,
   "metadata": {},
   "outputs": [
    {
     "name": "stdout",
     "output_type": "stream",
     "text": [
      "[1.11926084 0.86530317 0.52676624 0.38542393 0.27169901 0.21605438\n",
      " 0.19623586 0.16564945 0.14926675 0.13511017]\n",
      "[0.00293317 0.00076509 0.00043735 0.00030897 0.00022976 0.00018777\n",
      " 0.00015569 0.0001374  0.00012022 0.00010829]\n"
     ]
    }
   ],
   "source": [
    "print(variances_diff[:,0])\n",
    "print(variances_diff[:,-1])"
   ]
  },
  {
   "cell_type": "code",
   "execution_count": 145,
   "metadata": {},
   "outputs": [
    {
     "data": {
      "text/plain": [
       "<AxesSubplot: >"
      ]
     },
     "execution_count": 145,
     "metadata": {},
     "output_type": "execute_result"
    },
    {
     "data": {
      "image/png": "[encoded data removed]",
      "text/plain": [
       "<Figure size 640x480 with 2 Axes>"
      ]
     },
     "metadata": {},
     "output_type": "display_data"
    }
   ],
   "source": [
    "import seaborn as sns\n",
    "sns.heatmap(variances_diff, cmap='viridis', xticklabels=[round(x, 1) for x in lams], yticklabels=ds)"
   ]
  }
 ],
 "metadata": {
  "kernelspec": {
   "display_name": "Python 3.10.4 ('preconditioners')",
   "language": "python",
   "name": "python3"
  },
  "language_info": {
   "codemirror_mode": {
    "name": "ipython",
    "version": 3
   },
   "file_extension": ".py",
   "mimetype": "text/x-python",
   "name": "python",
   "nbconvert_exporter": "python",
   "pygments_lexer": "ipython3",
   "version": "3.10.4"
  },
  "orig_nbformat": 4,
  "vscode": {
   "interpreter": {
    "hash": "4d8cd6e4c5e5d135b57c7f4afa48b47bbab254644d54890f770c6527a3ab3f54"
   }
  }
 },
 "nbformat": 4,
 "nbformat_minor": 2
}
