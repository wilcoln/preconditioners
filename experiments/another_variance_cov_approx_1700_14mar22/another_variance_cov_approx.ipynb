{
 "cells": [
  {
   "cell_type": "markdown",
   "metadata": {},
   "source": [
    "not finished"
   ]
  },
  {
   "cell_type": "code",
   "execution_count": 1,
   "metadata": {},
   "outputs": [],
   "source": [
    "import sys, json\n",
    "from datetime import datetime as dt\n",
    "import numpy as np\n",
    "import scipy\n",
    "from preconditioners.utils import generate_c, generate_centered_gaussian_data\n",
    "from preconditioners.variance_cov_approx import *\n",
    "from sklearn.covariance import  GraphicalLasso"
   ]
  },
  {
   "cell_type": "code",
   "execution_count": 2,
   "metadata": {},
   "outputs": [],
   "source": [
    "# parameters of the run\n",
    "n_epochs = 100\n",
    "iter_per_epoch = 500\n",
    "tol = 0.00001\n",
    "n = 50\n",
    "d = 150\n",
    "simga_2 = 1\n",
    "ro = 0.5\n",
    "regime = 'autoregressive'\n",
    "regul_lambda = 0 # for log barrier use 0.001\n",
    "lr_start = 0.5\n",
    "lr_decay = 0.98\n",
    "\n",
    "params = {\n",
    "    'n_epochs' : n_epochs,\n",
    "    'iter_per_epoch' : iter_per_epoch,\n",
    "    'tol' : tol,\n",
    "    'n' : n,\n",
    "    'd' : d,\n",
    "    'sigma_2' : simga_2,\n",
    "    'ro' : ro,\n",
    "    'regime' : regime,\n",
    "    'regul_lambda' : regul_lambda,\n",
    "    'lr_start' : lr_start,\n",
    "    'lr_decay' : lr_decay\n",
    "}"
   ]
  },
  {
   "cell_type": "code",
   "execution_count": 3,
   "metadata": {},
   "outputs": [
    {
     "name": "stderr",
     "output_type": "stream",
     "text": [
      "/Users/eduardoravkin/Dropbox/My Mac (Eduard’s MacBook Pro)/Desktop/ml_research/PhD/preconditioners/src/preconditioners/utils.py:219: UserWarning: Warning, norms of datapoints are not sqrt(d)\n",
      "  warnings.warn('Warning, norms of datapoints are not sqrt(d)')\n"
     ]
    }
   ],
   "source": [
    "# generate data and initialization\n",
    "c = generate_c(ro=ro,\n",
    "                regime=regime,\n",
    "                n=n,\n",
    "                d=d\n",
    "                )\n",
    "w_star = np.random.multivariate_normal(mean=np.zeros(d), cov=np.eye(d))\n",
    "X, y, xi = generate_centered_gaussian_data(w_star,\n",
    "                                            c,\n",
    "                                            n=n,\n",
    "                                            d=d,\n",
    "                                            sigma2=simga_2,\n",
    "                                            fix_norm_of_x=False)\n",
    "\n",
    "# initialize C (cholesky), cov_inv, regul_lambda and learning rate\n",
    "# is this a good way to initialize?\n",
    "cov_empir = X.T.dot(X) / n\n",
    "cov_inv = np.linalg.inv(cov_empir + 0.1 * np.eye(d))\n",
    "C = scipy.linalg.cholesky(cov_inv) + 0.5 * generate_c(ro=0.2,\n",
    "                                                        regime='autoregressive',\n",
    "                                                        n=n,\n",
    "                                                        d=d,\n",
    "                                                        )"
   ]
  },
  {
   "cell_type": "code",
   "execution_count": 4,
   "metadata": {},
   "outputs": [],
   "source": [
    "\"\"\"\n",
    "Sample code automatically generated on 2022-03-14 17:09:14\n",
    "\n",
    "by geno from www.geno-project.org\n",
    "\n",
    "from input\n",
    "\n",
    "parameters\n",
    "  matrix X\n",
    "variables\n",
    "  matrix C\n",
    "min\n",
    "  tr(inv(X*C*C'*X'))\n",
    "st\n",
    "  tr(C*C') == 250\n",
    "\n",
    "\n",
    "The generated code is provided \"as is\" without warranty of any kind.\n",
    "\"\"\"\n",
    "\n",
    "from __future__ import division, print_function, absolute_import\n",
    "\n",
    "from math import inf\n",
    "from timeit import default_timer as timer\n",
    "try:\n",
    "    from genosolver import minimize, check_version\n",
    "    USE_GENO_SOLVER = True\n",
    "except ImportError:\n",
    "    from scipy.optimize import minimize\n",
    "    USE_GENO_SOLVER = False\n",
    "    WRN = 'WARNING: GENO solver not installed. Using SciPy solver instead.\\n' + \\\n",
    "          'Run:     pip install genosolver'\n",
    "    print('*' * 63)\n",
    "    print(WRN)\n",
    "    print('*' * 63)\n",
    "\n",
    "\n",
    "\n",
    "class GenoNLP:\n",
    "    def __init__(self, X, CInit, np):\n",
    "        self.np = np\n",
    "        self.X = X\n",
    "        self.CInit = CInit\n",
    "        assert isinstance(X, self.np.ndarray)\n",
    "        dim = X.shape\n",
    "        assert len(dim) == 2\n",
    "        self.X_rows = dim[0]\n",
    "        self.X_cols = dim[1]\n",
    "        assert isinstance(CInit, self.np.ndarray)\n",
    "        dim = CInit.shape\n",
    "        assert len(dim) == 2\n",
    "        self.C_rows = dim[0]\n",
    "        self.C_cols = dim[1]\n",
    "        self.C_size = self.C_rows * self.C_cols\n",
    "        # the following dim assertions need to hold for this problem\n",
    "        assert self.X_cols == self.C_rows\n",
    "        assert self.X_cols == self.C_rows\n",
    "\n",
    "    def getLowerBounds(self):\n",
    "        bounds = []\n",
    "        bounds += [-inf] * self.C_size\n",
    "        return self.np.array(bounds)\n",
    "\n",
    "    def getUpperBounds(self):\n",
    "        bounds = []\n",
    "        bounds += [inf] * self.C_size\n",
    "        return self.np.array(bounds)\n",
    "\n",
    "    def getStartingPoint(self):\n",
    "        return self.CInit.reshape(-1)\n",
    "\n",
    "    def variables(self, _x):\n",
    "        C = _x\n",
    "        C = C.reshape(self.C_rows, self.C_cols)\n",
    "        return C\n",
    "\n",
    "    def fAndG(self, _x):\n",
    "        C = self.variables(_x)\n",
    "        T_0 = self.np.linalg.inv((((self.X).dot(C)).dot(C.T)).dot(self.X.T))\n",
    "        f_ = self.np.trace(T_0)\n",
    "        g_0 = -(2 * ((((self.X.T).dot(T_0)).dot(T_0)).dot(self.X)).dot(C))\n",
    "        g_ = g_0.reshape(-1)\n",
    "        return f_, g_\n",
    "\n",
    "    def functionValueEqConstraint000(self, _x):\n",
    "        C = self.variables(_x)\n",
    "        f = (self.np.trace((C).dot(C.T)) - 250)\n",
    "        return f\n",
    "\n",
    "    def gradientEqConstraint000(self, _x):\n",
    "        C = self.variables(_x)\n",
    "        g_ = ((2 * C)).reshape(-1)\n",
    "        return g_\n",
    "\n",
    "    def jacProdEqConstraint000(self, _x, _v):\n",
    "        C = self.variables(_x)\n",
    "        gv_ = (((2 * _v) * C)).reshape(-1)\n",
    "        return gv_\n",
    "\n",
    "def solve(X, CInit, np):\n",
    "    start = timer()\n",
    "    NLP = GenoNLP(X, CInit, np)\n",
    "    x0 = NLP.getStartingPoint()\n",
    "    lb = NLP.getLowerBounds()\n",
    "    ub = NLP.getUpperBounds()\n",
    "    # These are the standard solver options, they can be omitted.\n",
    "    options = {'eps_pg' : 1E-4,\n",
    "               'constraint_tol' : 1E-4,\n",
    "               'max_iter' : 3000,\n",
    "               'm' : 10,\n",
    "               'ls' : 0,\n",
    "               'verbose' : 5  # Set it to 0 to fully mute it.\n",
    "              }\n",
    "\n",
    "    if USE_GENO_SOLVER:\n",
    "        # Check if installed GENO solver version is sufficient.\n",
    "        check_version('0.1.0')\n",
    "        constraints = ({'type' : 'eq',\n",
    "                        'fun' : NLP.functionValueEqConstraint000,\n",
    "                        'jacprod' : NLP.jacProdEqConstraint000})\n",
    "        result = minimize(NLP.fAndG, x0, lb=lb, ub=ub, options=options,\n",
    "                      constraints=constraints, np=np)\n",
    "    else:\n",
    "        constraints = ({'type' : 'eq',\n",
    "                        'fun' : NLP.functionValueEqConstraint000,\n",
    "                        'jac' : NLP.gradientEqConstraint000})\n",
    "        result = minimize(NLP.fAndG, x0, jac=True, method='SLSQP',\n",
    "                          bounds=list(zip(lb, ub)),\n",
    "                          constraints=constraints)\n",
    "\n",
    "    # assemble solution and map back to original problem\n",
    "    C = NLP.variables(result.x)\n",
    "    elapsed = timer() - start\n",
    "    print('solving took %.3f sec' % elapsed)\n",
    "    return result, C\n",
    "\n",
    "def generateRandomData(np):\n",
    "    np.random.seed(0)\n",
    "    X = np.random.randn(3, 3)\n",
    "    CInit = np.random.randn(3, 3)\n",
    "    return X, CInit\n",
    "\n",
    "\n",
    "import numpy as np\n",
    "# import cupy as np  # uncomment this for GPU usage\n",
    "print('solving ...')\n",
    "result, C = solve(X, CInit = C, np=np)"
   ]
  },
  {
   "cell_type": "code",
   "execution_count": 104,
   "metadata": {},
   "outputs": [
    {
     "data": {
      "text/plain": [
       "array([[1.00000000e+00, 5.00000000e-01, 2.50000000e-01, ...,\n",
       "        5.60519386e-45, 2.80259693e-45, 1.40129846e-45],\n",
       "       [5.00000000e-01, 1.00000000e+00, 5.00000000e-01, ...,\n",
       "        1.12103877e-44, 5.60519386e-45, 2.80259693e-45],\n",
       "       [2.50000000e-01, 5.00000000e-01, 1.00000000e+00, ...,\n",
       "        2.24207754e-44, 1.12103877e-44, 5.60519386e-45],\n",
       "       ...,\n",
       "       [5.60519386e-45, 1.12103877e-44, 2.24207754e-44, ...,\n",
       "        1.00000000e+00, 5.00000000e-01, 2.50000000e-01],\n",
       "       [2.80259693e-45, 5.60519386e-45, 1.12103877e-44, ...,\n",
       "        5.00000000e-01, 1.00000000e+00, 5.00000000e-01],\n",
       "       [1.40129846e-45, 2.80259693e-45, 5.60519386e-45, ...,\n",
       "        2.50000000e-01, 5.00000000e-01, 1.00000000e+00]])"
      ]
     },
     "execution_count": 104,
     "metadata": {},
     "output_type": "execute_result"
    }
   ],
   "source": [
    "c"
   ]
  },
  {
   "cell_type": "code",
   "execution_count": 105,
   "metadata": {},
   "outputs": [
    {
     "data": {
      "text/plain": [
       "array([[ 1.33333333e+000, -6.66666667e-001, -5.55111512e-017, ...,\n",
       "         4.14867685e-061,  2.07433843e-061, -1.03716921e-061],\n",
       "       [-6.66666667e-001,  1.66666667e+000, -6.66666667e-001, ...,\n",
       "        -5.76344236e-224, -2.88172118e-224,  5.76344236e-224],\n",
       "       [ 0.00000000e+000, -6.66666667e-001,  1.66666667e+000, ...,\n",
       "        -2.07649895e-207, -1.03824947e-207,  2.07649895e-207],\n",
       "       ...,\n",
       "       [ 0.00000000e+000,  0.00000000e+000,  0.00000000e+000, ...,\n",
       "         1.66666667e+000, -6.66666667e-001,  1.85037171e-017],\n",
       "       [ 0.00000000e+000,  0.00000000e+000,  0.00000000e+000, ...,\n",
       "        -6.66666667e-001,  1.66666667e+000, -6.66666667e-001],\n",
       "       [ 0.00000000e+000,  0.00000000e+000,  0.00000000e+000, ...,\n",
       "         0.00000000e+000, -6.66666667e-001,  1.33333333e+000]])"
      ]
     },
     "execution_count": 105,
     "metadata": {},
     "output_type": "execute_result"
    }
   ],
   "source": [
    "np.linalg.inv(c)"
   ]
  },
  {
   "cell_type": "code",
   "execution_count": 106,
   "metadata": {},
   "outputs": [
    {
     "data": {
      "text/plain": [
       "array([[ 9.89520193e+00, -3.92320164e-01,  2.29962207e-01, ...,\n",
       "         6.17563556e-01,  2.78341444e-01, -4.95977851e-01],\n",
       "       [-3.92320164e-01,  1.03365965e+01, -6.09590015e-01, ...,\n",
       "        -6.93417536e-02,  2.73705724e-02, -3.28900260e-01],\n",
       "       [ 2.29962207e-01, -6.09590015e-01,  1.04415231e+01, ...,\n",
       "         1.24231820e-01, -2.04036753e-01,  7.22706262e-03],\n",
       "       ...,\n",
       "       [ 6.17563556e-01, -6.93417536e-02,  1.24231820e-01, ...,\n",
       "         5.66291624e+00,  3.57854622e-01,  9.58126172e-02],\n",
       "       [ 2.78341444e-01,  2.73705724e-02, -2.04036753e-01, ...,\n",
       "         3.57854622e-01,  5.10210840e+00,  5.18076710e-01],\n",
       "       [-4.95977851e-01, -3.28900260e-01,  7.22706262e-03, ...,\n",
       "         9.58126172e-02,  5.18076710e-01,  5.51519680e+00]])"
      ]
     },
     "execution_count": 106,
     "metadata": {},
     "output_type": "execute_result"
    }
   ],
   "source": [
    "C.dot(C.T)"
   ]
  },
  {
   "cell_type": "code",
   "execution_count": 107,
   "metadata": {},
   "outputs": [
    {
     "data": {
      "text/plain": [
       "array([[ 1.22583942e-01,  9.36113205e-03,  6.84443450e-04, ...,\n",
       "        -2.32679769e-02, -3.90986181e-03,  1.60182080e-02],\n",
       "       [ 9.36113205e-03,  1.19075609e-01,  1.28861926e-02, ...,\n",
       "         5.41165173e-03, -5.90506178e-05,  6.88490694e-03],\n",
       "       [ 6.84443450e-04,  1.28861926e-02,  1.19912803e-01, ...,\n",
       "        -6.13828992e-03,  1.25014925e-02, -2.11518247e-03],\n",
       "       ...,\n",
       "       [-2.32679769e-02,  5.41165173e-03, -6.13828992e-03, ...,\n",
       "         2.48439364e-01, -3.82721064e-02,  4.80840389e-04],\n",
       "       [-3.90986181e-03, -5.90506178e-05,  1.25014925e-02, ...,\n",
       "        -3.82721064e-02,  3.39630761e-01, -5.35809042e-02],\n",
       "       [ 1.60182080e-02,  6.88490694e-03, -2.11518247e-03, ...,\n",
       "         4.80840389e-04, -5.35809042e-02,  2.71021784e-01]])"
      ]
     },
     "execution_count": 107,
     "metadata": {},
     "output_type": "execute_result"
    }
   ],
   "source": [
    "np.linalg.inv(C.dot(C.T))"
   ]
  },
  {
   "cell_type": "code",
   "execution_count": 108,
   "metadata": {},
   "outputs": [
    {
     "data": {
      "text/plain": [
       "array([[ 0.9030155 ,  0.43696357,  0.19571924, ...,  0.06978713,\n",
       "         0.06980953,  0.02296126],\n",
       "       [ 0.43696357,  0.99124956,  0.61667035, ...,  0.07869875,\n",
       "         0.02209223,  0.07085664],\n",
       "       [ 0.19571924,  0.61667035,  0.96804366, ...,  0.10616198,\n",
       "        -0.09106277,  0.02197274],\n",
       "       ...,\n",
       "       [ 0.06978713,  0.07869875,  0.10616198, ...,  1.01270856,\n",
       "         0.5186546 ,  0.38425201],\n",
       "       [ 0.06980953,  0.02209223, -0.09106277, ...,  0.5186546 ,\n",
       "         0.98808604,  0.51923817],\n",
       "       [ 0.02296126,  0.07085664,  0.02197274, ...,  0.38425201,\n",
       "         0.51923817,  1.05212325]])"
      ]
     },
     "execution_count": 108,
     "metadata": {},
     "output_type": "execute_result"
    }
   ],
   "source": [
    "cov_empir"
   ]
  },
  {
   "cell_type": "code",
   "execution_count": 109,
   "metadata": {},
   "outputs": [],
   "source": [
    "gl = GraphicalLasso(assume_centered=True, alpha=0.25, tol=1e-4).fit(X)"
   ]
  },
  {
   "cell_type": "code",
   "execution_count": 110,
   "metadata": {},
   "outputs": [
    {
     "data": {
      "text/plain": [
       "array([[ 1.2852561 , -0.18191025, -0.        , ..., -0.        ,\n",
       "        -0.        , -0.        ],\n",
       "       [-0.18191025,  1.30695299, -0.42002534, ..., -0.        ,\n",
       "        -0.        , -0.        ],\n",
       "       [-0.        , -0.42002534,  1.40382108, ..., -0.        ,\n",
       "         0.        , -0.        ],\n",
       "       ...,\n",
       "       [-0.        , -0.        , -0.        , ...,  1.11683749,\n",
       "        -0.26577359, -0.06358468],\n",
       "       [-0.        , -0.        ,  0.        , ..., -0.26577359,\n",
       "         1.23859462, -0.25257571],\n",
       "       [-0.        , -0.        , -0.        , ..., -0.06358468,\n",
       "        -0.25257571,  1.08902042]])"
      ]
     },
     "execution_count": 110,
     "metadata": {},
     "output_type": "execute_result"
    }
   ],
   "source": [
    "gl.precision_"
   ]
  },
  {
   "cell_type": "code",
   "execution_count": 111,
   "metadata": {},
   "outputs": [
    {
     "name": "stdout",
     "output_type": "stream",
     "text": [
      "101.58320285676734\n",
      "15.486163684815262\n",
      "9.677548073635403\n",
      "14.087031072743628\n"
     ]
    }
   ],
   "source": [
    "print(np.linalg.norm(C.dot(C.T) - np.linalg.inv(c)))\n",
    "print(np.linalg.norm(C.dot(C.T)/10 - np.linalg.inv(c)))\n",
    "print(np.linalg.norm(gl.precision_ - np.linalg.inv(c)))\n",
    "print(np.linalg.norm(np.eye(d) - np.linalg.inv(c)))"
   ]
  },
  {
   "cell_type": "code",
   "execution_count": 112,
   "metadata": {},
   "outputs": [
    {
     "name": "stdout",
     "output_type": "stream",
     "text": [
      "9.687289015586297\n",
      "5.619379139424423\n",
      "8.124038404635959\n"
     ]
    }
   ],
   "source": [
    "print(np.linalg.norm(np.diag(C.dot(C.T)/10) - np.diag(np.linalg.inv(c))))\n",
    "print(np.linalg.norm(np.diag(gl.precision_) - np.diag(np.linalg.inv(c))))\n",
    "print(np.linalg.norm(np.diag(np.eye(d)) - np.diag(np.linalg.inv(c))))"
   ]
  },
  {
   "cell_type": "code",
   "execution_count": 113,
   "metadata": {},
   "outputs": [
    {
     "name": "stdout",
     "output_type": "stream",
     "text": [
      "[1.2852561  1.30695299 1.40382108 1.21949981 1.23904836 1.31463549\n",
      " 1.2039896  1.02636606 1.33756259 1.47205837]\n",
      "[0.89520193 1.33659652 1.44152307 1.33496846 1.65222431 1.52922659\n",
      " 1.75320315 1.05496604 1.41765909 1.74532465]\n",
      "[1.33333333 1.66666667 1.66666667 1.66666667 1.66666667 1.66666667\n",
      " 1.66666667 1.66666667 1.66666667 1.66666667]\n"
     ]
    }
   ],
   "source": [
    "print(np.diag(gl.precision_)[:10])\n",
    "print(np.diag(C.dot(C.T)-9)[:10])\n",
    "print(np.diag(np.linalg.inv(c))[:10])"
   ]
  },
  {
   "cell_type": "code",
   "execution_count": null,
   "metadata": {},
   "outputs": [],
   "source": []
  }
 ],
 "metadata": {
  "interpreter": {
   "hash": "4d8cd6e4c5e5d135b57c7f4afa48b47bbab254644d54890f770c6527a3ab3f54"
  },
  "kernelspec": {
   "display_name": "Python 3.9.10 ('preconditioners')",
   "language": "python",
   "name": "python3"
  },
  "language_info": {
   "codemirror_mode": {
    "name": "ipython",
    "version": 3
   },
   "file_extension": ".py",
   "mimetype": "text/x-python",
   "name": "python",
   "nbconvert_exporter": "python",
   "pygments_lexer": "ipython3",
   "version": "3.9.10"
  },
  "orig_nbformat": 4
 },
 "nbformat": 4,
 "nbformat_minor": 2
}
